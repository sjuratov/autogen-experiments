{
 "cells": [
  {
   "cell_type": "code",
   "execution_count": 1,
   "metadata": {},
   "outputs": [],
   "source": [
    "# Warning control\n",
    "import warnings\n",
    "warnings.filterwarnings('ignore')"
   ]
  },
  {
   "cell_type": "code",
   "execution_count": 2,
   "metadata": {},
   "outputs": [],
   "source": [
    "from typing import Sequence\n",
    "\n",
    "from autogen_agentchat.agents import AssistantAgent\n",
    "from autogen_agentchat.conditions import MaxMessageTermination, TextMentionTermination\n",
    "from autogen_agentchat.messages import AgentEvent, ChatMessage\n",
    "from autogen_agentchat.teams import SelectorGroupChat\n",
    "from autogen_agentchat.ui import Console\n",
    "from autogen_ext.models.openai import AzureOpenAIChatCompletionClient\n",
    "\n",
    "from dotenv import load_dotenv\n",
    "import os"
   ]
  },
  {
   "cell_type": "code",
   "execution_count": 3,
   "metadata": {},
   "outputs": [],
   "source": [
    "# Load environment variables from a .env file\n",
    "load_dotenv()\n",
    "\n",
    "# Access environment variables\n",
    "AZURE_OPENAI_API_KEY = os.getenv('AZURE_OPENAI_API_KEY')\n",
    "AZURE_OPENAI_ENDPOINT = os.getenv('AZURE_OPENAI_ENDPOINT')\n",
    "AZURE_OPENAI_DEPLOYMENT = os.getenv('AZURE_OPENAI_DEPLOYMENT')\n",
    "API_NINJAS_API_KEY=os.getenv('API_NINJAS_API_KEY')"
   ]
  },
  {
   "cell_type": "code",
   "execution_count": 4,
   "metadata": {},
   "outputs": [],
   "source": [
    "# Note: This example uses mock tools instead of real APIs for demonstration purposes\n",
    "def search_web_tool(query: str) -> str:\n",
    "    if \"2006-2007\" in query:\n",
    "        return \"\"\"Here are the total points scored by Miami Heat players in the 2006-2007 season:\n",
    "        Udonis Haslem: 844 points\n",
    "        Dwayne Wade: 1397 points\n",
    "        James Posey: 550 points\n",
    "        ...\n",
    "        \"\"\"\n",
    "    elif \"2007-2008\" in query:\n",
    "        return \"The number of total rebounds for Dwayne Wade in the Miami Heat season 2007-2008 is 214.\"\n",
    "    elif \"2008-2009\" in query:\n",
    "        return \"The number of total rebounds for Dwayne Wade in the Miami Heat season 2008-2009 is 398.\"\n",
    "    return \"No data found.\"\n",
    "\n",
    "\n",
    "def percentage_change_tool(start: float, end: float) -> float:\n",
    "    return ((end - start) / start) * 100"
   ]
  },
  {
   "cell_type": "code",
   "execution_count": 5,
   "metadata": {},
   "outputs": [],
   "source": [
    "model_client = AzureOpenAIChatCompletionClient(\n",
    "    model=AZURE_OPENAI_DEPLOYMENT,\n",
    "    api_version=\"2024-02-01\",\n",
    "    azure_endpoint=AZURE_OPENAI_ENDPOINT,\n",
    "    azure_key=AZURE_OPENAI_API_KEY,\n",
    "    model_capabilities={\n",
    "        \"vision\":True,\n",
    "        \"function_calling\":True,\n",
    "        \"json_output\":True,\n",
    "    }\n",
    ")\n",
    "\n",
    "planning_agent = AssistantAgent(\n",
    "    \"PlanningAgent\",\n",
    "    description=\"An agent for planning tasks, this agent should be the first to engage when given a new task.\",\n",
    "    model_client=model_client,\n",
    "    system_message=\"\"\"\n",
    "    You are a planning agent.\n",
    "    Your job is to break down complex tasks into smaller, manageable subtasks.\n",
    "    Your team members are:\n",
    "        Web search agent: Searches for information\n",
    "        Data analyst: Performs calculations\n",
    "\n",
    "    You only plan and delegate tasks - you do not execute them yourself.\n",
    "\n",
    "    When assigning tasks, use this format:\n",
    "    1. <agent> : <task>\n",
    "\n",
    "    After all tasks are complete, summarize the findings and end with \"TERMINATE\".\n",
    "    \"\"\",\n",
    ")\n",
    "\n",
    "web_search_agent = AssistantAgent(\n",
    "    \"WebSearchAgent\",\n",
    "    description=\"A web search agent.\",\n",
    "    tools=[search_web_tool],\n",
    "    model_client=model_client,\n",
    "    system_message=\"\"\"\n",
    "    You are a web search agent.\n",
    "    Your only tool is search_tool - use it to find information.\n",
    "    You make only one search call at a time.\n",
    "    Once you have the results, you never do calculations based on them.\n",
    "    \"\"\",\n",
    ")\n",
    "\n",
    "data_analyst_agent = AssistantAgent(\n",
    "    \"DataAnalystAgent\",\n",
    "    description=\"A data analyst agent. Useful for performing calculations.\",\n",
    "    model_client=model_client,\n",
    "    tools=[percentage_change_tool],\n",
    "    system_message=\"\"\"\n",
    "    You are a data analyst.\n",
    "    Given the tasks you have been assigned, you should analyze the data and provide results using the tools provided.\n",
    "    \"\"\",\n",
    ")"
   ]
  },
  {
   "cell_type": "code",
   "execution_count": 6,
   "metadata": {},
   "outputs": [],
   "source": [
    "text_mention_termination = TextMentionTermination(\"TERMINATE\")\n",
    "max_messages_termination = MaxMessageTermination(max_messages=25)\n",
    "termination = text_mention_termination | max_messages_termination\n",
    "\n",
    "team = SelectorGroupChat(\n",
    "    [planning_agent, web_search_agent, data_analyst_agent],\n",
    "    model_client=model_client,\n",
    "    termination_condition=termination,\n",
    ")"
   ]
  },
  {
   "cell_type": "code",
   "execution_count": 7,
   "metadata": {},
   "outputs": [
    {
     "name": "stdout",
     "output_type": "stream",
     "text": [
      "---------- user ----------\n",
      "Who was the Miami Heat player with the highest points in the 2006-2007 season, and what was the percentage change in his total rebounds between the 2007-2008 and 2008-2009 seasons?\n",
      "---------- WebSearchAgent ----------\n",
      "[FunctionCall(id='call_g15qBiPg1fVo1cmxJV8et93w', arguments='{\"query\": \"Miami Heat player highest points 2006-2007 season\"}', name='search_web_tool'), FunctionCall(id='call_wTLjYyobCFhgWAqoqyQLKgpq', arguments='{\"query\": \"Player total rebounds Miami Heat 2007-2008 season 2008-2009 season\"}', name='search_web_tool')]\n",
      "[Prompt tokens: 142, Completion tokens: 75]\n",
      "---------- WebSearchAgent ----------\n",
      "[FunctionExecutionResult(content='Here are the total points scored by Miami Heat players in the 2006-2007 season:\\n        Udonis Haslem: 844 points\\n        Dwayne Wade: 1397 points\\n        James Posey: 550 points\\n        ...\\n        ', call_id='call_g15qBiPg1fVo1cmxJV8et93w'), FunctionExecutionResult(content='The number of total rebounds for Dwayne Wade in the Miami Heat season 2007-2008 is 214.', call_id='call_wTLjYyobCFhgWAqoqyQLKgpq')]\n",
      "---------- WebSearchAgent ----------\n",
      "Here are the total points scored by Miami Heat players in the 2006-2007 season:\n",
      "        Udonis Haslem: 844 points\n",
      "        Dwayne Wade: 1397 points\n",
      "        James Posey: 550 points\n",
      "        ...\n",
      "        \n",
      "The number of total rebounds for Dwayne Wade in the Miami Heat season 2007-2008 is 214.\n"
     ]
    },
    {
     "name": "stderr",
     "output_type": "stream",
     "text": [
      "Selector selected the previous speaker: WebSearchAgent\n"
     ]
    },
    {
     "name": "stdout",
     "output_type": "stream",
     "text": [
      "---------- WebSearchAgent ----------\n",
      "The Miami Heat player with the highest points in the 2006-2007 season was Dwyane Wade, who scored 1,397 points.\n",
      "\n",
      "As for the percentage change in his total rebounds between the 2007-2008 and 2008-2009 seasons, I would need the rebound data for the 2008-2009 season to determine that.\n",
      "[Prompt tokens: 315, Completion tokens: 77]\n"
     ]
    },
    {
     "name": "stderr",
     "output_type": "stream",
     "text": [
      "Selector selected the previous speaker: WebSearchAgent\n"
     ]
    },
    {
     "name": "stdout",
     "output_type": "stream",
     "text": [
      "---------- WebSearchAgent ----------\n",
      "[FunctionCall(id='call_Qog8hUKMtKgx8yc6RZVjlZev', arguments='{\"query\":\"Dwyane Wade total rebounds Miami Heat 2008-2009 season\"}', name='search_web_tool')]\n",
      "[Prompt tokens: 399, Completion tokens: 29]\n",
      "---------- WebSearchAgent ----------\n",
      "[FunctionExecutionResult(content='The number of total rebounds for Dwayne Wade in the Miami Heat season 2008-2009 is 398.', call_id='call_Qog8hUKMtKgx8yc6RZVjlZev')]\n",
      "---------- WebSearchAgent ----------\n",
      "The number of total rebounds for Dwayne Wade in the Miami Heat season 2008-2009 is 398.\n",
      "---------- DataAnalystAgent ----------\n",
      "[FunctionCall(id='call_nnWZ20gNP5LnK8gcVrYU9P2v', arguments='{\"start\":214,\"end\":398}', name='percentage_change_tool')]\n",
      "[Prompt tokens: 333, Completion tokens: 20]\n",
      "---------- DataAnalystAgent ----------\n",
      "[FunctionExecutionResult(content='85.98130841121495', call_id='call_nnWZ20gNP5LnK8gcVrYU9P2v')]\n",
      "---------- DataAnalystAgent ----------\n",
      "85.98130841121495\n",
      "---------- PlanningAgent ----------\n",
      "1. Web search agent: Research the Miami Heat player with the highest points in the 2006-2007 season.\n",
      "2. Web search agent: Discover Dwayne Wade's total rebounds in the 2007-2008 season.\n",
      "3. Web search agent: Obtain Dwayne Wade's total rebounds in the 2008-2009 season.\n",
      "4. Data analyst: Compute the percentage change in Dwyane Wade's total rebounds between the 2007-2008 and 2008-2009 seasons.\n",
      "\n",
      "Results:\n",
      "- The Miami Heat player with the highest points in the 2006-2007 season was Dwyane Wade with 1397 points.\n",
      "- The total rebounds for Dwyane Wade in the 2007-2008 season were 214.\n",
      "- The total rebounds for Dwyane Wade in the 2008-2009 season were 398.\n",
      "- The percentage change in his total rebounds between these seasons was approximately 85.98%.\n",
      "\n",
      "TERMINATE\n",
      "[Prompt tokens: 376, Completion tokens: 201]\n",
      "---------- Summary ----------\n",
      "Number of messages: 12\n",
      "Finish reason: Text 'TERMINATE' mentioned\n",
      "Total prompt tokens: 1565\n",
      "Total completion tokens: 402\n",
      "Duration: 8.16 seconds\n"
     ]
    },
    {
     "data": {
      "text/plain": [
       "TaskResult(messages=[TextMessage(source='user', models_usage=None, content='Who was the Miami Heat player with the highest points in the 2006-2007 season, and what was the percentage change in his total rebounds between the 2007-2008 and 2008-2009 seasons?', type='TextMessage'), ToolCallRequestEvent(source='WebSearchAgent', models_usage=RequestUsage(prompt_tokens=142, completion_tokens=75), content=[FunctionCall(id='call_g15qBiPg1fVo1cmxJV8et93w', arguments='{\"query\": \"Miami Heat player highest points 2006-2007 season\"}', name='search_web_tool'), FunctionCall(id='call_wTLjYyobCFhgWAqoqyQLKgpq', arguments='{\"query\": \"Player total rebounds Miami Heat 2007-2008 season 2008-2009 season\"}', name='search_web_tool')], type='ToolCallRequestEvent'), ToolCallExecutionEvent(source='WebSearchAgent', models_usage=None, content=[FunctionExecutionResult(content='Here are the total points scored by Miami Heat players in the 2006-2007 season:\\n        Udonis Haslem: 844 points\\n        Dwayne Wade: 1397 points\\n        James Posey: 550 points\\n        ...\\n        ', call_id='call_g15qBiPg1fVo1cmxJV8et93w'), FunctionExecutionResult(content='The number of total rebounds for Dwayne Wade in the Miami Heat season 2007-2008 is 214.', call_id='call_wTLjYyobCFhgWAqoqyQLKgpq')], type='ToolCallExecutionEvent'), ToolCallSummaryMessage(source='WebSearchAgent', models_usage=None, content='Here are the total points scored by Miami Heat players in the 2006-2007 season:\\n        Udonis Haslem: 844 points\\n        Dwayne Wade: 1397 points\\n        James Posey: 550 points\\n        ...\\n        \\nThe number of total rebounds for Dwayne Wade in the Miami Heat season 2007-2008 is 214.', type='ToolCallSummaryMessage'), TextMessage(source='WebSearchAgent', models_usage=RequestUsage(prompt_tokens=315, completion_tokens=77), content='The Miami Heat player with the highest points in the 2006-2007 season was Dwyane Wade, who scored 1,397 points.\\n\\nAs for the percentage change in his total rebounds between the 2007-2008 and 2008-2009 seasons, I would need the rebound data for the 2008-2009 season to determine that.', type='TextMessage'), ToolCallRequestEvent(source='WebSearchAgent', models_usage=RequestUsage(prompt_tokens=399, completion_tokens=29), content=[FunctionCall(id='call_Qog8hUKMtKgx8yc6RZVjlZev', arguments='{\"query\":\"Dwyane Wade total rebounds Miami Heat 2008-2009 season\"}', name='search_web_tool')], type='ToolCallRequestEvent'), ToolCallExecutionEvent(source='WebSearchAgent', models_usage=None, content=[FunctionExecutionResult(content='The number of total rebounds for Dwayne Wade in the Miami Heat season 2008-2009 is 398.', call_id='call_Qog8hUKMtKgx8yc6RZVjlZev')], type='ToolCallExecutionEvent'), ToolCallSummaryMessage(source='WebSearchAgent', models_usage=None, content='The number of total rebounds for Dwayne Wade in the Miami Heat season 2008-2009 is 398.', type='ToolCallSummaryMessage'), ToolCallRequestEvent(source='DataAnalystAgent', models_usage=RequestUsage(prompt_tokens=333, completion_tokens=20), content=[FunctionCall(id='call_nnWZ20gNP5LnK8gcVrYU9P2v', arguments='{\"start\":214,\"end\":398}', name='percentage_change_tool')], type='ToolCallRequestEvent'), ToolCallExecutionEvent(source='DataAnalystAgent', models_usage=None, content=[FunctionExecutionResult(content='85.98130841121495', call_id='call_nnWZ20gNP5LnK8gcVrYU9P2v')], type='ToolCallExecutionEvent'), ToolCallSummaryMessage(source='DataAnalystAgent', models_usage=None, content='85.98130841121495', type='ToolCallSummaryMessage'), TextMessage(source='PlanningAgent', models_usage=RequestUsage(prompt_tokens=376, completion_tokens=201), content=\"1. Web search agent: Research the Miami Heat player with the highest points in the 2006-2007 season.\\n2. Web search agent: Discover Dwayne Wade's total rebounds in the 2007-2008 season.\\n3. Web search agent: Obtain Dwayne Wade's total rebounds in the 2008-2009 season.\\n4. Data analyst: Compute the percentage change in Dwyane Wade's total rebounds between the 2007-2008 and 2008-2009 seasons.\\n\\nResults:\\n- The Miami Heat player with the highest points in the 2006-2007 season was Dwyane Wade with 1397 points.\\n- The total rebounds for Dwyane Wade in the 2007-2008 season were 214.\\n- The total rebounds for Dwyane Wade in the 2008-2009 season were 398.\\n- The percentage change in his total rebounds between these seasons was approximately 85.98%.\\n\\nTERMINATE\", type='TextMessage')], stop_reason=\"Text 'TERMINATE' mentioned\")"
      ]
     },
     "execution_count": 7,
     "metadata": {},
     "output_type": "execute_result"
    }
   ],
   "source": [
    "task = \"Who was the Miami Heat player with the highest points in the 2006-2007 season, and what was the percentage change in his total rebounds between the 2007-2008 and 2008-2009 seasons?\"\n",
    "\n",
    "# Use asyncio.run(...) if you are running this in a script.\n",
    "await Console(team.run_stream(task=task))"
   ]
  },
  {
   "cell_type": "markdown",
   "metadata": {},
   "source": [
    "## Use Custom Selector Function"
   ]
  },
  {
   "cell_type": "code",
   "execution_count": 8,
   "metadata": {},
   "outputs": [
    {
     "name": "stdout",
     "output_type": "stream",
     "text": [
      "---------- user ----------\n",
      "Who was the Miami Heat player with the highest points in the 2006-2007 season, and what was the percentage change in his total rebounds between the 2007-2008 and 2008-2009 seasons?\n",
      "---------- PlanningAgent ----------\n",
      "To address this query, we need to follow two main steps: identify the Miami Heat player with the highest points in the 2006-2007 season and calculate the percentage change in his total rebounds between the 2007-2008 and 2008-2009 seasons.\n",
      "\n",
      "Here are the tasks broken down:\n",
      "\n",
      "1. Web search agent: Identify the Miami Heat player with the highest points in the 2006-2007 NBA season.\n",
      "2. Web search agent: Find the total rebounds for that player in the 2007-2008 and 2008-2009 NBA seasons.\n",
      "3. Data analyst: Calculate the percentage change in the player's total rebounds between the 2007-2008 and 2008-2009 seasons.\n",
      "[Prompt tokens: 159, Completion tokens: 152]\n",
      "---------- WebSearchAgent ----------\n",
      "[FunctionCall(id='call_Kpdk51vPsWuLix9VSA2oqQop', arguments='{\"query\":\"Miami Heat highest points player 2006-2007 season\"}', name='search_web_tool')]\n",
      "[Prompt tokens: 301, Completion tokens: 26]\n",
      "---------- WebSearchAgent ----------\n",
      "[FunctionExecutionResult(content='Here are the total points scored by Miami Heat players in the 2006-2007 season:\\n        Udonis Haslem: 844 points\\n        Dwayne Wade: 1397 points\\n        James Posey: 550 points\\n        ...\\n        ', call_id='call_Kpdk51vPsWuLix9VSA2oqQop')]\n",
      "---------- WebSearchAgent ----------\n",
      "Here are the total points scored by Miami Heat players in the 2006-2007 season:\n",
      "        Udonis Haslem: 844 points\n",
      "        Dwayne Wade: 1397 points\n",
      "        James Posey: 550 points\n",
      "        ...\n",
      "        \n",
      "---------- PlanningAgent ----------\n",
      "The Miami Heat player with the highest points in the 2006-2007 season was Dwyane Wade with 1397 points.\n",
      "\n",
      "Now, let's find Dwyane Wade's total rebounds for the 2007-2008 and 2008-2009 seasons.\n",
      "\n",
      "1. Web search agent: Find the total rebounds for Dwyane Wade in the 2007-2008 NBA season.\n",
      "2. Web search agent: Find the total rebounds for Dwyane Wade in the 2008-2009 NBA season.\n",
      "[Prompt tokens: 379, Completion tokens: 108]\n"
     ]
    },
    {
     "name": "stderr",
     "output_type": "stream",
     "text": [
      "Selector selected the previous speaker: WebSearchAgent\n"
     ]
    },
    {
     "name": "stdout",
     "output_type": "stream",
     "text": [
      "---------- WebSearchAgent ----------\n",
      "[FunctionCall(id='call_RAeWK3VaMRa7yOly14ohuIuY', arguments='{\"query\": \"Dwyane Wade total rebounds 2007-2008 season\"}', name='search_web_tool'), FunctionCall(id='call_LI4GwC1ewaSip9T8kf4yYqCC', arguments='{\"query\": \"Dwyane Wade total rebounds 2008-2009 season\"}', name='search_web_tool')]\n",
      "[Prompt tokens: 508, Completion tokens: 70]\n",
      "---------- WebSearchAgent ----------\n",
      "[FunctionExecutionResult(content='The number of total rebounds for Dwayne Wade in the Miami Heat season 2007-2008 is 214.', call_id='call_RAeWK3VaMRa7yOly14ohuIuY'), FunctionExecutionResult(content='The number of total rebounds for Dwayne Wade in the Miami Heat season 2008-2009 is 398.', call_id='call_LI4GwC1ewaSip9T8kf4yYqCC')]\n",
      "---------- WebSearchAgent ----------\n",
      "The number of total rebounds for Dwayne Wade in the Miami Heat season 2007-2008 is 214.\n",
      "The number of total rebounds for Dwayne Wade in the Miami Heat season 2008-2009 is 398.\n",
      "---------- PlanningAgent ----------\n",
      "Now that we have Dwyane Wade's total rebounds for both seasons, let's calculate the percentage change in his total rebounds from the 2007-2008 season to the 2008-2009 season.\n",
      "\n",
      "1. Data analyst: Calculate the percentage change in Dwyane Wade's total rebounds between the 2007-2008 (214 rebounds) and 2008-2009 (398 rebounds) seasons.\n",
      "[Prompt tokens: 550, Completion tokens: 85]\n",
      "---------- DataAnalystAgent ----------\n",
      "[FunctionCall(id='call_g15qBiPg1fVo1cmxJV8et93w', arguments='{\"start\":214,\"end\":398}', name='percentage_change_tool')]\n",
      "[Prompt tokens: 615, Completion tokens: 20]\n",
      "---------- DataAnalystAgent ----------\n",
      "[FunctionExecutionResult(content='85.98130841121495', call_id='call_g15qBiPg1fVo1cmxJV8et93w')]\n",
      "---------- DataAnalystAgent ----------\n",
      "85.98130841121495\n",
      "---------- PlanningAgent ----------\n",
      "The Miami Heat player with the highest points in the 2006-2007 season was Dwyane Wade, who scored 1397 points. The percentage change in his total rebounds between the 2007-2008 season (214 rebounds) and the 2008-2009 season (398 rebounds) was approximately 85.98%.\n",
      "\n",
      "TERMINATE\n",
      "[Prompt tokens: 658, Completion tokens: 73]\n",
      "---------- Summary ----------\n",
      "Number of messages: 14\n",
      "Finish reason: Text 'TERMINATE' mentioned\n",
      "Total prompt tokens: 3170\n",
      "Total completion tokens: 534\n",
      "Duration: 11.20 seconds\n"
     ]
    },
    {
     "data": {
      "text/plain": [
       "TaskResult(messages=[TextMessage(source='user', models_usage=None, content='Who was the Miami Heat player with the highest points in the 2006-2007 season, and what was the percentage change in his total rebounds between the 2007-2008 and 2008-2009 seasons?', type='TextMessage'), TextMessage(source='PlanningAgent', models_usage=RequestUsage(prompt_tokens=159, completion_tokens=152), content=\"To address this query, we need to follow two main steps: identify the Miami Heat player with the highest points in the 2006-2007 season and calculate the percentage change in his total rebounds between the 2007-2008 and 2008-2009 seasons.\\n\\nHere are the tasks broken down:\\n\\n1. Web search agent: Identify the Miami Heat player with the highest points in the 2006-2007 NBA season.\\n2. Web search agent: Find the total rebounds for that player in the 2007-2008 and 2008-2009 NBA seasons.\\n3. Data analyst: Calculate the percentage change in the player's total rebounds between the 2007-2008 and 2008-2009 seasons.\", type='TextMessage'), ToolCallRequestEvent(source='WebSearchAgent', models_usage=RequestUsage(prompt_tokens=301, completion_tokens=26), content=[FunctionCall(id='call_Kpdk51vPsWuLix9VSA2oqQop', arguments='{\"query\":\"Miami Heat highest points player 2006-2007 season\"}', name='search_web_tool')], type='ToolCallRequestEvent'), ToolCallExecutionEvent(source='WebSearchAgent', models_usage=None, content=[FunctionExecutionResult(content='Here are the total points scored by Miami Heat players in the 2006-2007 season:\\n        Udonis Haslem: 844 points\\n        Dwayne Wade: 1397 points\\n        James Posey: 550 points\\n        ...\\n        ', call_id='call_Kpdk51vPsWuLix9VSA2oqQop')], type='ToolCallExecutionEvent'), ToolCallSummaryMessage(source='WebSearchAgent', models_usage=None, content='Here are the total points scored by Miami Heat players in the 2006-2007 season:\\n        Udonis Haslem: 844 points\\n        Dwayne Wade: 1397 points\\n        James Posey: 550 points\\n        ...\\n        ', type='ToolCallSummaryMessage'), TextMessage(source='PlanningAgent', models_usage=RequestUsage(prompt_tokens=379, completion_tokens=108), content=\"The Miami Heat player with the highest points in the 2006-2007 season was Dwyane Wade with 1397 points.\\n\\nNow, let's find Dwyane Wade's total rebounds for the 2007-2008 and 2008-2009 seasons.\\n\\n1. Web search agent: Find the total rebounds for Dwyane Wade in the 2007-2008 NBA season.\\n2. Web search agent: Find the total rebounds for Dwyane Wade in the 2008-2009 NBA season.\", type='TextMessage'), ToolCallRequestEvent(source='WebSearchAgent', models_usage=RequestUsage(prompt_tokens=508, completion_tokens=70), content=[FunctionCall(id='call_RAeWK3VaMRa7yOly14ohuIuY', arguments='{\"query\": \"Dwyane Wade total rebounds 2007-2008 season\"}', name='search_web_tool'), FunctionCall(id='call_LI4GwC1ewaSip9T8kf4yYqCC', arguments='{\"query\": \"Dwyane Wade total rebounds 2008-2009 season\"}', name='search_web_tool')], type='ToolCallRequestEvent'), ToolCallExecutionEvent(source='WebSearchAgent', models_usage=None, content=[FunctionExecutionResult(content='The number of total rebounds for Dwayne Wade in the Miami Heat season 2007-2008 is 214.', call_id='call_RAeWK3VaMRa7yOly14ohuIuY'), FunctionExecutionResult(content='The number of total rebounds for Dwayne Wade in the Miami Heat season 2008-2009 is 398.', call_id='call_LI4GwC1ewaSip9T8kf4yYqCC')], type='ToolCallExecutionEvent'), ToolCallSummaryMessage(source='WebSearchAgent', models_usage=None, content='The number of total rebounds for Dwayne Wade in the Miami Heat season 2007-2008 is 214.\\nThe number of total rebounds for Dwayne Wade in the Miami Heat season 2008-2009 is 398.', type='ToolCallSummaryMessage'), TextMessage(source='PlanningAgent', models_usage=RequestUsage(prompt_tokens=550, completion_tokens=85), content=\"Now that we have Dwyane Wade's total rebounds for both seasons, let's calculate the percentage change in his total rebounds from the 2007-2008 season to the 2008-2009 season.\\n\\n1. Data analyst: Calculate the percentage change in Dwyane Wade's total rebounds between the 2007-2008 (214 rebounds) and 2008-2009 (398 rebounds) seasons.\", type='TextMessage'), ToolCallRequestEvent(source='DataAnalystAgent', models_usage=RequestUsage(prompt_tokens=615, completion_tokens=20), content=[FunctionCall(id='call_g15qBiPg1fVo1cmxJV8et93w', arguments='{\"start\":214,\"end\":398}', name='percentage_change_tool')], type='ToolCallRequestEvent'), ToolCallExecutionEvent(source='DataAnalystAgent', models_usage=None, content=[FunctionExecutionResult(content='85.98130841121495', call_id='call_g15qBiPg1fVo1cmxJV8et93w')], type='ToolCallExecutionEvent'), ToolCallSummaryMessage(source='DataAnalystAgent', models_usage=None, content='85.98130841121495', type='ToolCallSummaryMessage'), TextMessage(source='PlanningAgent', models_usage=RequestUsage(prompt_tokens=658, completion_tokens=73), content='The Miami Heat player with the highest points in the 2006-2007 season was Dwyane Wade, who scored 1397 points. The percentage change in his total rebounds between the 2007-2008 season (214 rebounds) and the 2008-2009 season (398 rebounds) was approximately 85.98%.\\n\\nTERMINATE', type='TextMessage')], stop_reason=\"Text 'TERMINATE' mentioned\")"
      ]
     },
     "execution_count": 8,
     "metadata": {},
     "output_type": "execute_result"
    }
   ],
   "source": [
    "def selector_func(messages: Sequence[AgentEvent | ChatMessage]) -> str | None:\n",
    "    if messages[-1].source != planning_agent.name:\n",
    "        return planning_agent.name\n",
    "    return None\n",
    "\n",
    "\n",
    "# Reset the previous team and run the chat again with the selector function.\n",
    "await team.reset()\n",
    "team = SelectorGroupChat(\n",
    "    [planning_agent, web_search_agent, data_analyst_agent],\n",
    "    model_client=model_client,\n",
    "    termination_condition=termination,\n",
    "    selector_func=selector_func,\n",
    ")\n",
    "\n",
    "await Console(team.run_stream(task=task))"
   ]
  }
 ],
 "metadata": {
  "kernelspec": {
   "display_name": ".venv",
   "language": "python",
   "name": "python3"
  },
  "language_info": {
   "codemirror_mode": {
    "name": "ipython",
    "version": 3
   },
   "file_extension": ".py",
   "mimetype": "text/x-python",
   "name": "python",
   "nbconvert_exporter": "python",
   "pygments_lexer": "ipython3",
   "version": "3.10.16"
  }
 },
 "nbformat": 4,
 "nbformat_minor": 2
}
