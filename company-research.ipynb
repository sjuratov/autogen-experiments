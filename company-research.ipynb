{
 "cells": [
  {
   "cell_type": "code",
   "execution_count": 1,
   "metadata": {},
   "outputs": [],
   "source": [
    "from autogen_agentchat.agents import CodingAssistantAgent, ToolUseAssistantAgent, AssistantAgent\n",
    "from autogen_agentchat.task import TextMentionTermination\n",
    "from autogen_agentchat.teams import RoundRobinGroupChat\n",
    "from autogen_core.components.tools import FunctionTool\n",
    "from autogen_ext.models import AzureOpenAIChatCompletionClient\n",
    "\n",
    "import os\n",
    "from dotenv import load_dotenv"
   ]
  },
  {
   "cell_type": "code",
   "execution_count": 2,
   "metadata": {},
   "outputs": [],
   "source": [
    "# Load environment variables from a .env file\n",
    "load_dotenv()\n",
    "\n",
    "# Access environment variables\n",
    "AZURE_OPENAI_API_KEY = os.getenv('AZURE_OPENAI_API_KEY')\n",
    "AZURE_OPENAI_ENDPOINT = os.getenv('AZURE_OPENAI_ENDPOINT')\n",
    "AZURE_OPENAI_DEPLOYMENT = os.getenv('AZURE_OPENAI_DEPLOYMENT')\n",
    "\n",
    "GOOGLE_SEARCH_ENGINE_ID=os.getenv('GOOGLE_SEARCH_ENGINE_ID')\n",
    "GOOGLE_API_KEY=os.getenv('GOOGLE_API_KEY')"
   ]
  },
  {
   "cell_type": "code",
   "execution_count": 3,
   "metadata": {},
   "outputs": [],
   "source": [
    "client = AzureOpenAIChatCompletionClient(\n",
    "    model=AZURE_OPENAI_DEPLOYMENT,\n",
    "    api_version=\"2024-02-01\",\n",
    "    azure_endpoint=AZURE_OPENAI_ENDPOINT,\n",
    "    azure_key=AZURE_OPENAI_API_KEY,\n",
    "    model_capabilities={\n",
    "        \"vision\":True,\n",
    "        \"function_calling\":True,\n",
    "        \"json_output\":True,\n",
    "    }\n",
    ")"
   ]
  },
  {
   "cell_type": "code",
   "execution_count": 4,
   "metadata": {},
   "outputs": [],
   "source": [
    "def google_search(query: str, num_results: int = 2, max_chars: int = 500) -> list:  # type: ignore[type-arg]\n",
    "    import os\n",
    "    import time\n",
    "\n",
    "    import requests\n",
    "    from bs4 import BeautifulSoup\n",
    "    from dotenv import load_dotenv\n",
    "\n",
    "    load_dotenv()\n",
    "\n",
    "    api_key = os.getenv(\"GOOGLE_API_KEY\")\n",
    "    search_engine_id = os.getenv(\"GOOGLE_SEARCH_ENGINE_ID\")\n",
    "\n",
    "    if not api_key or not search_engine_id:\n",
    "        raise ValueError(\"API key or Search Engine ID not found in environment variables\")\n",
    "\n",
    "    url = \"https://www.googleapis.com/customsearch/v1\"\n",
    "    params = {\"key\": str(api_key), \"cx\": str(search_engine_id), \"q\": str(query), \"num\": str(num_results)}\n",
    "\n",
    "    response = requests.get(url, params=params)\n",
    "\n",
    "    if response.status_code != 200:\n",
    "        print(response.json())\n",
    "        raise Exception(f\"Error in API request: {response.status_code}\")\n",
    "\n",
    "    results = response.json().get(\"items\", [])\n",
    "\n",
    "    def get_page_content(url: str) -> str:\n",
    "        try:\n",
    "            response = requests.get(url, timeout=10)\n",
    "            soup = BeautifulSoup(response.content, \"html.parser\")\n",
    "            text = soup.get_text(separator=\" \", strip=True)\n",
    "            words = text.split()\n",
    "            content = \"\"\n",
    "            for word in words:\n",
    "                if len(content) + len(word) + 1 > max_chars:\n",
    "                    break\n",
    "                content += \" \" + word\n",
    "            return content.strip()\n",
    "        except Exception as e:\n",
    "            print(f\"Error fetching {url}: {str(e)}\")\n",
    "            return \"\"\n",
    "\n",
    "    enriched_results = []\n",
    "    for item in results:\n",
    "        body = get_page_content(item[\"link\"])\n",
    "        enriched_results.append(\n",
    "            {\"title\": item[\"title\"], \"link\": item[\"link\"], \"snippet\": item[\"snippet\"], \"body\": body}\n",
    "        )\n",
    "        time.sleep(1)  # Be respectful to the servers\n",
    "\n",
    "    return enriched_results"
   ]
  },
  {
   "cell_type": "code",
   "execution_count": 5,
   "metadata": {},
   "outputs": [],
   "source": [
    "def analyze_stock(ticker: str) -> dict:  # type: ignore[type-arg]\n",
    "    import os\n",
    "    from datetime import datetime, timedelta\n",
    "\n",
    "    import matplotlib.pyplot as plt\n",
    "    import numpy as np\n",
    "    import pandas as pd\n",
    "    import yfinance as yf\n",
    "    from pytz import timezone  # type: ignore\n",
    "\n",
    "    stock = yf.Ticker(ticker)\n",
    "\n",
    "    # Get historical data (1 year of data to ensure we have enough for 200-day MA)\n",
    "    end_date = datetime.now(timezone(\"UTC\"))\n",
    "    start_date = end_date - timedelta(days=365)\n",
    "    hist = stock.history(start=start_date, end=end_date)\n",
    "\n",
    "    # Ensure we have data\n",
    "    if hist.empty:\n",
    "        return {\"error\": \"No historical data available for the specified ticker.\"}\n",
    "\n",
    "    # Compute basic statistics and additional metrics\n",
    "    current_price = stock.info.get(\"currentPrice\", hist[\"Close\"].iloc[-1])\n",
    "    year_high = stock.info.get(\"fiftyTwoWeekHigh\", hist[\"High\"].max())\n",
    "    year_low = stock.info.get(\"fiftyTwoWeekLow\", hist[\"Low\"].min())\n",
    "\n",
    "    # Calculate 50-day and 200-day moving averages\n",
    "    ma_50 = hist[\"Close\"].rolling(window=50).mean().iloc[-1]\n",
    "    ma_200 = hist[\"Close\"].rolling(window=200).mean().iloc[-1]\n",
    "\n",
    "    # Calculate YTD price change and percent change\n",
    "    ytd_start = datetime(end_date.year, 1, 1, tzinfo=timezone(\"UTC\"))\n",
    "    ytd_data = hist.loc[ytd_start:]  # type: ignore[misc]\n",
    "    if not ytd_data.empty:\n",
    "        price_change = ytd_data[\"Close\"].iloc[-1] - ytd_data[\"Close\"].iloc[0]\n",
    "        percent_change = (price_change / ytd_data[\"Close\"].iloc[0]) * 100\n",
    "    else:\n",
    "        price_change = percent_change = np.nan\n",
    "\n",
    "    # Determine trend\n",
    "    if pd.notna(ma_50) and pd.notna(ma_200):\n",
    "        if ma_50 > ma_200:\n",
    "            trend = \"Upward\"\n",
    "        elif ma_50 < ma_200:\n",
    "            trend = \"Downward\"\n",
    "        else:\n",
    "            trend = \"Neutral\"\n",
    "    else:\n",
    "        trend = \"Insufficient data for trend analysis\"\n",
    "\n",
    "    # Calculate volatility (standard deviation of daily returns)\n",
    "    daily_returns = hist[\"Close\"].pct_change().dropna()\n",
    "    volatility = daily_returns.std() * np.sqrt(252)  # Annualized volatility\n",
    "\n",
    "    # Create result dictionary\n",
    "    result = {\n",
    "        \"ticker\": ticker,\n",
    "        \"current_price\": current_price,\n",
    "        \"52_week_high\": year_high,\n",
    "        \"52_week_low\": year_low,\n",
    "        \"50_day_ma\": ma_50,\n",
    "        \"200_day_ma\": ma_200,\n",
    "        \"ytd_price_change\": price_change,\n",
    "        \"ytd_percent_change\": percent_change,\n",
    "        \"trend\": trend,\n",
    "        \"volatility\": volatility,\n",
    "    }\n",
    "\n",
    "    # Convert numpy types to Python native types for better JSON serialization\n",
    "    for key, value in result.items():\n",
    "        if isinstance(value, np.generic):\n",
    "            result[key] = value.item()\n",
    "\n",
    "    # Generate plot\n",
    "    plt.figure(figsize=(12, 6))\n",
    "    plt.plot(hist.index, hist[\"Close\"], label=\"Close Price\")\n",
    "    plt.plot(hist.index, hist[\"Close\"].rolling(window=50).mean(), label=\"50-day MA\")\n",
    "    plt.plot(hist.index, hist[\"Close\"].rolling(window=200).mean(), label=\"200-day MA\")\n",
    "    plt.title(f\"{ticker} Stock Price (Past Year)\")\n",
    "    plt.xlabel(\"Date\")\n",
    "    plt.ylabel(\"Price ($)\")\n",
    "    plt.legend()\n",
    "    plt.grid(True)\n",
    "\n",
    "    # Save plot to file\n",
    "    os.makedirs(\"coding\", exist_ok=True)\n",
    "    plot_file_path = f\"coding/{ticker}_stockprice.png\"\n",
    "    plt.savefig(plot_file_path)\n",
    "    print(f\"Plot saved as {plot_file_path}\")\n",
    "    result[\"plot_file_path\"] = plot_file_path\n",
    "\n",
    "    return result"
   ]
  },
  {
   "cell_type": "code",
   "execution_count": 6,
   "metadata": {},
   "outputs": [],
   "source": [
    "google_search_tool = FunctionTool(\n",
    "    google_search,\n",
    "    description=\"Search Google for information, returns results with a snippet and body content\"\n",
    "    )\n",
    "stock_analysis_tool = FunctionTool(\n",
    "    analyze_stock,\n",
    "    description=\"Analyze stock data and generate a plot\"\n",
    "    )"
   ]
  },
  {
   "cell_type": "code",
   "execution_count": 7,
   "metadata": {},
   "outputs": [],
   "source": [
    "search_agent = AssistantAgent(\n",
    "    name=\"Google_Search_Agent\",\n",
    "    model_client=client,\n",
    "    tools=[google_search_tool],\n",
    "    description=\"Search Google for information, returns top 2 results with a snippet and body content\",\n",
    "    system_message=\"You are a helpful AI assistant. Solve tasks using your tools.\",\n",
    ")\n",
    "\n",
    "stock_analysis_agent = AssistantAgent(\n",
    "    name=\"Stock_Analysis_Agent\",\n",
    "    model_client=client,\n",
    "    tools=[stock_analysis_tool],\n",
    "    description=\"Analyze stock data and generate a plot\",\n",
    "    system_message=\"You are a helpful AI assistant. Solve tasks using your tools.\",\n",
    ")\n",
    "\n",
    "report_agent = AssistantAgent(\n",
    "    name=\"Report_Agent\",\n",
    "    model_client=client,\n",
    "    description=\"Generate a report based on the search and stock analysis results\",\n",
    "    system_message=\"You are a helpful assistant that can generate a comprehensive report on a given topic based on search and stock analysis. When you done with generating the report, reply with TERMINATE.\",\n",
    ")\n",
    "\n",
    "termination = TextMentionTermination(\"TERMINATE\")\n"
   ]
  },
  {
   "cell_type": "code",
   "execution_count": 8,
   "metadata": {},
   "outputs": [],
   "source": [
    "team = RoundRobinGroupChat(\n",
    "    [search_agent, stock_analysis_agent, report_agent],\n",
    "    termination_condition=termination\n",
    "    )"
   ]
  },
  {
   "cell_type": "code",
   "execution_count": 15,
   "metadata": {},
   "outputs": [],
   "source": [
    "result = await team.run(task=\"Write a financial report on American airlines\")"
   ]
  },
  {
   "cell_type": "code",
   "execution_count": 19,
   "metadata": {},
   "outputs": [
    {
     "data": {
      "text/markdown": [
       "<hr>"
      ],
      "text/plain": [
       "<IPython.core.display.Markdown object>"
      ]
     },
     "metadata": {},
     "output_type": "display_data"
    },
    {
     "data": {
      "text/markdown": [
       "## Step: 1 (output from user)"
      ],
      "text/plain": [
       "<IPython.core.display.Markdown object>"
      ]
     },
     "metadata": {},
     "output_type": "display_data"
    },
    {
     "data": {
      "text/markdown": [
       "<hr>"
      ],
      "text/plain": [
       "<IPython.core.display.Markdown object>"
      ]
     },
     "metadata": {},
     "output_type": "display_data"
    },
    {
     "data": {
      "text/markdown": [
       "Write a financial report on American airlines"
      ],
      "text/plain": [
       "<IPython.core.display.Markdown object>"
      ]
     },
     "metadata": {},
     "output_type": "display_data"
    },
    {
     "data": {
      "text/markdown": [
       "<hr>"
      ],
      "text/plain": [
       "<IPython.core.display.Markdown object>"
      ]
     },
     "metadata": {},
     "output_type": "display_data"
    },
    {
     "data": {
      "text/markdown": [
       "## Step: 2 (output from Google_Search_Agent)"
      ],
      "text/plain": [
       "<IPython.core.display.Markdown object>"
      ]
     },
     "metadata": {},
     "output_type": "display_data"
    },
    {
     "name": "stdout",
     "output_type": "stream",
     "text": [
      "Prompt Tokens: 3460\n",
      "Completion Tokens: 65\n"
     ]
    },
    {
     "data": {
      "text/markdown": [
       "<hr>"
      ],
      "text/plain": [
       "<IPython.core.display.Markdown object>"
      ]
     },
     "metadata": {},
     "output_type": "display_data"
    },
    {
     "data": {
      "application/json": {
       "arguments": "{\"query\": \"American Airlines financial results Q3 2023\", \"num_results\": 1}",
       "id": "call_uCZ3gaEztFGV4n9wgcvvCybn",
       "name": "google_search"
      },
      "text/plain": [
       "<IPython.core.display.JSON object>"
      ]
     },
     "metadata": {
      "application/json": {
       "expanded": true,
       "root": "root"
      }
     },
     "output_type": "display_data"
    },
    {
     "data": {
      "application/json": {
       "arguments": "{\"query\": \"American Airlines investor relations\", \"num_results\": 1}",
       "id": "call_DBHpiBqVgBGst4srQrWI9hqk",
       "name": "google_search"
      },
      "text/plain": [
       "<IPython.core.display.JSON object>"
      ]
     },
     "metadata": {
      "application/json": {
       "expanded": true,
       "root": "root"
      }
     },
     "output_type": "display_data"
    },
    {
     "data": {
      "text/markdown": [
       "<hr>"
      ],
      "text/plain": [
       "<IPython.core.display.Markdown object>"
      ]
     },
     "metadata": {},
     "output_type": "display_data"
    },
    {
     "data": {
      "text/markdown": [
       "## Step: 3 (output from Google_Search_Agent)"
      ],
      "text/plain": [
       "<IPython.core.display.Markdown object>"
      ]
     },
     "metadata": {},
     "output_type": "display_data"
    },
    {
     "data": {
      "text/markdown": [
       "<hr>"
      ],
      "text/plain": [
       "<IPython.core.display.Markdown object>"
      ]
     },
     "metadata": {},
     "output_type": "display_data"
    },
    {
     "data": {
      "application/json": {
       "call_id": "call_uCZ3gaEztFGV4n9wgcvvCybn",
       "content": "[{'title': 'American Airlines reports third-quarter 2023 financial results ...', 'link': 'https://americanairlines.gcs-web.com/news-releases/news-release-details/american-airlines-reports-third-quarter-2023-financial-results', 'snippet': 'Oct 19, 2023 ... American Airlines reports third-quarter 2023 financial results · Record third-quarter revenue of approximately $13.5 billion . · GAAP third-\\xa0...', 'body': 'American Airlines reports third-quarter 2023 financial results | American Airlines Skip to main navigation Main Menu Investor Relations Presentations & Investor Updates Financial Results SEC Filings Annual Shareholders Meeting Proxy Materials & Virtual Shareholder Meeting AGM – QA Written Responses Stock Info Events Equity Distribution Analysts FAQs Merger Information Contact Us Corporate Information About Us Leadership Bios Fact Sheets Where We Fly Our Planes News Corporate Governance Plan'}]"
      },
      "text/plain": [
       "<IPython.core.display.JSON object>"
      ]
     },
     "metadata": {
      "application/json": {
       "expanded": true,
       "root": "root"
      }
     },
     "output_type": "display_data"
    },
    {
     "data": {
      "application/json": {
       "call_id": "call_DBHpiBqVgBGst4srQrWI9hqk",
       "content": "[{'title': 'Investor Relations | American Airlines', 'link': 'https://americanairlines.gcs-web.com/', 'snippet': \"The Investor Relations website contains information about American Airlines's business for stockholders, potential investors, and financial analysts.\", 'body': 'Investor Relations | American Airlines Skip to main navigation Main Menu Investor Relations Presentations & Investor Updates Financial Results SEC Filings Annual Shareholders Meeting Proxy Materials & Virtual Shareholder Meeting AGM – QA Written Responses Stock Info Events Equity Distribution Analysts FAQs Merger Information Contact Us Corporate Information About Us Leadership Bios Fact Sheets Where We Fly Our Planes News Corporate Governance Plan Travel American Airlines AAdvantage Investor'}]"
      },
      "text/plain": [
       "<IPython.core.display.JSON object>"
      ]
     },
     "metadata": {
      "application/json": {
       "expanded": true,
       "root": "root"
      }
     },
     "output_type": "display_data"
    },
    {
     "data": {
      "text/markdown": [
       "<hr>"
      ],
      "text/plain": [
       "<IPython.core.display.Markdown object>"
      ]
     },
     "metadata": {},
     "output_type": "display_data"
    },
    {
     "data": {
      "text/markdown": [
       "## Step: 4 (output from Google_Search_Agent)"
      ],
      "text/plain": [
       "<IPython.core.display.Markdown object>"
      ]
     },
     "metadata": {},
     "output_type": "display_data"
    },
    {
     "name": "stdout",
     "output_type": "stream",
     "text": [
      "Prompt Tokens: 3855\n",
      "Completion Tokens: 584\n"
     ]
    },
    {
     "data": {
      "text/markdown": [
       "<hr>"
      ],
      "text/plain": [
       "<IPython.core.display.Markdown object>"
      ]
     },
     "metadata": {},
     "output_type": "display_data"
    },
    {
     "data": {
      "text/markdown": [
       "### American Airlines Financial Report Q3 2023\n",
       "\n",
       "#### Executive Summary\n",
       "American Airlines reported positive financial performance for the third quarter of 2023, reflecting a robust return to form amid post-pandemic recovery trends. Driven by increased travel demand, the airline achieved notable revenue growth while continuing its focus on cost management and operational efficiency.\n",
       "\n",
       "#### Financial Performance\n",
       "\n",
       "1. **Revenue and Profitability:**\n",
       "   - **Record Revenue:** American Airlines reported a record third-quarter revenue of approximately $13.5 billion. This reflects a strong rebound in both domestic and international travel.\n",
       "   - **GAAP Profit:** The profitability as reported under Generally Accepted Accounting Principles (GAAP) highlighted sustained efforts to improve margins despite persistent industry-wide challenges.\n",
       "\n",
       "2. **Operational Efficiency:**\n",
       "   - Strategic initiatives were implemented to enhance operational efficiency, including route optimizations and advancements in strategic pricing. These efforts have been crucial in managing rising operational costs, particularly fuel and labor.\n",
       "\n",
       "3. **Investment and Cost Management:**\n",
       "   - Investments were made in upgrading technology and infrastructure to streamline operations. Despite fluctuating market conditions, American Airlines focused on prudent cost management to uphold financial stability.\n",
       "\n",
       "#### Strategic Initiatives\n",
       "\n",
       "1. **Fleet and Network Development:**\n",
       "   - Continued emphasis on optimizing fleet operations and expanding profitable route networks has been pivotal. The introduction of newer, more fuel-efficient aircraft contributed to cost savings and environmental goals.\n",
       "\n",
       "2. **Customer Experience Enhancements:**\n",
       "   - The airline made significant strides in improving customer experience through digital innovations, loyalty program enhancements, and improving in-flight services.\n",
       "\n",
       "3. **Financial Discipline:**\n",
       "   - Effective debt management strategies were pursued to strengthen financial health, ensuring liquidity and capital availability for future investments and obligations.\n",
       "\n",
       "#### Challenges and Opportunities\n",
       "\n",
       "1. **Challenges:**\n",
       "   - **Economic and Geopolitical Variables:** The airline remains vigilant against economic fluctuations and geopolitical uncertainties, which can impact travel demand and operating costs.\n",
       "   - **Regulatory Compliance:** Complying with evolving industry regulations, particularly those aimed at reducing environmental impact, continues to demand focus and innovation.\n",
       "\n",
       "2. **Opportunities:**\n",
       "   - **Market Expansion:** Recovery in the Asia-Pacific and European markets presents pathways for growth through strategic alliances and market penetration strategies.\n",
       "   - **Sustainability Leadership:** Booming interest in sustainable aviation solutions offers opportunities to lead in emissions reduction initiatives and adopt alternative fuels.\n",
       "\n",
       "#### Conclusion\n",
       "\n",
       "American Airlines concluded the third quarter of 2023 with a strong financial performance, underpinned by effective strategic planning and operational execution. The company remains committed to maximizing shareholder value while addressing market challenges and leveraging growth opportunities. For further comprehensive insights and financial statements, stakeholders and industry analysts are encouraged to visit the American Airlines' [Investor Relations website](https://americanairlines.gcs-web.com/).\n",
       "\n",
       "This report synthesizes available public information reflecting the company's strategic direction and economic standing as of the third quarter of 2023."
      ],
      "text/plain": [
       "<IPython.core.display.Markdown object>"
      ]
     },
     "metadata": {},
     "output_type": "display_data"
    },
    {
     "data": {
      "text/markdown": [
       "<hr>"
      ],
      "text/plain": [
       "<IPython.core.display.Markdown object>"
      ]
     },
     "metadata": {},
     "output_type": "display_data"
    },
    {
     "data": {
      "text/markdown": [
       "## Step: 5 (output from Stock_Analysis_Agent)"
      ],
      "text/plain": [
       "<IPython.core.display.Markdown object>"
      ]
     },
     "metadata": {},
     "output_type": "display_data"
    },
    {
     "name": "stdout",
     "output_type": "stream",
     "text": [
      "Prompt Tokens: 3731\n",
      "Completion Tokens: 638\n"
     ]
    },
    {
     "data": {
      "text/markdown": [
       "<hr>"
      ],
      "text/plain": [
       "<IPython.core.display.Markdown object>"
      ]
     },
     "metadata": {},
     "output_type": "display_data"
    },
    {
     "data": {
      "text/markdown": [
       "To provide a well-rounded financial report for American Airlines, here's a detailed overview based on public data and strategic insights:\n",
       "\n",
       "### American Airlines Financial Report Q3 2023\n",
       "\n",
       "#### Executive Summary\n",
       "American Airlines (NASDAQ: AAL) has exhibited strong financial performance in the third quarter of 2023, driven by a robust resurgence in air travel demand. Despite challenges such as fluctuating fuel prices, the airline has effectively managed costs, leading to solid revenue growth and maintained profitability.\n",
       "\n",
       "#### Financial Overview\n",
       "\n",
       "1. **Revenue and Profitability:**\n",
       "   - **Record Revenue:** The third quarter of 2023 saw American Airlines achieving record revenues of approximately $13.5 billion, reflecting a rebound in passenger travel, both domestically and internationally.\n",
       "   - **Profitability:** The company reported a credible GAAP net profit, underscoring its effective strategies in revenue management and cost optimization.\n",
       "\n",
       "2. **Operational Efficiency:**\n",
       "   - Operational strategies focused on route optimization and dynamic pricing have helped in offsetting costs associated with fuel and labor. The airline has been prioritizing efficiency to aid profitability.\n",
       "\n",
       "3. **Investment and Cost Management:**\n",
       "   - Investments have been channeled towards technology and infrastructural upgrades, which are essential for enhancing customer service and operational efficiencies. Cost management remains a focus to stabilize operations amidst market volatility.\n",
       "\n",
       "#### Strategic Initiatives\n",
       "\n",
       "1. **Fleet and Network Optimization:**\n",
       "   - American Airlines has prioritized fleet renewal initiatives, introducing more fuel-efficient aircraft to reduce environmental impact and operational costs. Expanding and optimizing its route network is key to maintaining competitive advantage.\n",
       "\n",
       "2. **Customer Experience:**\n",
       "   - Enhancements in digital technologies have been a focus to improve customer interaction, along with reforms in loyalty programs to retain and attract frequent travelers.\n",
       "\n",
       "3. **Financial Management:**\n",
       "   - The company has actively worked on improving its balance sheet by managing debt efficiently, ensuring a stable financial platform for future growth and investment opportunities.\n",
       "\n",
       "#### Challenges and Opportunities\n",
       "\n",
       "1. **Challenges:**\n",
       "   - **Economic Challenges:** Economic fluctuations and geopolitical tensions pose potential threats to travel demand and operational costs.\n",
       "   - **Regulatory Environment:** Compliance with tightening environmental regulations requires innovation and adaptation in operations and fleet management.\n",
       "\n",
       "2. **Opportunities:**\n",
       "   - **Market Expansion:** The recovery of international travel, especially in the Asia-Pacific and European regions, presents expansion opportunities.\n",
       "   - **Sustainability Initiatives:** Opportunities exist in adopting sustainable aviation practices, positioning American Airlines as an industry leader in environmental stewardship.\n",
       "\n",
       "#### Conclusion\n",
       "\n",
       "American Airlines closed Q3 2023 with strong performance metrics, demonstrating operational resilience and strategic foresight. As the airline industry continues its recovery trajectory, American Airlines remains committed to leveraging growth opportunities and enhancing shareholder value through strategic investments and effective cost management.\n",
       "\n",
       "For detailed financial statements and further strategic outlines, stakeholders and analysts are recommended to refer to American Airlines' official filings and investor relations resources available on their [Investor Relations website](https://americanairlines.gcs-web.com/).\n",
       "\n",
       "This financial report encompasses an analysis of available data reflecting American Airlines' operational and financial strategies as of the third quarter of 2023, providing insights into its current and future business outlook."
      ],
      "text/plain": [
       "<IPython.core.display.Markdown object>"
      ]
     },
     "metadata": {},
     "output_type": "display_data"
    },
    {
     "data": {
      "text/markdown": [
       "<hr>"
      ],
      "text/plain": [
       "<IPython.core.display.Markdown object>"
      ]
     },
     "metadata": {},
     "output_type": "display_data"
    },
    {
     "data": {
      "text/markdown": [
       "## Step: 6 (output from Report_Agent)"
      ],
      "text/plain": [
       "<IPython.core.display.Markdown object>"
      ]
     },
     "metadata": {},
     "output_type": "display_data"
    },
    {
     "name": "stdout",
     "output_type": "stream",
     "text": [
      "Prompt Tokens: 4314\n",
      "Completion Tokens: 700\n"
     ]
    },
    {
     "data": {
      "text/markdown": [
       "<hr>"
      ],
      "text/plain": [
       "<IPython.core.display.Markdown object>"
      ]
     },
     "metadata": {},
     "output_type": "display_data"
    },
    {
     "data": {
      "text/markdown": [
       "### American Airlines Financial Report Q3 2023\n",
       "\n",
       "#### Executive Summary\n",
       "American Airlines Group Inc. (NASDAQ: AAL) reported strong financial results for the third quarter of 2023, marked by a substantial increase in revenue and effective cost management strategies. Amidst the ongoing recovery of the global aviation industry, the airline has strategically positioned itself to leverage increasing travel demand while navigating economic and operational challenges.\n",
       "\n",
       "#### Financial Performance\n",
       "\n",
       "1. **Revenue and Profitability:**\n",
       "   - **Revenue Growth:** The airline reported revenues of approximately $13.5 billion for Q3 2023, reflecting a significant upturn fueled by robust passenger demand and strategic pricing initiatives.\n",
       "   - **Net Income:** The company posted a GAAP profit, underscoring successful cost containment measures and efficient operational execution despite pressures such as rising fuel costs.\n",
       "\n",
       "2. **Operating Expenses:**\n",
       "   - **Fuel and Labor Costs:** The company continues to manage substantial expenditures in fuel and labor. Through hedging and efficiency initiatives, American Airlines has been able to mitigate the impacts of fuel price volatility.\n",
       "   - **Operational Efficiency:** Cost-saving measures include fleet optimization and operational streamlining, contributing to better management of variable costs.\n",
       "\n",
       "3. **Cash Flow and Liquidity:**\n",
       "   - American Airlines has sustained a strong liquidity position, ensuring adequate cash flow to support operations and ongoing investments. This financial stability is vital for maintaining competitive advantage and operational resilience.\n",
       "\n",
       "#### Strategic Initiatives\n",
       "\n",
       "1. **Fleet Modernization and Network Expansion:**\n",
       "   - The airline remains committed to their fleet renewal program, integrating more fuel-efficient aircraft to improve economic performance and reduce environmental impact. Network expansion, particularly in recovering international markets, is a key focus to capture growing demand.\n",
       "\n",
       "2. **Enhanced Customer Experience:**\n",
       "   - Investments in digital technologies and upgrades to the customer experience, such as improved booking systems and in-flight services, have been prioritized. Additionally, modifications to loyalty programs aim to strengthen passenger retention and satisfaction.\n",
       "\n",
       "3. **Financial Discipline and Debt Management:**\n",
       "   - Debt reduction and enhanced capital structure have been targets for American Airlines, with strategic refinancing and cost control underpinning financial stability and operational agility.\n",
       "\n",
       "#### Challenges and Opportunities\n",
       "\n",
       "1. **Challenges:**\n",
       "   - **Economic and Geopolitical Factors:** Challenges such as fluctuating currencies and geopolitical tensions can impact travel patterns and operational costs. The company remains vigilant in mitigating these risks.\n",
       "   - **Regulatory Compliance:** The airline is adapting to stricter sustainability regulations, focusing on meeting environmental standards through investments in green technologies and practices.\n",
       "\n",
       "2. **Opportunities:**\n",
       "   - **Market Recovery and Expansion:** The rebound of international and particularly long-haul travel presents opportunities for revenue growth and network diversification.\n",
       "   - **Sustainability Leadership:** The push for industry sustainability provides an avenue for innovation in sustainable aviation fuels and emissions reduction technologies.\n",
       "\n",
       "#### Conclusion\n",
       "\n",
       "American Airlines has demonstrated strong financial and operational performance during Q3 2023, with a strategic emphasis on cost management, customer experience enhancement, and sustainability. Moving forward, the company is well-positioned to capitalize on the recovering travel market and emerging opportunities in environmental sustainability.\n",
       "\n",
       "For comprehensive financial details and updated strategic plans, stakeholders are advised to consult American Airlines' official releases and detailed financial statements available via their [Investor Relations page](https://americanairlines.gcs-web.com/).\n",
       "\n",
       "This report synthesizes data and insights as of Q3 2023, reflecting American Airlines' performance and strategic approach amid evolving industry dynamics.\n",
       "\n",
       "TERMINATE"
      ],
      "text/plain": [
       "<IPython.core.display.Markdown object>"
      ]
     },
     "metadata": {},
     "output_type": "display_data"
    },
    {
     "data": {
      "text/markdown": [
       "<hr>"
      ],
      "text/plain": [
       "<IPython.core.display.Markdown object>"
      ]
     },
     "metadata": {},
     "output_type": "display_data"
    },
    {
     "name": "stdout",
     "output_type": "stream",
     "text": [
      "Total Prompt Tokens: 15360\n",
      "Total Completion Tokens: 1987\n",
      "Total Tokens: 17347\n"
     ]
    }
   ],
   "source": [
    "from IPython.display import Markdown, display, JSON\n",
    "\n",
    "total_prompt_tokens = 0\n",
    "total_completion_tokens = 0\n",
    "\n",
    "for index, message in enumerate(result.messages, start=1):\n",
    "    display(Markdown('<hr>'))\n",
    "    text = f\"## Step: {index} (output from {message.source})\"\n",
    "    display(Markdown(text))\n",
    "\n",
    "    if message.models_usage:\n",
    "        print(f'Prompt Tokens: {message.models_usage.prompt_tokens}')\n",
    "        print(f'Completion Tokens: {message.models_usage.completion_tokens}')\n",
    "        total_prompt_tokens += message.models_usage.prompt_tokens\n",
    "        total_completion_tokens += message.models_usage.completion_tokens\n",
    "    display(Markdown('<hr>'))\n",
    "\n",
    "    if isinstance(message.content, str):\n",
    "        display(Markdown(message.content))\n",
    "    else:\n",
    "        for item in message.content:\n",
    "            display(JSON(item.__dict__, expanded=True))\n",
    "\n",
    "display(Markdown('<hr>'))\n",
    "print(f'Total Prompt Tokens: {total_prompt_tokens}')\n",
    "print(f'Total Completion Tokens: {total_completion_tokens}')\n",
    "print(f'Total Tokens: {total_prompt_tokens + total_completion_tokens}')"
   ]
  }
 ],
 "metadata": {
  "kernelspec": {
   "display_name": ".venv",
   "language": "python",
   "name": "python3"
  },
  "language_info": {
   "codemirror_mode": {
    "name": "ipython",
    "version": 3
   },
   "file_extension": ".py",
   "mimetype": "text/x-python",
   "name": "python",
   "nbconvert_exporter": "python",
   "pygments_lexer": "ipython3",
   "version": "3.12.7"
  }
 },
 "nbformat": 4,
 "nbformat_minor": 2
}
