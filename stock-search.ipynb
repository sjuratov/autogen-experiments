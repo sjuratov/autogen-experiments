{
 "cells": [
  {
   "cell_type": "code",
   "execution_count": 1,
   "metadata": {},
   "outputs": [],
   "source": [
    "# Warning control\n",
    "import warnings\n",
    "warnings.filterwarnings('ignore')"
   ]
  },
  {
   "cell_type": "code",
   "execution_count": 2,
   "metadata": {},
   "outputs": [],
   "source": [
    "from typing import Any, Dict, List\n",
    "\n",
    "from autogen_agentchat.agents import AssistantAgent\n",
    "from autogen_agentchat.conditions import HandoffTermination, TextMentionTermination\n",
    "from autogen_agentchat.messages import HandoffMessage\n",
    "from autogen_agentchat.teams import Swarm\n",
    "from autogen_agentchat.ui import Console\n",
    "from autogen_ext.models.openai import AzureOpenAIChatCompletionClient\n",
    "\n",
    "from dotenv import load_dotenv\n",
    "import os"
   ]
  },
  {
   "cell_type": "markdown",
   "metadata": {},
   "source": [
    "## Loading environment variables"
   ]
  },
  {
   "cell_type": "code",
   "execution_count": 3,
   "metadata": {},
   "outputs": [],
   "source": [
    "# Load environment variables from a .env file\n",
    "load_dotenv()\n",
    "\n",
    "# Access environment variables\n",
    "AZURE_OPENAI_API_KEY = os.getenv('AZURE_OPENAI_API_KEY')\n",
    "AZURE_OPENAI_ENDPOINT = os.getenv('AZURE_OPENAI_ENDPOINT')\n",
    "AZURE_OPENAI_DEPLOYMENT = os.getenv('AZURE_OPENAI_DEPLOYMENT')\n",
    "API_NINJAS_API_KEY=os.getenv('API_NINJAS_API_KEY')"
   ]
  },
  {
   "cell_type": "markdown",
   "metadata": {},
   "source": [
    "## Tool definition"
   ]
  },
  {
   "cell_type": "code",
   "execution_count": 4,
   "metadata": {},
   "outputs": [],
   "source": [
    "async def get_stock_data(symbol: str) -> Dict[str, Any]:\n",
    "    \"\"\"Get stock market data for a given symbol\"\"\"\n",
    "    return {\"price\": 180.25, \"volume\": 1000000, \"pe_ratio\": 65.4, \"market_cap\": \"700B\"}\n",
    "\n",
    "\n",
    "async def get_news(query: str) -> List[Dict[str, str]]:\n",
    "    \"\"\"Get recent news articles about a company\"\"\"\n",
    "    return [\n",
    "        {\n",
    "            \"title\": \"Tesla Expands Cybertruck Production\",\n",
    "            \"date\": \"2024-03-20\",\n",
    "            \"summary\": \"Tesla ramps up Cybertruck manufacturing capacity at Gigafactory Texas, aiming to meet strong demand.\",\n",
    "        },\n",
    "        {\n",
    "            \"title\": \"Tesla FSD Beta Shows Promise\",\n",
    "            \"date\": \"2024-03-19\",\n",
    "            \"summary\": \"Latest Full Self-Driving beta demonstrates significant improvements in urban navigation and safety features.\",\n",
    "        },\n",
    "        {\n",
    "            \"title\": \"Model Y Dominates Global EV Sales\",\n",
    "            \"date\": \"2024-03-18\",\n",
    "            \"summary\": \"Tesla's Model Y becomes best-selling electric vehicle worldwide, capturing significant market share.\",\n",
    "        },\n",
    "    ]"
   ]
  },
  {
   "cell_type": "markdown",
   "metadata": {},
   "source": [
    "## Model client definition"
   ]
  },
  {
   "cell_type": "code",
   "execution_count": 5,
   "metadata": {},
   "outputs": [],
   "source": [
    "model_client = AzureOpenAIChatCompletionClient(\n",
    "    model=AZURE_OPENAI_DEPLOYMENT,\n",
    "    api_version=\"2024-02-01\",\n",
    "    azure_endpoint=AZURE_OPENAI_ENDPOINT,\n",
    "    azure_key=AZURE_OPENAI_API_KEY,\n",
    "    model_capabilities={\n",
    "        \"vision\":True,\n",
    "        \"function_calling\":True,\n",
    "        \"json_output\":True,\n",
    "    }\n",
    ")"
   ]
  },
  {
   "cell_type": "markdown",
   "metadata": {},
   "source": [
    "## Agents definition"
   ]
  },
  {
   "cell_type": "code",
   "execution_count": 6,
   "metadata": {},
   "outputs": [],
   "source": [
    "planner = AssistantAgent(\n",
    "    \"planner\",\n",
    "    model_client=model_client,\n",
    "    handoffs=[\"financial_analyst\", \"news_analyst\", \"writer\"],\n",
    "    system_message=\"\"\"You are a research planning coordinator.\n",
    "    Coordinate market research by delegating to specialized agents:\n",
    "    - Financial Analyst: For stock data analysis\n",
    "    - News Analyst: For news gathering and analysis\n",
    "    - Writer: For compiling final report\n",
    "    Always send your plan first, then handoff to appropriate agent.\n",
    "    Always handoff to a single agent at a time.\n",
    "    Use TERMINATE when research is complete.\"\"\",\n",
    ")\n",
    "\n",
    "financial_analyst = AssistantAgent(\n",
    "    \"financial_analyst\",\n",
    "    model_client=model_client,\n",
    "    handoffs=[\"planner\"],\n",
    "    tools=[get_stock_data],\n",
    "    system_message=\"\"\"You are a financial analyst.\n",
    "    Analyze stock market data using the get_stock_data tool.\n",
    "    Provide insights on financial metrics.\n",
    "    Always handoff back to planner when analysis is complete.\"\"\",\n",
    ")\n",
    "\n",
    "news_analyst = AssistantAgent(\n",
    "    \"news_analyst\",\n",
    "    model_client=model_client,\n",
    "    handoffs=[\"planner\"],\n",
    "    tools=[get_news],\n",
    "    system_message=\"\"\"You are a news analyst.\n",
    "    Gather and analyze relevant news using the get_news tool.\n",
    "    Summarize key market insights from news.\n",
    "    Always handoff back to planner when analysis is complete.\"\"\",\n",
    ")\n",
    "\n",
    "writer = AssistantAgent(\n",
    "    \"writer\",\n",
    "    model_client=model_client,\n",
    "    handoffs=[\"planner\"],\n",
    "    system_message=\"\"\"You are a financial report writer.\n",
    "    Compile research findings into clear, concise reports.\n",
    "    Always handoff back to planner when writing is complete.\"\"\",\n",
    ")"
   ]
  },
  {
   "cell_type": "markdown",
   "metadata": {},
   "source": [
    "## Termination and team definition"
   ]
  },
  {
   "cell_type": "code",
   "execution_count": 7,
   "metadata": {},
   "outputs": [],
   "source": [
    "# Define termination condition\n",
    "text_termination = TextMentionTermination(\"TERMINATE\")\n",
    "termination = text_termination\n",
    "\n",
    "research_team = Swarm(\n",
    "    participants=[planner, financial_analyst, news_analyst, writer], termination_condition=termination\n",
    ")"
   ]
  },
  {
   "cell_type": "markdown",
   "metadata": {},
   "source": [
    "## Run team"
   ]
  },
  {
   "cell_type": "code",
   "execution_count": 8,
   "metadata": {},
   "outputs": [
    {
     "name": "stdout",
     "output_type": "stream",
     "text": [
      "---------- user ----------\n",
      "Conduct market research for TSLA stock\n",
      "---------- planner ----------\n",
      "[FunctionCall(id='call_E81TdVGOH438OB9faMDYXeiE', arguments='{}', name='transfer_to_financial_analyst')]\n",
      "[Prompt tokens: 169, Completion tokens: 142]\n",
      "---------- planner ----------\n",
      "[FunctionExecutionResult(content='Transferred to financial_analyst, adopting the role of financial_analyst immediately.', call_id='call_E81TdVGOH438OB9faMDYXeiE')]\n",
      "---------- planner ----------\n",
      "Transferred to financial_analyst, adopting the role of financial_analyst immediately.\n",
      "---------- financial_analyst ----------\n",
      "[FunctionCall(id='call_CWcmzBuEDGbA47gnhyP0DNty', arguments='{\"symbol\":\"TSLA\"}', name='get_stock_data')]\n",
      "[Prompt tokens: 136, Completion tokens: 16]\n",
      "---------- financial_analyst ----------\n",
      "[FunctionExecutionResult(content=\"{'price': 180.25, 'volume': 1000000, 'pe_ratio': 65.4, 'market_cap': '700B'}\", call_id='call_CWcmzBuEDGbA47gnhyP0DNty')]\n",
      "---------- financial_analyst ----------\n",
      "{'price': 180.25, 'volume': 1000000, 'pe_ratio': 65.4, 'market_cap': '700B'}\n",
      "---------- financial_analyst ----------\n",
      "[FunctionCall(id='call_D7fFjjwL3NCSQviHNM5EvM1g', arguments='{}', name='transfer_to_planner')]\n",
      "[Prompt tokens: 199, Completion tokens: 262]\n",
      "---------- financial_analyst ----------\n",
      "[FunctionExecutionResult(content='Transferred to planner, adopting the role of planner immediately.', call_id='call_D7fFjjwL3NCSQviHNM5EvM1g')]\n",
      "---------- financial_analyst ----------\n",
      "Transferred to planner, adopting the role of planner immediately.\n",
      "---------- planner ----------\n",
      "[FunctionCall(id='call_tZCxzFz8Je8tReSGaAodgWOp', arguments='{}', name='transfer_to_news_analyst')]\n",
      "[Prompt tokens: 278, Completion tokens: 14]\n",
      "---------- planner ----------\n",
      "[FunctionExecutionResult(content='Transferred to news_analyst, adopting the role of news_analyst immediately.', call_id='call_tZCxzFz8Je8tReSGaAodgWOp')]\n",
      "---------- planner ----------\n",
      "Transferred to news_analyst, adopting the role of news_analyst immediately.\n",
      "---------- news_analyst ----------\n",
      "[FunctionCall(id='call_cm0w7U15AvbSaTJK6FZJ5q8Y', arguments='{\"query\":\"TSLA stock market insights\"}', name='get_news')]\n",
      "[Prompt tokens: 222, Completion tokens: 18]\n",
      "---------- news_analyst ----------\n",
      "[FunctionExecutionResult(content='[{\\'title\\': \\'Tesla Expands Cybertruck Production\\', \\'date\\': \\'2024-03-20\\', \\'summary\\': \\'Tesla ramps up Cybertruck manufacturing capacity at Gigafactory Texas, aiming to meet strong demand.\\'}, {\\'title\\': \\'Tesla FSD Beta Shows Promise\\', \\'date\\': \\'2024-03-19\\', \\'summary\\': \\'Latest Full Self-Driving beta demonstrates significant improvements in urban navigation and safety features.\\'}, {\\'title\\': \\'Model Y Dominates Global EV Sales\\', \\'date\\': \\'2024-03-18\\', \\'summary\\': \"Tesla\\'s Model Y becomes best-selling electric vehicle worldwide, capturing significant market share.\"}]', call_id='call_cm0w7U15AvbSaTJK6FZJ5q8Y')]\n",
      "---------- news_analyst ----------\n",
      "[{'title': 'Tesla Expands Cybertruck Production', 'date': '2024-03-20', 'summary': 'Tesla ramps up Cybertruck manufacturing capacity at Gigafactory Texas, aiming to meet strong demand.'}, {'title': 'Tesla FSD Beta Shows Promise', 'date': '2024-03-19', 'summary': 'Latest Full Self-Driving beta demonstrates significant improvements in urban navigation and safety features.'}, {'title': 'Model Y Dominates Global EV Sales', 'date': '2024-03-18', 'summary': \"Tesla's Model Y becomes best-selling electric vehicle worldwide, capturing significant market share.\"}]\n",
      "---------- news_analyst ----------\n",
      "[FunctionCall(id='call_NM1gmVZvkioS5sbWKZ7ROmDh', arguments='{}', name='transfer_to_planner')]\n",
      "[Prompt tokens: 387, Completion tokens: 194]\n",
      "---------- news_analyst ----------\n",
      "[FunctionExecutionResult(content='Transferred to planner, adopting the role of planner immediately.', call_id='call_NM1gmVZvkioS5sbWKZ7ROmDh')]\n",
      "---------- news_analyst ----------\n",
      "Transferred to planner, adopting the role of planner immediately.\n",
      "---------- planner ----------\n",
      "[FunctionCall(id='call_4KHsVMySne7qgBKy4dWM4cdx', arguments='{}', name='transfer_to_writer')]\n",
      "[Prompt tokens: 486, Completion tokens: 11]\n",
      "---------- planner ----------\n",
      "[FunctionExecutionResult(content='Transferred to writer, adopting the role of writer immediately.', call_id='call_4KHsVMySne7qgBKy4dWM4cdx')]\n",
      "---------- planner ----------\n",
      "Transferred to writer, adopting the role of writer immediately.\n",
      "---------- writer ----------\n",
      "[FunctionCall(id='call_Kpdk51vPsWuLix9VSA2oqQop', arguments='{}', name='transfer_to_planner')]\n",
      "[Prompt tokens: 363, Completion tokens: 433]\n",
      "---------- writer ----------\n",
      "[FunctionExecutionResult(content='Transferred to planner, adopting the role of planner immediately.', call_id='call_Kpdk51vPsWuLix9VSA2oqQop')]\n",
      "---------- writer ----------\n",
      "Transferred to planner, adopting the role of planner immediately.\n",
      "---------- planner ----------\n",
      "The market research for TSLA stock has been successfully conducted and compiled. Here are the key findings:\n",
      "\n",
      "### Financial Analysis\n",
      "- **Current Price**: $180.25\n",
      "- **Trading Volume**: 1,000,000 shares\n",
      "- **P/E Ratio**: 65.4\n",
      "- **Market Capitalization**: $700 Billion\n",
      "\n",
      "### News Highlights\n",
      "1. **Tesla Expands Cybertruck Production** (Date: 2024-03-20)\n",
      "   - Tesla is ramping up Cybertruck manufacturing capacity at Gigafactory Texas to meet strong demand.\n",
      "   \n",
      "2. **Tesla FSD Beta Shows Promise** (Date: 2024-03-19)\n",
      "   - The latest Full Self-Driving beta demonstrates significant improvements in urban navigation and safety features.\n",
      "\n",
      "3. **Model Y Dominates Global EV Sales** (Date: 2024-03-18)\n",
      "   - The Model Y is now the best-selling electric vehicle worldwide, capturing a significant market share.\n",
      "\n",
      "This report indicates Tesla's strong market position with strategic expansions and product advancements. TSLA stock presents a robust growth potential due to its market leadership and ongoing innovations.\n",
      "\n",
      "TERMINATE\n",
      "[Prompt tokens: 536, Completion tokens: 237]\n",
      "---------- Summary ----------\n",
      "Number of messages: 26\n",
      "Finish reason: Text 'TERMINATE' mentioned\n",
      "Total prompt tokens: 2776\n",
      "Total completion tokens: 1327\n",
      "Duration: 54.97 seconds\n"
     ]
    },
    {
     "data": {
      "text/plain": [
       "TaskResult(messages=[TextMessage(source='user', models_usage=None, content='Conduct market research for TSLA stock', type='TextMessage'), ToolCallRequestEvent(source='planner', models_usage=RequestUsage(prompt_tokens=169, completion_tokens=142), content=[FunctionCall(id='call_E81TdVGOH438OB9faMDYXeiE', arguments='{}', name='transfer_to_financial_analyst')], type='ToolCallRequestEvent'), ToolCallExecutionEvent(source='planner', models_usage=None, content=[FunctionExecutionResult(content='Transferred to financial_analyst, adopting the role of financial_analyst immediately.', call_id='call_E81TdVGOH438OB9faMDYXeiE')], type='ToolCallExecutionEvent'), HandoffMessage(source='planner', models_usage=None, target='financial_analyst', content='Transferred to financial_analyst, adopting the role of financial_analyst immediately.', type='HandoffMessage'), ToolCallRequestEvent(source='financial_analyst', models_usage=RequestUsage(prompt_tokens=136, completion_tokens=16), content=[FunctionCall(id='call_CWcmzBuEDGbA47gnhyP0DNty', arguments='{\"symbol\":\"TSLA\"}', name='get_stock_data')], type='ToolCallRequestEvent'), ToolCallExecutionEvent(source='financial_analyst', models_usage=None, content=[FunctionExecutionResult(content=\"{'price': 180.25, 'volume': 1000000, 'pe_ratio': 65.4, 'market_cap': '700B'}\", call_id='call_CWcmzBuEDGbA47gnhyP0DNty')], type='ToolCallExecutionEvent'), ToolCallSummaryMessage(source='financial_analyst', models_usage=None, content=\"{'price': 180.25, 'volume': 1000000, 'pe_ratio': 65.4, 'market_cap': '700B'}\", type='ToolCallSummaryMessage'), ToolCallRequestEvent(source='financial_analyst', models_usage=RequestUsage(prompt_tokens=199, completion_tokens=262), content=[FunctionCall(id='call_D7fFjjwL3NCSQviHNM5EvM1g', arguments='{}', name='transfer_to_planner')], type='ToolCallRequestEvent'), ToolCallExecutionEvent(source='financial_analyst', models_usage=None, content=[FunctionExecutionResult(content='Transferred to planner, adopting the role of planner immediately.', call_id='call_D7fFjjwL3NCSQviHNM5EvM1g')], type='ToolCallExecutionEvent'), HandoffMessage(source='financial_analyst', models_usage=None, target='planner', content='Transferred to planner, adopting the role of planner immediately.', type='HandoffMessage'), ToolCallRequestEvent(source='planner', models_usage=RequestUsage(prompt_tokens=278, completion_tokens=14), content=[FunctionCall(id='call_tZCxzFz8Je8tReSGaAodgWOp', arguments='{}', name='transfer_to_news_analyst')], type='ToolCallRequestEvent'), ToolCallExecutionEvent(source='planner', models_usage=None, content=[FunctionExecutionResult(content='Transferred to news_analyst, adopting the role of news_analyst immediately.', call_id='call_tZCxzFz8Je8tReSGaAodgWOp')], type='ToolCallExecutionEvent'), HandoffMessage(source='planner', models_usage=None, target='news_analyst', content='Transferred to news_analyst, adopting the role of news_analyst immediately.', type='HandoffMessage'), ToolCallRequestEvent(source='news_analyst', models_usage=RequestUsage(prompt_tokens=222, completion_tokens=18), content=[FunctionCall(id='call_cm0w7U15AvbSaTJK6FZJ5q8Y', arguments='{\"query\":\"TSLA stock market insights\"}', name='get_news')], type='ToolCallRequestEvent'), ToolCallExecutionEvent(source='news_analyst', models_usage=None, content=[FunctionExecutionResult(content='[{\\'title\\': \\'Tesla Expands Cybertruck Production\\', \\'date\\': \\'2024-03-20\\', \\'summary\\': \\'Tesla ramps up Cybertruck manufacturing capacity at Gigafactory Texas, aiming to meet strong demand.\\'}, {\\'title\\': \\'Tesla FSD Beta Shows Promise\\', \\'date\\': \\'2024-03-19\\', \\'summary\\': \\'Latest Full Self-Driving beta demonstrates significant improvements in urban navigation and safety features.\\'}, {\\'title\\': \\'Model Y Dominates Global EV Sales\\', \\'date\\': \\'2024-03-18\\', \\'summary\\': \"Tesla\\'s Model Y becomes best-selling electric vehicle worldwide, capturing significant market share.\"}]', call_id='call_cm0w7U15AvbSaTJK6FZJ5q8Y')], type='ToolCallExecutionEvent'), ToolCallSummaryMessage(source='news_analyst', models_usage=None, content='[{\\'title\\': \\'Tesla Expands Cybertruck Production\\', \\'date\\': \\'2024-03-20\\', \\'summary\\': \\'Tesla ramps up Cybertruck manufacturing capacity at Gigafactory Texas, aiming to meet strong demand.\\'}, {\\'title\\': \\'Tesla FSD Beta Shows Promise\\', \\'date\\': \\'2024-03-19\\', \\'summary\\': \\'Latest Full Self-Driving beta demonstrates significant improvements in urban navigation and safety features.\\'}, {\\'title\\': \\'Model Y Dominates Global EV Sales\\', \\'date\\': \\'2024-03-18\\', \\'summary\\': \"Tesla\\'s Model Y becomes best-selling electric vehicle worldwide, capturing significant market share.\"}]', type='ToolCallSummaryMessage'), ToolCallRequestEvent(source='news_analyst', models_usage=RequestUsage(prompt_tokens=387, completion_tokens=194), content=[FunctionCall(id='call_NM1gmVZvkioS5sbWKZ7ROmDh', arguments='{}', name='transfer_to_planner')], type='ToolCallRequestEvent'), ToolCallExecutionEvent(source='news_analyst', models_usage=None, content=[FunctionExecutionResult(content='Transferred to planner, adopting the role of planner immediately.', call_id='call_NM1gmVZvkioS5sbWKZ7ROmDh')], type='ToolCallExecutionEvent'), HandoffMessage(source='news_analyst', models_usage=None, target='planner', content='Transferred to planner, adopting the role of planner immediately.', type='HandoffMessage'), ToolCallRequestEvent(source='planner', models_usage=RequestUsage(prompt_tokens=486, completion_tokens=11), content=[FunctionCall(id='call_4KHsVMySne7qgBKy4dWM4cdx', arguments='{}', name='transfer_to_writer')], type='ToolCallRequestEvent'), ToolCallExecutionEvent(source='planner', models_usage=None, content=[FunctionExecutionResult(content='Transferred to writer, adopting the role of writer immediately.', call_id='call_4KHsVMySne7qgBKy4dWM4cdx')], type='ToolCallExecutionEvent'), HandoffMessage(source='planner', models_usage=None, target='writer', content='Transferred to writer, adopting the role of writer immediately.', type='HandoffMessage'), ToolCallRequestEvent(source='writer', models_usage=RequestUsage(prompt_tokens=363, completion_tokens=433), content=[FunctionCall(id='call_Kpdk51vPsWuLix9VSA2oqQop', arguments='{}', name='transfer_to_planner')], type='ToolCallRequestEvent'), ToolCallExecutionEvent(source='writer', models_usage=None, content=[FunctionExecutionResult(content='Transferred to planner, adopting the role of planner immediately.', call_id='call_Kpdk51vPsWuLix9VSA2oqQop')], type='ToolCallExecutionEvent'), HandoffMessage(source='writer', models_usage=None, target='planner', content='Transferred to planner, adopting the role of planner immediately.', type='HandoffMessage'), TextMessage(source='planner', models_usage=RequestUsage(prompt_tokens=536, completion_tokens=237), content=\"The market research for TSLA stock has been successfully conducted and compiled. Here are the key findings:\\n\\n### Financial Analysis\\n- **Current Price**: $180.25\\n- **Trading Volume**: 1,000,000 shares\\n- **P/E Ratio**: 65.4\\n- **Market Capitalization**: $700 Billion\\n\\n### News Highlights\\n1. **Tesla Expands Cybertruck Production** (Date: 2024-03-20)\\n   - Tesla is ramping up Cybertruck manufacturing capacity at Gigafactory Texas to meet strong demand.\\n   \\n2. **Tesla FSD Beta Shows Promise** (Date: 2024-03-19)\\n   - The latest Full Self-Driving beta demonstrates significant improvements in urban navigation and safety features.\\n\\n3. **Model Y Dominates Global EV Sales** (Date: 2024-03-18)\\n   - The Model Y is now the best-selling electric vehicle worldwide, capturing a significant market share.\\n\\nThis report indicates Tesla's strong market position with strategic expansions and product advancements. TSLA stock presents a robust growth potential due to its market leadership and ongoing innovations.\\n\\nTERMINATE\", type='TextMessage')], stop_reason=\"Text 'TERMINATE' mentioned\")"
      ]
     },
     "execution_count": 8,
     "metadata": {},
     "output_type": "execute_result"
    }
   ],
   "source": [
    "task = \"Conduct market research for TSLA stock\"\n",
    "await Console(research_team.run_stream(task=task))"
   ]
  }
 ],
 "metadata": {
  "kernelspec": {
   "display_name": ".venv",
   "language": "python",
   "name": "python3"
  },
  "language_info": {
   "codemirror_mode": {
    "name": "ipython",
    "version": 3
   },
   "file_extension": ".py",
   "mimetype": "text/x-python",
   "name": "python",
   "nbconvert_exporter": "python",
   "pygments_lexer": "ipython3",
   "version": "3.10.16"
  }
 },
 "nbformat": 4,
 "nbformat_minor": 2
}
