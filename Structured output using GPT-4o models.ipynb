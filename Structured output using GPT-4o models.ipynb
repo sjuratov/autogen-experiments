{
 "cells": [
  {
   "cell_type": "code",
   "execution_count": 1,
   "metadata": {},
   "outputs": [],
   "source": [
    "import os\n",
    "from dotenv import load_dotenv\n",
    "\n",
    "# Load environment variables from a .env file\n",
    "load_dotenv()\n",
    "\n",
    "# Access environment variables\n",
    "AZURE_OPENAI_API_KEY = os.getenv('AZURE_OPENAI_API_KEY')\n",
    "AZURE_OPENAI_ENDPOINT = os.getenv('AZURE_OPENAI_ENDPOINT')\n",
    "AZURE_OPENAI_DEPLOYMENT = os.getenv('AZURE_OPENAI_DEPLOYMENT')\n",
    "AZURE_OPENAI_API_VERSION = os.getenv('AZURE_OPENAI_API_VERSION')"
   ]
  },
  {
   "cell_type": "code",
   "execution_count": 2,
   "metadata": {},
   "outputs": [],
   "source": [
    "from pydantic import BaseModel\n",
    "\n",
    "class MathReasoning(BaseModel):\n",
    "    class Step(BaseModel):\n",
    "        explanation: str\n",
    "        output: str\n",
    "\n",
    "    steps: list[Step]\n",
    "    final_answer: str"
   ]
  },
  {
   "cell_type": "code",
   "execution_count": 3,
   "metadata": {},
   "outputs": [
    {
     "name": "stderr",
     "output_type": "stream",
     "text": [
      "/var/folders/v1/cv54pg7n7rdfjb_37_f20cd00000gn/T/ipykernel_22744/731393293.py:6: DeprecationWarning: autogen_ext.models.AzureOpenAIChatCompletionClient moved to autogen_ext.models.openai.AzureOpenAIChatCompletionClient. This alias will be removed in 0.4.0.\n",
      "  client = AzureOpenAIChatCompletionClient(\n",
      "/Users/sjuratovic/repos/autogen-experiments/.venv/lib/python3.10/site-packages/autogen_ext/models/openai/_openai_client.py:1061: UserWarning: Previous behavior of using the model name as the deployment name is deprecated and will be removed in 0.4. Please specify azure_deployment\n",
      "  client = _azure_openai_client_from_config(copied_args)\n"
     ]
    }
   ],
   "source": [
    "import json\n",
    "\n",
    "from autogen_ext.models import AzureOpenAIChatCompletionClient\n",
    "\n",
    "# Create the client with type-checked environment variables\n",
    "client = AzureOpenAIChatCompletionClient(\n",
    "    model=AZURE_OPENAI_DEPLOYMENT,\n",
    "    api_version=AZURE_OPENAI_API_VERSION,\n",
    "    azure_endpoint=AZURE_OPENAI_ENDPOINT,\n",
    "    azure_key=AZURE_OPENAI_API_KEY,\n",
    "    model_capabilities={\n",
    "        \"vision\":True,\n",
    "        \"function_calling\":True,\n",
    "        \"json_output\":True\n",
    "    }\n",
    ")"
   ]
  },
  {
   "cell_type": "code",
   "execution_count": 4,
   "metadata": {},
   "outputs": [
    {
     "name": "stderr",
     "output_type": "stream",
     "text": [
      "/var/folders/v1/cv54pg7n7rdfjb_37_f20cd00000gn/T/ipykernel_22744/3799510949.py:5: DeprecationWarning: autogen_core.components.models.UserMessage moved to autogen_core.models.UserMessage. This alias will be removed in 0.4.0.\n",
      "  UserMessage(content=\"What is 16 + 32?\", source=\"user\"),\n"
     ]
    }
   ],
   "source": [
    "from autogen_core.components.models import UserMessage\n",
    "\n",
    "# Define the user message\n",
    "messages = [\n",
    "    UserMessage(content=\"What is 16 + 32?\", source=\"user\"),\n",
    "]\n",
    "\n",
    "# Call the create method on the client, passing the messages and additional arguments\n",
    "# The extra_create_args dictionary includes the response format as MathReasoning model we defined above\n",
    "# Providing the response format and pydantic model will use the new parse method from beta SDK\n",
    "response = await client.create(messages=messages, extra_create_args={\"response_format\": MathReasoning})"
   ]
  },
  {
   "cell_type": "code",
   "execution_count": 5,
   "metadata": {},
   "outputs": [
    {
     "name": "stdout",
     "output_type": "stream",
     "text": [
      "{'steps': [{'explanation': 'Start with the number 16.', 'output': '16'}, {'explanation': 'Add the second number, which is 32, to the first number 16.', 'output': '16 + 32 = 48'}], 'final_answer': '48'}\n"
     ]
    },
    {
     "data": {
      "text/plain": [
       "MathReasoning(steps=[Step(explanation='Start with the number 16.', output='16'), Step(explanation='Add the second number, which is 32, to the first number 16.', output='16 + 32 = 48')], final_answer='48')"
      ]
     },
     "execution_count": 5,
     "metadata": {},
     "output_type": "execute_result"
    }
   ],
   "source": [
    "from typing import Optional\n",
    "\n",
    "# Ensure the response content is a valid JSON string before loading it\n",
    "response_content: Optional[str] = response.content if isinstance(response.content, str) else None\n",
    "if response_content is None:\n",
    "    raise ValueError(\"Response content is not a valid JSON string\")\n",
    "\n",
    "# Print the response content after loading it as JSON\n",
    "print(json.loads(response_content))\n",
    "\n",
    "# Validate the response content with the MathReasoning model\n",
    "MathReasoning.model_validate(json.loads(response_content))"
   ]
  }
 ],
 "metadata": {
  "kernelspec": {
   "display_name": ".venv",
   "language": "python",
   "name": "python3"
  },
  "language_info": {
   "codemirror_mode": {
    "name": "ipython",
    "version": 3
   },
   "file_extension": ".py",
   "mimetype": "text/x-python",
   "name": "python",
   "nbconvert_exporter": "python",
   "pygments_lexer": "ipython3",
   "version": "3.10.16"
  }
 },
 "nbformat": 4,
 "nbformat_minor": 2
}
