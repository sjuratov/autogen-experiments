{
 "cells": [
  {
   "cell_type": "code",
   "execution_count": 1,
   "metadata": {},
   "outputs": [],
   "source": [
    "# Warning control\n",
    "import warnings\n",
    "warnings.filterwarnings('ignore')"
   ]
  },
  {
   "cell_type": "code",
   "execution_count": 2,
   "metadata": {},
   "outputs": [],
   "source": [
    "from typing import Any, Dict, List\n",
    "\n",
    "from autogen_agentchat.agents import AssistantAgent\n",
    "from autogen_agentchat.conditions import HandoffTermination, TextMentionTermination\n",
    "from autogen_agentchat.messages import HandoffMessage\n",
    "from autogen_agentchat.teams import Swarm\n",
    "from autogen_agentchat.ui import Console\n",
    "from autogen_ext.models.openai import AzureOpenAIChatCompletionClient\n",
    "\n",
    "from dotenv import load_dotenv\n",
    "import os"
   ]
  },
  {
   "cell_type": "markdown",
   "metadata": {},
   "source": [
    "## Loading environment variables"
   ]
  },
  {
   "cell_type": "code",
   "execution_count": 3,
   "metadata": {},
   "outputs": [],
   "source": [
    "# Load environment variables from a .env file\n",
    "load_dotenv()\n",
    "\n",
    "# Access environment variables\n",
    "AZURE_OPENAI_API_KEY = os.getenv('AZURE_OPENAI_API_KEY')\n",
    "AZURE_OPENAI_ENDPOINT = os.getenv('AZURE_OPENAI_ENDPOINT')\n",
    "AZURE_OPENAI_DEPLOYMENT = os.getenv('AZURE_OPENAI_DEPLOYMENT')\n",
    "API_NINJAS_API_KEY=os.getenv('API_NINJAS_API_KEY')"
   ]
  },
  {
   "cell_type": "markdown",
   "metadata": {},
   "source": [
    "## Tool definition"
   ]
  },
  {
   "cell_type": "code",
   "execution_count": 4,
   "metadata": {},
   "outputs": [],
   "source": [
    "def refund_flight(flight_id: str) -> str:\n",
    "    \"\"\"Refund a flight\"\"\"\n",
    "    return f\"Flight {flight_id} refunded\""
   ]
  },
  {
   "cell_type": "markdown",
   "metadata": {},
   "source": [
    "## Model client definition"
   ]
  },
  {
   "cell_type": "code",
   "execution_count": 5,
   "metadata": {},
   "outputs": [],
   "source": [
    "model_client = AzureOpenAIChatCompletionClient(\n",
    "    model=AZURE_OPENAI_DEPLOYMENT,\n",
    "    api_version=\"2024-02-01\",\n",
    "    azure_endpoint=AZURE_OPENAI_ENDPOINT,\n",
    "    azure_key=AZURE_OPENAI_API_KEY,\n",
    "    model_capabilities={\n",
    "        \"vision\":True,\n",
    "        \"function_calling\":True,\n",
    "        \"json_output\":True,\n",
    "    }\n",
    ")"
   ]
  },
  {
   "cell_type": "markdown",
   "metadata": {},
   "source": [
    "## Agents definition"
   ]
  },
  {
   "cell_type": "code",
   "execution_count": 6,
   "metadata": {},
   "outputs": [],
   "source": [
    "travel_agent = AssistantAgent(\n",
    "    \"travel_agent\",\n",
    "    model_client=model_client,\n",
    "    handoffs=[\"flights_refunder\", \"user\"],\n",
    "    system_message=\"\"\"You are a travel agent.\n",
    "    The flights_refunder is in charge of refunding flights.\n",
    "    If you need information from the user, you must first send your message, then you can handoff to the user.\n",
    "    Use TERMINATE when the travel planning is complete.\"\"\",\n",
    ")\n",
    "\n",
    "flights_refunder = AssistantAgent(\n",
    "    \"flights_refunder\",\n",
    "    model_client=model_client,\n",
    "    handoffs=[\"travel_agent\", \"user\"],\n",
    "    tools=[refund_flight],\n",
    "    system_message=\"\"\"You are an agent specialized in refunding flights.\n",
    "    You only need flight reference numbers to refund a flight.\n",
    "    You have the ability to refund a flight using the refund_flight tool.\n",
    "    If you need information from the user, you must first send your message, then you can handoff to the user.\n",
    "    When the transaction is complete, handoff to the travel agent to finalize.\"\"\",\n",
    ")"
   ]
  },
  {
   "cell_type": "markdown",
   "metadata": {},
   "source": [
    "## Termination and team definition"
   ]
  },
  {
   "cell_type": "code",
   "execution_count": 7,
   "metadata": {},
   "outputs": [],
   "source": [
    "termination = HandoffTermination(target=\"user\") | TextMentionTermination(\"TERMINATE\")\n",
    "team = Swarm([travel_agent, flights_refunder], termination_condition=termination)"
   ]
  },
  {
   "cell_type": "markdown",
   "metadata": {},
   "source": [
    "## Run team"
   ]
  },
  {
   "cell_type": "code",
   "execution_count": 8,
   "metadata": {},
   "outputs": [
    {
     "name": "stdout",
     "output_type": "stream",
     "text": [
      "---------- user ----------\n",
      "I need to refund my flight.\n",
      "---------- travel_agent ----------\n",
      "[FunctionCall(id='call_tZCxzFz8Je8tReSGaAodgWOp', arguments='{}', name='transfer_to_flights_refunder')]\n",
      "[Prompt tokens: 119, Completion tokens: 14]\n",
      "---------- travel_agent ----------\n",
      "[FunctionExecutionResult(content='Transferred to flights_refunder, adopting the role of flights_refunder immediately.', call_id='call_tZCxzFz8Je8tReSGaAodgWOp')]\n",
      "---------- travel_agent ----------\n",
      "Transferred to flights_refunder, adopting the role of flights_refunder immediately.\n",
      "---------- flights_refunder ----------\n",
      "To process your flight refund, I will need the flight reference number. Could you please provide that for me?\n",
      "[Prompt tokens: 191, Completion tokens: 23]\n",
      "---------- flights_refunder ----------\n",
      "[FunctionCall(id='call_iYGW8XehjUE53qx8KZEfsKpx', arguments='{}', name='transfer_to_user')]\n",
      "[Prompt tokens: 222, Completion tokens: 11]\n",
      "---------- flights_refunder ----------\n",
      "[FunctionExecutionResult(content='Transferred to user, adopting the role of user immediately.', call_id='call_iYGW8XehjUE53qx8KZEfsKpx')]\n",
      "---------- flights_refunder ----------\n",
      "Transferred to user, adopting the role of user immediately.\n",
      "---------- Summary ----------\n",
      "Number of messages: 8\n",
      "Finish reason: Handoff to user from flights_refunder detected.\n",
      "Total prompt tokens: 532\n",
      "Total completion tokens: 48\n",
      "Duration: 1.19 seconds\n",
      "---------- user ----------\n",
      "Sure, it's OU429\n",
      "---------- flights_refunder ----------\n",
      "[FunctionCall(id='call_5Fbe15ke0Q0zuJTtSrkrbCYf', arguments='{\"flight_id\":\"OU429\"}', name='refund_flight')]\n",
      "[Prompt tokens: 268, Completion tokens: 18]\n",
      "---------- flights_refunder ----------\n",
      "[FunctionExecutionResult(content='Flight OU429 refunded', call_id='call_5Fbe15ke0Q0zuJTtSrkrbCYf')]\n",
      "---------- flights_refunder ----------\n",
      "Flight OU429 refunded\n",
      "---------- flights_refunder ----------\n",
      "[FunctionCall(id='call_5Fbe15ke0Q0zuJTtSrkrbCYf', arguments='{}', name='transfer_to_travel_agent')]\n",
      "[Prompt tokens: 304, Completion tokens: 13]\n",
      "---------- flights_refunder ----------\n",
      "[FunctionExecutionResult(content='Transferred to travel_agent, adopting the role of travel_agent immediately.', call_id='call_5Fbe15ke0Q0zuJTtSrkrbCYf')]\n",
      "---------- flights_refunder ----------\n",
      "Transferred to travel_agent, adopting the role of travel_agent immediately.\n",
      "---------- travel_agent ----------\n",
      "Your flight OU429 has been successfully refunded. If there's anything else you need, feel free to let me know. Safe travels! TERMINATE\n",
      "[Prompt tokens: 259, Completion tokens: 29]\n",
      "---------- Summary ----------\n",
      "Number of messages: 8\n",
      "Finish reason: Text 'TERMINATE' mentioned\n",
      "Total prompt tokens: 831\n",
      "Total completion tokens: 60\n",
      "Duration: 1.36 seconds\n"
     ]
    }
   ],
   "source": [
    "task = \"I need to refund my flight.\"\n",
    "\n",
    "\n",
    "async def run_team_stream() -> None:\n",
    "    task_result = await Console(team.run_stream(task=task))\n",
    "    last_message = task_result.messages[-1]\n",
    "\n",
    "    while isinstance(last_message, HandoffMessage) and last_message.target == \"user\":\n",
    "        user_message = input(\"User: \")\n",
    "\n",
    "        task_result = await Console(\n",
    "            team.run_stream(task=HandoffMessage(source=\"user\", target=last_message.source, content=user_message))\n",
    "        )\n",
    "        last_message = task_result.messages[-1]\n",
    "\n",
    "\n",
    "await run_team_stream()"
   ]
  }
 ],
 "metadata": {
  "kernelspec": {
   "display_name": ".venv",
   "language": "python",
   "name": "python3"
  },
  "language_info": {
   "codemirror_mode": {
    "name": "ipython",
    "version": 3
   },
   "file_extension": ".py",
   "mimetype": "text/x-python",
   "name": "python",
   "nbconvert_exporter": "python",
   "pygments_lexer": "ipython3",
   "version": "3.10.16"
  }
 },
 "nbformat": 4,
 "nbformat_minor": 2
}
