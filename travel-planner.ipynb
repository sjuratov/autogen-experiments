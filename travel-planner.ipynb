{
 "cells": [
  {
   "cell_type": "code",
   "execution_count": 1,
   "metadata": {},
   "outputs": [],
   "source": [
    "from autogen_agentchat.agents import CodingAssistantAgent, AssistantAgent\n",
    "from autogen_agentchat.task import TextMentionTermination\n",
    "from autogen_agentchat.teams import RoundRobinGroupChat\n",
    "from autogen_ext.models import AzureOpenAIChatCompletionClient\n",
    "\n",
    "import os\n",
    "from dotenv import load_dotenv"
   ]
  },
  {
   "cell_type": "code",
   "execution_count": 2,
   "metadata": {},
   "outputs": [],
   "source": [
    "# Load environment variables from a .env file\n",
    "load_dotenv()\n",
    "\n",
    "# Access environment variables\n",
    "AZURE_OPENAI_API_KEY = os.getenv('AZURE_OPENAI_API_KEY')\n",
    "AZURE_OPENAI_ENDPOINT = os.getenv('AZURE_OPENAI_ENDPOINT')\n",
    "AZURE_OPENAI_DEPLOYMENT = os.getenv('AZURE_OPENAI_DEPLOYMENT')"
   ]
  },
  {
   "cell_type": "code",
   "execution_count": 3,
   "metadata": {},
   "outputs": [
    {
     "name": "stderr",
     "output_type": "stream",
     "text": [
      "/var/folders/v1/cv54pg7n7rdfjb_37_f20cd00000gn/T/ipykernel_22768/3143287853.py:1: DeprecationWarning: autogen_ext.models.AzureOpenAIChatCompletionClient moved to autogen_ext.models.openai.AzureOpenAIChatCompletionClient. This alias will be removed in 0.4.0.\n",
      "  client = AzureOpenAIChatCompletionClient(\n",
      "/Users/sjuratovic/repos/autogen-experiments/.venv/lib/python3.10/site-packages/autogen_ext/models/openai/_openai_client.py:1061: UserWarning: Previous behavior of using the model name as the deployment name is deprecated and will be removed in 0.4. Please specify azure_deployment\n",
      "  client = _azure_openai_client_from_config(copied_args)\n"
     ]
    }
   ],
   "source": [
    "client = AzureOpenAIChatCompletionClient(\n",
    "    model=AZURE_OPENAI_DEPLOYMENT,\n",
    "    api_version=\"2024-02-01\",\n",
    "    azure_endpoint=AZURE_OPENAI_ENDPOINT,\n",
    "    azure_key=AZURE_OPENAI_API_KEY,\n",
    "    model_capabilities={\n",
    "        \"vision\":True,\n",
    "        \"function_calling\":True,\n",
    "        \"json_output\":True,\n",
    "    }\n",
    ")"
   ]
  },
  {
   "cell_type": "code",
   "execution_count": 4,
   "metadata": {},
   "outputs": [],
   "source": [
    "planner_agent = AssistantAgent(\n",
    "    \"planner_agent\",\n",
    "    model_client=client,\n",
    "    description=\"A helpful assistant that can plan trips.\",\n",
    "    system_message=\"You are a helpful assistant that can suggest a travel plan for a user based on their request.\",\n",
    ")\n",
    "\n",
    "local_agent = AssistantAgent(\n",
    "    \"local_agent\",\n",
    "    model_client=client,\n",
    "    description=\"A local assistant that can suggest local activities or places to visit.\",\n",
    "    system_message=\"You are a helpful assistant that can suggest authentic and interesting local activities or places to visit for a user and can utilize any context information provided.\",\n",
    ")\n",
    "\n",
    "language_agent = AssistantAgent(\n",
    "    \"language_agent\",\n",
    "    model_client=client,\n",
    "    description=\"A helpful assistant that can provide language tips for a given destination.\",\n",
    "    system_message=\"You are a helpful assistant that can review travel plans, providing feedback on important/critical tips about how best to address language or communication challenges for the given destination. If the plan already includes language tips, you can mention that the plan is satisfactory, with rationale.\",\n",
    ")\n",
    "\n",
    "travel_summary_agent = AssistantAgent(\n",
    "    \"travel_summary_agent\",\n",
    "    model_client=client,\n",
    "    description=\"A helpful assistant that can summarize the travel plan.\",\n",
    "    system_message=\"You are a helpful assistant that can take in all of the suggestions and advice from the other agents and provide a detailed tfinal travel plan. You must ensure th b at the final plan is integrated and complete. YOUR FINAL RESPONSE MUST BE THE COMPLETE PLAN. When the plan is complete and all perspectives are integrated, you can respond with TERMINATE.\",\n",
    ")"
   ]
  },
  {
   "cell_type": "code",
   "execution_count": 5,
   "metadata": {},
   "outputs": [],
   "source": [
    "termination = TextMentionTermination(\"TERMINATE\")\n",
    "\n",
    "group_chat = RoundRobinGroupChat(\n",
    "    [planner_agent, local_agent, language_agent, travel_summary_agent],\n",
    "    termination_condition=termination\n",
    ")"
   ]
  },
  {
   "cell_type": "code",
   "execution_count": 6,
   "metadata": {},
   "outputs": [],
   "source": [
    "result = await group_chat.run(task=\"Plan a 3 day trip to Paris.\")"
   ]
  },
  {
   "cell_type": "code",
   "execution_count": 7,
   "metadata": {},
   "outputs": [
    {
     "data": {
      "text/markdown": [
       "<hr>"
      ],
      "text/plain": [
       "<IPython.core.display.Markdown object>"
      ]
     },
     "metadata": {},
     "output_type": "display_data"
    },
    {
     "data": {
      "text/markdown": [
       "## Step: 1 (output from user)"
      ],
      "text/plain": [
       "<IPython.core.display.Markdown object>"
      ]
     },
     "metadata": {},
     "output_type": "display_data"
    },
    {
     "data": {
      "text/markdown": [
       "<hr>"
      ],
      "text/plain": [
       "<IPython.core.display.Markdown object>"
      ]
     },
     "metadata": {},
     "output_type": "display_data"
    },
    {
     "data": {
      "text/markdown": [
       "Plan a 3 day trip to Paris."
      ],
      "text/plain": [
       "<IPython.core.display.Markdown object>"
      ]
     },
     "metadata": {},
     "output_type": "display_data"
    },
    {
     "data": {
      "text/markdown": [
       "<hr>"
      ],
      "text/plain": [
       "<IPython.core.display.Markdown object>"
      ]
     },
     "metadata": {},
     "output_type": "display_data"
    },
    {
     "data": {
      "text/markdown": [
       "## Step: 2 (output from planner_agent)"
      ],
      "text/plain": [
       "<IPython.core.display.Markdown object>"
      ]
     },
     "metadata": {},
     "output_type": "display_data"
    },
    {
     "name": "stdout",
     "output_type": "stream",
     "text": [
      "Prompt Tokens: 40\n",
      "Completion Tokens: 749\n"
     ]
    },
    {
     "data": {
      "text/markdown": [
       "<hr>"
      ],
      "text/plain": [
       "<IPython.core.display.Markdown object>"
      ]
     },
     "metadata": {},
     "output_type": "display_data"
    },
    {
     "data": {
      "text/markdown": [
       "Paris, the City of Light, is a destination full of history, art, fashion, and culture. Here is a suggested itinerary for a 3-day trip to maximize your experience of this beautiful city:\n",
       "\n",
       "### Day 1: Classic Paris\n",
       "\n",
       "**Morning:**\n",
       "- **Eiffel Tower**: Start your day early at the Eiffel Tower. Arrive as it opens to avoid large crowds. Take the elevator or climb the stairs to enjoy an incredible view of Paris.\n",
       "  \n",
       "**Afternoon:**\n",
       "- **River Seine Cruise**: After visiting the Eiffel Tower, take a relaxing Seine River cruise to see landmarks like Notre-Dame, the Louvre, and Pont Alexandre III from the water.\n",
       "- **Lunch at a Café**: Enjoy lunch at a traditional Parisian café in the Latin Quarter or near Saint-Germain-des-Prés.\n",
       "\n",
       "**Evening:**\n",
       "- **Champs-Élysées & Arc de Triomphe**: Stroll down the Champs-Élysées, one of the most famous avenues in the world, towards the Arc de Triomphe. Climb to the top for spectacular sunset views.\n",
       "- **Dinner in the Marais**: Explore the vibrant Marais district known for its restaurants and shops. Try a local bistro for dinner.\n",
       "\n",
       "### Day 2: Art and Culture\n",
       "\n",
       "**Morning:**\n",
       "- **Louvre Museum**: Visit the Louvre, one of the world's largest and most famous art museums. Arrive early to see masterpieces like the Mona Lisa and the Venus de Milo without large crowds.\n",
       "\n",
       "**Afternoon:**\n",
       "- **Lunch in Montmartre**: Head to Montmartre for lunch. Explore the charming cobblestone streets and visit the Sacré-Cœur Basilica for a panoramic view of the city.\n",
       "- **Musée d'Orsay**: Spend your afternoon at the Musée d'Orsay, home to an extensive collection of Impressionist and Post-Impressionist masterpieces in a stunning Beaux-Arts railway station.\n",
       "\n",
       "**Evening:**\n",
       "- **Moulin Rouge or Evening Stroll**: Consider attending a show at the famous Moulin Rouge, or enjoy an evening stroll along the Seine, perhaps stopping at a wine bar for a drink.\n",
       "\n",
       "### Day 3: Hidden Gems and Relaxation\n",
       "\n",
       "**Morning:**\n",
       "- **Le Marais & Bastille**: Explore the Le Marais district's boutique shops and art galleries, then take a walk to the Bastille, soaking in the historical ambiance.\n",
       "- **Picnic at Luxembourg Gardens**: Buy some pastries, cheese, and wine and enjoy a picnic in the beautiful Luxembourg Gardens.\n",
       "\n",
       "**Afternoon:**\n",
       "- **Île de la Cité & Notre-Dame**: Visit the Île de la Cité. While Notre-Dame is under renovation, you can still appreciate the gothic architecture from outside. Don’t miss Sainte-Chapelle for its stunning stained glass.\n",
       "\n",
       "**Evening:**\n",
       "- **Dinner in the Latin Quarter**: Spend your last evening in the Latin Quarter, enjoying a leisurely dinner at a brasserie or traditional French restaurant.\n",
       "- **Nighttime View of the Eiffel Tower**: Conclude your trip with a nighttime view of the Eiffel Tower as it sparkles on the hour. A perfect end to your Parisian adventure.\n",
       "\n",
       "**Tips:**\n",
       "- **Transport**: Consider getting a Paris Visite pass or a carnet (book of 10 tickets) for the metro and bus system.\n",
       "- **Museum Pass**: The Paris Museum Pass can save you time and money if you plan to visit multiple museums.\n",
       "- **Dining**: Reserve tables for dinner, especially in popular areas.\n",
       "\n",
       "Enjoy your trip to Paris, where each day can be filled with history, fine dining, and picturesque views!"
      ],
      "text/plain": [
       "<IPython.core.display.Markdown object>"
      ]
     },
     "metadata": {},
     "output_type": "display_data"
    },
    {
     "data": {
      "text/markdown": [
       "<hr>"
      ],
      "text/plain": [
       "<IPython.core.display.Markdown object>"
      ]
     },
     "metadata": {},
     "output_type": "display_data"
    },
    {
     "data": {
      "text/markdown": [
       "## Step: 3 (output from local_agent)"
      ],
      "text/plain": [
       "<IPython.core.display.Markdown object>"
      ]
     },
     "metadata": {},
     "output_type": "display_data"
    },
    {
     "name": "stdout",
     "output_type": "stream",
     "text": [
      "Prompt Tokens: 805\n",
      "Completion Tokens: 62\n"
     ]
    },
    {
     "data": {
      "text/markdown": [
       "<hr>"
      ],
      "text/plain": [
       "<IPython.core.display.Markdown object>"
      ]
     },
     "metadata": {},
     "output_type": "display_data"
    },
    {
     "data": {
      "text/markdown": [
       "If you have any particular interests or preferences, such as favorite types of food or specific areas of art or history, feel free to let me know, and I can tailor the itinerary to better suit your tastes. Additionally, if you need recommendations for accommodations or transportation tips within the city, I'm here to help!"
      ],
      "text/plain": [
       "<IPython.core.display.Markdown object>"
      ]
     },
     "metadata": {},
     "output_type": "display_data"
    },
    {
     "data": {
      "text/markdown": [
       "<hr>"
      ],
      "text/plain": [
       "<IPython.core.display.Markdown object>"
      ]
     },
     "metadata": {},
     "output_type": "display_data"
    },
    {
     "data": {
      "text/markdown": [
       "## Step: 4 (output from language_agent)"
      ],
      "text/plain": [
       "<IPython.core.display.Markdown object>"
      ]
     },
     "metadata": {},
     "output_type": "display_data"
    },
    {
     "name": "stdout",
     "output_type": "stream",
     "text": [
      "Prompt Tokens: 898\n",
      "Completion Tokens: 310\n"
     ]
    },
    {
     "data": {
      "text/markdown": [
       "<hr>"
      ],
      "text/plain": [
       "<IPython.core.display.Markdown object>"
      ]
     },
     "metadata": {},
     "output_type": "display_data"
    },
    {
     "data": {
      "text/markdown": [
       "Your 3-day trip to Paris looks well-planned with a great mix of iconic sights, cultural experiences, and relaxation. Here are a few language and communication tips to consider for your trip:\n",
       "\n",
       "1. **Basic French Phrases**: While many Parisians speak English, learning a few basic French phrases can enhance your experience. Simple greetings like \"Bonjour\" (Hello), \"Merci\" (Thank you), and \"Parlez-vous anglais?\" (Do you speak English?) are appreciated and can lead to warmer interactions.\n",
       "\n",
       "2. **Restaurant Etiquette**: When dining out, it's common to greet the staff with \"Bonjour\" when entering and to ask for the check with \"L'addition, s'il vous plaît\" (The bill, please).\n",
       "\n",
       "3. **Public Transport**: Signs and announcements in the metro are primarily in French. Familiarizing yourself with key phrases like \"Correspondance\" (Transfer) and \"Sortie\" (Exit) can be helpful.\n",
       "\n",
       "4. **Navigation Apps**: Download a translation app or a French-English dictionary app for quick reference. Apps like Google Maps can help with directions, and many offer offline options.\n",
       "\n",
       "5. **Cultural Sensitivity**: Politeness is important in French culture. Always start interactions with a greeting and remember to say \"Au revoir\" (Goodbye) when leaving a shop.\n",
       "\n",
       "Your itinerary already includes language-related tips regarding public transport passes and the museum pass, which is great. These suggestions should ensure smooth communication and enhance your overall Parisian experience. Bon voyage!"
      ],
      "text/plain": [
       "<IPython.core.display.Markdown object>"
      ]
     },
     "metadata": {},
     "output_type": "display_data"
    },
    {
     "data": {
      "text/markdown": [
       "<hr>"
      ],
      "text/plain": [
       "<IPython.core.display.Markdown object>"
      ]
     },
     "metadata": {},
     "output_type": "display_data"
    },
    {
     "data": {
      "text/markdown": [
       "## Step: 5 (output from travel_summary_agent)"
      ],
      "text/plain": [
       "<IPython.core.display.Markdown object>"
      ]
     },
     "metadata": {},
     "output_type": "display_data"
    },
    {
     "name": "stdout",
     "output_type": "stream",
     "text": [
      "Prompt Tokens: 1232\n",
      "Completion Tokens: 827\n"
     ]
    },
    {
     "data": {
      "text/markdown": [
       "<hr>"
      ],
      "text/plain": [
       "<IPython.core.display.Markdown object>"
      ]
     },
     "metadata": {},
     "output_type": "display_data"
    },
    {
     "data": {
      "text/markdown": [
       "Here is a comprehensive 3-day travel plan to Paris that incorporates sightseeing, cultural experiences, local dining, helpful language tips, and practical advice to make your visit enjoyable:\n",
       "\n",
       "---\n",
       "\n",
       "### Day 1: Classic Paris\n",
       "\n",
       "**Morning:**\n",
       "- **Eiffel Tower**: Begin your day with a visit to the Eiffel Tower. Arrive early to avoid the crowds and enjoy a panoramic view of Paris. Purchase your tickets in advance.\n",
       "  - **Language Tip**: Greet staff with “Bonjour” and remember to say “Merci” after your visit.\n",
       "\n",
       "**Afternoon:**\n",
       "- **Seine River Cruise**: After your Eiffel Tower visit, relax with a scenic Seine River cruise. You'll pass by iconic landmarks, including the Notre-Dame Cathedral and the Louvre.\n",
       "- **Lunch**: Enjoy a leisurely lunch at a café in the Latin Quarter or near Saint-Germain-des-Prés. Taste some French specialties like quiche or a croque-monsieur.\n",
       "  - **Cultural Tip**: Begin your meal interactions with \"Bonjour\" and ask for \"L'addition, s'il vous plaît\" when ready to leave.\n",
       "\n",
       "**Evening:**\n",
       "- **Champs-Élysées & Arc de Triomphe**: Stroll along the famous avenue towards the Arc de Triomphe. Consider climbing to the top for sunset views of the lively Champs-Élysées.\n",
       "- **Dinner in the Marais**: Enjoy dinner at a traditional Parisian bistro in the bustling Marais district.\n",
       "\n",
       "---\n",
       "\n",
       "### Day 2: Art and Culture\n",
       "\n",
       "**Morning:**\n",
       "- **Louvre Museum**: Spend the morning at the Louvre. Arrive early and pre-purchase a museum pass to skip the lines. Make sure to see the Mona Lisa and other famed masterpieces.\n",
       "  - **Language Tip**: Familiarize yourself with words like \"Entrée\" (Entrance).\n",
       "\n",
       "**Afternoon:**\n",
       "- **Lunch in Montmartre**: Travel to Montmartre for lunch. Explore the artsy district and visit the Sacré-Cœur Basilica, where you’ll have an amazing view of Paris.\n",
       "- **Musée d'Orsay**: Dedicate your afternoon to the Musée d'Orsay, featuring works by Monet, Van Gogh, and other renowned artists.\n",
       "\n",
       "**Evening:**\n",
       "- **Moulin Rouge Show or Evening Stroll**: Depending on your interest, consider attending a vibrant show at the Moulin Rouge or enjoy a peaceful evening walk along the Seine.\n",
       "  - **Cultural Sensitivity Tip**: Parisians appreciate politeness. Start interactions with a greeting such as \"Bonsoir\" in the evening.\n",
       "\n",
       "---\n",
       "\n",
       "### Day 3: Hidden Gems and Relaxation\n",
       "\n",
       "**Morning:**\n",
       "- **Le Marais & Bastille**: Spend your morning exploring the boutique shops and art galleries in Le Marais. Learn about the historical significance of the Bastille.\n",
       "- **Picnic at Luxembourg Gardens**: Buy fresh pastries, wine, and cheese from a nearby market and enjoy a relaxed picnic in the Luxembourg Gardens.\n",
       "\n",
       "**Afternoon:**\n",
       "- **Île de la Cité & Notre-Dame**: Visit the Île de la Cité and admire the exterior of Notre-Dame Cathedral. Head to Sainte-Chapelle to witness its remarkable stained glass windows.\n",
       "\n",
       "**Evening:**\n",
       "- **Dinner in the Latin Quarter**: Choose a cozy brasserie or traditional French restaurant in the Latin Quarter for your farewell dinner.\n",
       "- **Eiffel Tower at Night**: Conclude your trip with a view of the Eiffel Tower illuminating the night sky as it sparkles every hour.\n",
       "\n",
       "---\n",
       "\n",
       "**Additional Tips:**\n",
       "\n",
       "- **Transport**: Consider purchasing a Paris Visite pass for unlimited travel on public transportation or opt for a carnet of metro tickets for flexibility.\n",
       "- **Navigation and Language Apps**: Use Google Maps and language translation apps to assist with directions and communication.\n",
       "- **Cultural Awareness**: Always begin conversations with polite greetings and respect local customs.\n",
       "\n",
       "Enjoy your magical stay in Paris while embracing the art, history, and romance that the city has to offer. Bon voyage!\n",
       "\n",
       "TERMINATE"
      ],
      "text/plain": [
       "<IPython.core.display.Markdown object>"
      ]
     },
     "metadata": {},
     "output_type": "display_data"
    },
    {
     "data": {
      "text/markdown": [
       "<hr>"
      ],
      "text/plain": [
       "<IPython.core.display.Markdown object>"
      ]
     },
     "metadata": {},
     "output_type": "display_data"
    },
    {
     "name": "stdout",
     "output_type": "stream",
     "text": [
      "Total Prompt Tokens: 2975\n",
      "Total Completion Tokens: 1948\n",
      "Total Tokens: 4923\n"
     ]
    }
   ],
   "source": [
    "from IPython.display import Markdown, display\n",
    "\n",
    "total_prompt_tokens = 0\n",
    "total_completion_tokens = 0\n",
    "\n",
    "for index, message in enumerate(result.messages, start=1):\n",
    "    display(Markdown('<hr>'))\n",
    "    text = f\"## Step: {index} (output from {message.source})\"\n",
    "    display(Markdown(text))\n",
    "\n",
    "    if message.models_usage:\n",
    "        print(f'Prompt Tokens: {message.models_usage.prompt_tokens}')\n",
    "        print(f'Completion Tokens: {message.models_usage.completion_tokens}')\n",
    "        total_prompt_tokens += message.models_usage.prompt_tokens\n",
    "        total_completion_tokens += message.models_usage.completion_tokens\n",
    "    display(Markdown('<hr>'))\n",
    "\n",
    "    display(Markdown(message.content))\n",
    "\n",
    "display(Markdown('<hr>'))\n",
    "print(f'Total Prompt Tokens: {total_prompt_tokens}')\n",
    "print(f'Total Completion Tokens: {total_completion_tokens}')\n",
    "print(f'Total Tokens: {total_prompt_tokens + total_completion_tokens}')"
   ]
  }
 ],
 "metadata": {
  "kernelspec": {
   "display_name": ".venv",
   "language": "python",
   "name": "python3"
  },
  "language_info": {
   "codemirror_mode": {
    "name": "ipython",
    "version": 3
   },
   "file_extension": ".py",
   "mimetype": "text/x-python",
   "name": "python",
   "nbconvert_exporter": "python",
   "pygments_lexer": "ipython3",
   "version": "3.10.16"
  }
 },
 "nbformat": 4,
 "nbformat_minor": 2
}
