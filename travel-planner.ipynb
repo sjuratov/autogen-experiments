{
 "cells": [
  {
   "cell_type": "code",
   "execution_count": 1,
   "metadata": {},
   "outputs": [],
   "source": [
    "from autogen_agentchat.agents import CodingAssistantAgent, AssistantAgent\n",
    "from autogen_agentchat.task import TextMentionTermination\n",
    "from autogen_agentchat.teams import RoundRobinGroupChat\n",
    "from autogen_ext.models import AzureOpenAIChatCompletionClient\n",
    "\n",
    "import os\n",
    "from dotenv import load_dotenv"
   ]
  },
  {
   "cell_type": "code",
   "execution_count": 2,
   "metadata": {},
   "outputs": [],
   "source": [
    "# Load environment variables from a .env file\n",
    "load_dotenv()\n",
    "\n",
    "# Access environment variables\n",
    "AZURE_OPENAI_API_KEY = os.getenv('AZURE_OPENAI_API_KEY')\n",
    "AZURE_OPENAI_ENDPOINT = os.getenv('AZURE_OPENAI_ENDPOINT')\n",
    "AZURE_OPENAI_DEPLOYMENT = os.getenv('AZURE_OPENAI_DEPLOYMENT')"
   ]
  },
  {
   "cell_type": "code",
   "execution_count": 3,
   "metadata": {},
   "outputs": [],
   "source": [
    "client = AzureOpenAIChatCompletionClient(\n",
    "    model=AZURE_OPENAI_DEPLOYMENT,\n",
    "    api_version=\"2024-02-01\",\n",
    "    azure_endpoint=AZURE_OPENAI_ENDPOINT,\n",
    "    azure_key=AZURE_OPENAI_API_KEY,\n",
    "    model_capabilities={\n",
    "        \"vision\":True,\n",
    "        \"function_calling\":True,\n",
    "        \"json_output\":True,\n",
    "    }\n",
    ")"
   ]
  },
  {
   "cell_type": "code",
   "execution_count": 4,
   "metadata": {},
   "outputs": [],
   "source": [
    "planner_agent = AssistantAgent(\n",
    "    \"planner_agent\",\n",
    "    model_client=client,\n",
    "    description=\"A helpful assistant that can plan trips.\",\n",
    "    system_message=\"You are a helpful assistant that can suggest a travel plan for a user based on their request.\",\n",
    ")\n",
    "\n",
    "local_agent = AssistantAgent(\n",
    "    \"local_agent\",\n",
    "    model_client=client,\n",
    "    description=\"A local assistant that can suggest local activities or places to visit.\",\n",
    "    system_message=\"You are a helpful assistant that can suggest authentic and interesting local activities or places to visit for a user and can utilize any context information provided.\",\n",
    ")\n",
    "\n",
    "language_agent = AssistantAgent(\n",
    "    \"language_agent\",\n",
    "    model_client=client,\n",
    "    description=\"A helpful assistant that can provide language tips for a given destination.\",\n",
    "    system_message=\"You are a helpful assistant that can review travel plans, providing feedback on important/critical tips about how best to address language or communication challenges for the given destination. If the plan already includes language tips, you can mention that the plan is satisfactory, with rationale.\",\n",
    ")\n",
    "\n",
    "travel_summary_agent = AssistantAgent(\n",
    "    \"travel_summary_agent\",\n",
    "    model_client=client,\n",
    "    description=\"A helpful assistant that can summarize the travel plan.\",\n",
    "    system_message=\"You are a helpful assistant that can take in all of the suggestions and advice from the other agents and provide a detailed tfinal travel plan. You must ensure th b at the final plan is integrated and complete. YOUR FINAL RESPONSE MUST BE THE COMPLETE PLAN. When the plan is complete and all perspectives are integrated, you can respond with TERMINATE.\",\n",
    ")"
   ]
  },
  {
   "cell_type": "code",
   "execution_count": 5,
   "metadata": {},
   "outputs": [],
   "source": [
    "termination = TextMentionTermination(\"TERMINATE\")\n",
    "\n",
    "group_chat = RoundRobinGroupChat(\n",
    "    [planner_agent, local_agent, language_agent, travel_summary_agent],\n",
    "    termination_condition=termination\n",
    ")"
   ]
  },
  {
   "cell_type": "code",
   "execution_count": 6,
   "metadata": {},
   "outputs": [],
   "source": [
    "result = await group_chat.run(task=\"Plan a 3 day trip to Paris.\")"
   ]
  },
  {
   "cell_type": "code",
   "execution_count": 7,
   "metadata": {},
   "outputs": [
    {
     "data": {
      "text/markdown": [
       "<hr>"
      ],
      "text/plain": [
       "<IPython.core.display.Markdown object>"
      ]
     },
     "metadata": {},
     "output_type": "display_data"
    },
    {
     "data": {
      "text/markdown": [
       "## Step: 1 (output from user)"
      ],
      "text/plain": [
       "<IPython.core.display.Markdown object>"
      ]
     },
     "metadata": {},
     "output_type": "display_data"
    },
    {
     "data": {
      "text/markdown": [
       "<hr>"
      ],
      "text/plain": [
       "<IPython.core.display.Markdown object>"
      ]
     },
     "metadata": {},
     "output_type": "display_data"
    },
    {
     "data": {
      "text/markdown": [
       "Plan a 3 day trip to Paris."
      ],
      "text/plain": [
       "<IPython.core.display.Markdown object>"
      ]
     },
     "metadata": {},
     "output_type": "display_data"
    },
    {
     "data": {
      "text/markdown": [
       "<hr>"
      ],
      "text/plain": [
       "<IPython.core.display.Markdown object>"
      ]
     },
     "metadata": {},
     "output_type": "display_data"
    },
    {
     "data": {
      "text/markdown": [
       "## Step: 2 (output from planner_agent)"
      ],
      "text/plain": [
       "<IPython.core.display.Markdown object>"
      ]
     },
     "metadata": {},
     "output_type": "display_data"
    },
    {
     "name": "stdout",
     "output_type": "stream",
     "text": [
      "Prompt Tokens: 40\n",
      "Completion Tokens: 765\n"
     ]
    },
    {
     "data": {
      "text/markdown": [
       "<hr>"
      ],
      "text/plain": [
       "<IPython.core.display.Markdown object>"
      ]
     },
     "metadata": {},
     "output_type": "display_data"
    },
    {
     "data": {
      "text/markdown": [
       "Absolutely, I'd be happy to help you plan a three-day trip to Paris! Below is a suggested itinerary to make the most of your time in this beautiful city. \n",
       "\n",
       "### Day 1: Exploring the Heart of Paris\n",
       "\n",
       "**Morning:**\n",
       "\n",
       "- **Notre-Dame Cathedral:** Begin your day with a visit to this iconic Gothic cathedral. Although it's undergoing restoration, you can still enjoy its exterior and the nearby area.\n",
       "  \n",
       "- **Sainte-Chapelle:** Just a short walk from Notre-Dame, visit this stunning chapel known for its remarkable stained-glass windows.\n",
       "\n",
       "**Afternoon:**\n",
       "\n",
       "- **Lunch in the Latin Quarter:** Explore the charming Latin Quarter and enjoy lunch in one of its many cafés or bistros.\n",
       "\n",
       "- **Luxembourg Gardens:** Stroll around these beautiful gardens and perhaps have a coffee in one of the garden cafés.\n",
       "\n",
       "**Evening:**\n",
       "\n",
       "- **Dinner around the Louvre:** Before your evening adventure, have dinner in the Louvre district (Rue de Rivoli or Palais Royal are good places).\n",
       "\n",
       "- **Louvre Museum (Late Night Visit):** Check the museum’s schedule, as it’s often open late certain nights. Spend the evening exploring masterpieces like the Mona Lisa and Venus de Milo.\n",
       "\n",
       "### Day 2: Iconic Parisian Sights\n",
       "\n",
       "**Morning:**\n",
       "\n",
       "- **Eiffel Tower:** Start your day with a visit to the Eiffel Tower. For the best experience, book your tickets in advance. Depending on your preference, you can go up to the second floor or the summit for panoramic views of the city.\n",
       "\n",
       "**Afternoon:**\n",
       "\n",
       "- **Champs-Élysées and Arc de Triomphe:** Stroll down the famous Champs-Élysées towards the Arc de Triomphe. Climb to the top for a fantastic view of Paris.\n",
       "\n",
       "- **Lunch in a Café:** Enjoy lunch in a traditional Parisian café along the Champs-Élysées.\n",
       "\n",
       "**Evening:**\n",
       "\n",
       "- **Seine River Cruise:** Take a scenic boat cruise on the Seine at sunset for a magical view of the city's illuminated landmarks.\n",
       "\n",
       "- **Dinner in Montmartre:** Head to Montmartre, known for its bohemian atmosphere. Have dinner at a local restaurant before exploring the charming streets.\n",
       "\n",
       "### Day 3: Art and Culture\n",
       "\n",
       "**Morning:**\n",
       "\n",
       "- **Musée d'Orsay:** Start your day at this museum located in a former railway station, home to an extensive collection of Impressionist and Post-Impressionist masterpieces.\n",
       "\n",
       "**Afternoon:**\n",
       "\n",
       "- **Le Marais District:** Explore this historic district known for its trendy boutiques, art galleries, and the beautiful Place des Vosges. Have lunch here.\n",
       "\n",
       "- **Shopping at Rue de Rivoli:** If you’re interested in shopping, the Rue de Rivoli offers a variety of shops and boutiques.\n",
       "\n",
       "**Evening:**\n",
       "\n",
       "- **Dinner in Le Marais:** Enjoy your last night in Paris with dinner in Le Marais. Consider trying French specialties like duck confit or coq au vin.\n",
       "\n",
       "- **Cabaret Show (Optional):** If you want to end your trip with a touch of glamour, consider seeing a cabaret show at the Moulin Rouge or Le Lido. Be sure to book tickets in advance.\n",
       "\n",
       "### Tips:\n",
       "\n",
       "- **Accommodation:** Try to stay in central areas like Le Marais, the Latin Quarter, or near the Champs-Élysées to minimize travel time.\n",
       "  \n",
       "- **Transportation:** Get a Paris Visite pass or Navigo Easy pass for unlimited travel on public transport, or consider using the city's convenient bike-sharing system.\n",
       "\n",
       "- **Dining:** French dining often starts later, so consider making reservations to ensure seating at popular restaurants.\n",
       "\n",
       "I hope this itinerary helps you have a fantastic time in Paris! Let me know if you have any other questions or need further customization."
      ],
      "text/plain": [
       "<IPython.core.display.Markdown object>"
      ]
     },
     "metadata": {},
     "output_type": "display_data"
    },
    {
     "data": {
      "text/markdown": [
       "<hr>"
      ],
      "text/plain": [
       "<IPython.core.display.Markdown object>"
      ]
     },
     "metadata": {},
     "output_type": "display_data"
    },
    {
     "data": {
      "text/markdown": [
       "## Step: 3 (output from local_agent)"
      ],
      "text/plain": [
       "<IPython.core.display.Markdown object>"
      ]
     },
     "metadata": {},
     "output_type": "display_data"
    },
    {
     "name": "stdout",
     "output_type": "stream",
     "text": [
      "Prompt Tokens: 821\n",
      "Completion Tokens: 745\n"
     ]
    },
    {
     "data": {
      "text/markdown": [
       "<hr>"
      ],
      "text/plain": [
       "<IPython.core.display.Markdown object>"
      ]
     },
     "metadata": {},
     "output_type": "display_data"
    },
    {
     "data": {
      "text/markdown": [
       "If you're planning a three-day trip to Paris, here's a detailed itinerary that captures the essence of the city, blending iconic sights, local experiences, and culinary delights.\n",
       "\n",
       "### Day 1: Historical and Cultural Insights\n",
       "\n",
       "**Morning:**\n",
       "- **Notre-Dame and Île de la Cité:** Begin your trip with a visit to Notre-Dame Cathedral. While it’s undergoing restoration, you can enjoy its exterior and the beautiful surroundings on Île de la Cité.\n",
       "- **Sainte-Chapelle:** Nearby, visit Sainte-Chapelle, famed for its breathtaking stained-glass windows. It’s a gem in Gothic architecture.\n",
       "\n",
       "**Afternoon:**\n",
       "- **Lunch in Le Marais:** Stroll through Le Marais and enjoy dining in a quaint Parisian café. Explore the area’s boutiques and art galleries.\n",
       "- **Musée Picasso or Musée Carnavalet:** Depending on your interest, visit one of these museums for a dive into Picasso’s work or a journey through Parisian history.\n",
       "\n",
       "**Evening:**\n",
       "- **Dinner near the Louvre:** Have dinner around the Louvre, known for its variety of dining options.\n",
       "- **Evening at the Louvre:** If it's Wednesday or Friday, enjoy an evening museum visit to catch highlights like the Mona Lisa.\n",
       "\n",
       "### Day 2: Iconic Sights and Scenic Views\n",
       "\n",
       "**Morning:**\n",
       "- **Eiffel Tower:** Start your day at the Eiffel Tower. Book tickets in advance to avoid long lines. Enjoy morning views from the summit or the second floor.\n",
       "\n",
       "**Afternoon:**\n",
       "- **Champs-Élysées and Arc de Triomphe:** Walk up the Champs-Élysées and visit the Arc de Triomphe. Enjoy lunch at a café along the way.\n",
       "- **Les Invalides:** Visit this monument and museum complex, including Napoleon’s Tomb.\n",
       "\n",
       "**Evening:**\n",
       "- **Seine River Cruise:** Take a sunset cruise on the Seine for a romantic view of Paris’s illuminated landmarks.\n",
       "- **Montmartre:** Head to Montmartre for dinner. Explore the artistic district, visit Sacré-Cœur Basilica for panoramic views, and dine at a local bistro.\n",
       "\n",
       "### Day 3: Artistic and Local Flavors\n",
       "\n",
       "**Morning:**\n",
       "- **Musée d'Orsay:** Visit this museum housed in a former railway station, home to an extensive collection of Impressionist art by artists like Monet, Van Gogh, and Degas.\n",
       "\n",
       "**Afternoon:**\n",
       "- **Lunch in Saint-Germain-des-Prés:** Enjoy a leisurely lunch in this historic quarter, famous for its literary cafés and vibrant atmosphere.\n",
       "- **Luxembourg Gardens:** After lunch, relax in Luxembourg Gardens, where you can stroll or enjoy a coffee by the fountains.\n",
       "\n",
       "**Evening:**\n",
       "- **Le Marais for Dinner:** Return to Le Marais for your final dinner, opting for classic French cuisine in one of its many charming restaurants.\n",
       "- **Optional Cabaret:** End your Paris trip with an optional cabaret show at the Moulin Rouge or Le Lido for an unforgettable night.\n",
       "\n",
       "### Additional Tips:\n",
       "\n",
       "- **Stay:** Consider accommodations in Le Marais, Latin Quarter, or Saint-Germain-des-Prés for easy access to major attractions.\n",
       "- **Transport:** Use the Paris Métro or buses; the Paris Visite or Navigo Easy pass offers unlimited rides.\n",
       "- **Dining:** Reserve tables for dinner, especially at popular spots.\n",
       "- **Shop:** Don’t miss a visit to local patisseries for croissants and éclairs or Rue de Rivoli for some shopping.\n",
       "\n",
       "This curated itinerary aims to blend must-see sights with unique experiences, offering a taste of both Parisian tradition and modern culture. Enjoy your trip to the City of Light!"
      ],
      "text/plain": [
       "<IPython.core.display.Markdown object>"
      ]
     },
     "metadata": {},
     "output_type": "display_data"
    },
    {
     "data": {
      "text/markdown": [
       "<hr>"
      ],
      "text/plain": [
       "<IPython.core.display.Markdown object>"
      ]
     },
     "metadata": {},
     "output_type": "display_data"
    },
    {
     "data": {
      "text/markdown": [
       "## Step: 4 (output from language_agent)"
      ],
      "text/plain": [
       "<IPython.core.display.Markdown object>"
      ]
     },
     "metadata": {},
     "output_type": "display_data"
    },
    {
     "name": "stdout",
     "output_type": "stream",
     "text": [
      "Prompt Tokens: 1597\n",
      "Completion Tokens: 327\n"
     ]
    },
    {
     "data": {
      "text/markdown": [
       "<hr>"
      ],
      "text/plain": [
       "<IPython.core.display.Markdown object>"
      ]
     },
     "metadata": {},
     "output_type": "display_data"
    },
    {
     "data": {
      "text/markdown": [
       "Your itinerary for a three-day trip to Paris is well-structured and covers a balanced mix of historical, cultural, and leisure activities. To ensure smooth communication during your trip, here are some language and communication tips:\n",
       "\n",
       "1. **Basic French Phrases:** While many Parisians speak English, it's always appreciated if visitors use basic French phrases. \"Bonjour\" (hello), \"s'il vous plaît\" (please), \"merci\" (thank you), and \"pardon\" (excuse me) can go a long way in making interactions more pleasant.\n",
       "\n",
       "2. **Translation Apps:** Consider using a translation app like Google Translate. It can be quite handy for real-time translations and pronunciation help.\n",
       "\n",
       "3. **Restaurant Menus:** Familiarize yourself with common menu items. Knowledge of French dining terms (like \"entrée\" means starter, not main course) can enhance your dining experience.\n",
       "\n",
       "4. **Transportation:** All metro stations have signs in French and English, but it's useful to know key words such as \"sortie\" (exit), \"correspondance\" (transfer), and \"arrêt\" (stop).\n",
       "\n",
       "5. **Maps and Guides:** Have offline maps or guides handy on your phone. These can help navigate without relying solely on spoken instructions.\n",
       "\n",
       "6. **Engage Locals Politely:** Start any inquiry with \"Excusez-moi, parlez-vous anglais?\" This respectful approach often results in a more positive response.\n",
       "\n",
       "Following these tips will help mitigate any language barriers and allow you to fully enjoy your Parisian adventure. Your itinerary looks great for experiencing the diversity and charm of Paris. Have a wonderful trip!"
      ],
      "text/plain": [
       "<IPython.core.display.Markdown object>"
      ]
     },
     "metadata": {},
     "output_type": "display_data"
    },
    {
     "data": {
      "text/markdown": [
       "<hr>"
      ],
      "text/plain": [
       "<IPython.core.display.Markdown object>"
      ]
     },
     "metadata": {},
     "output_type": "display_data"
    },
    {
     "data": {
      "text/markdown": [
       "## Step: 5 (output from travel_summary_agent)"
      ],
      "text/plain": [
       "<IPython.core.display.Markdown object>"
      ]
     },
     "metadata": {},
     "output_type": "display_data"
    },
    {
     "name": "stdout",
     "output_type": "stream",
     "text": [
      "Prompt Tokens: 1948\n",
      "Completion Tokens: 844\n"
     ]
    },
    {
     "data": {
      "text/markdown": [
       "<hr>"
      ],
      "text/plain": [
       "<IPython.core.display.Markdown object>"
      ]
     },
     "metadata": {},
     "output_type": "display_data"
    },
    {
     "data": {
      "text/markdown": [
       "Here's a comprehensive and integrated travel plan for your three-day trip to Paris, considering historical landmarks, cultural experiences, local insights, and language tips to enhance your journey:\n",
       "\n",
       "---\n",
       "\n",
       "### Day 1: Historical and Cultural Insights\n",
       "\n",
       "**Morning:**\n",
       "\n",
       "- **Notre-Dame Cathedral and Île de la Cité:** Begin your trip at the heart of Paris with a visit to the iconic Notre-Dame Cathedral. Though it's closed for restoration, admire its Gothic architecture from the outside, and wander the charming Île de la Cité.\n",
       "\n",
       "- **Sainte-Chapelle:** A short walk away, discover the remarkable stained-glass windows of this Gothic gem. Arrive early to avoid long queues.\n",
       "\n",
       "**Afternoon:**\n",
       "\n",
       "- **Lunch in Le Marais:** Explore the historic district of Le Marais. Enjoy lunch at a cozy café while savoring traditional French cuisine. Afterward, stroll through its narrow streets dotted with boutiques and art galleries.\n",
       "\n",
       "- **Musée Picasso or Musée Carnavalet:** Depending on your interest, delve into Picasso’s artworks or experience Parisian history.\n",
       "\n",
       "**Evening:**\n",
       "\n",
       "- **Dinner near the Louvre:** Choose a restaurant in the Louvre district for dinner, enjoying a variety of culinary options.\n",
       "\n",
       "- **Evening at the Louvre:** If it’s a Wednesday or Friday, the Louvre stays open late. Use this opportunity to explore masterpieces like the Mona Lisa and Venus de Milo without the daytime crowd.\n",
       "\n",
       "### Day 2: Iconic Sights and Scenic Views\n",
       "\n",
       "**Morning:**\n",
       "\n",
       "- **Eiffel Tower:** Start your day with Paris's iconic landmark. Pre-book your tickets to skip lines and enjoy panoramic views from the summit or second floor.\n",
       "\n",
       "**Afternoon:**\n",
       "\n",
       "- **Champs-Élysées and Arc de Triomphe:** Walk the famous avenue and visit the Arc de Triomphe. Climb to its top for a different city perspective. Lunch at a café on Champs-Élysées, tasting classic Parisian fare.\n",
       "\n",
       "- **Les Invalides:** Explore this monument complex, including museums and Napoleon’s Tomb.\n",
       "\n",
       "**Evening:**\n",
       "\n",
       "- **Seine River Cruise:** Experience Paris at sunset with a scenic Seine River cruise. The illuminated city offers a captivating view.\n",
       "\n",
       "- **Montmartre:** Head to Montmartre for dinner. Dive into its bohemian charm, visit the Sacré-Cœur Basilica for a breathtaking view, and dine in a local bistro.\n",
       "\n",
       "### Day 3: Artistic and Local Flavors\n",
       "\n",
       "**Morning:**\n",
       "\n",
       "- **Musée d'Orsay:** Visit the former railway station to appreciate its vast collection of Impressionist and Post-Impressionist art. Marvel at works by Monet, Van Gogh, and Degas.\n",
       "\n",
       "**Afternoon:**\n",
       "\n",
       "- **Lunch in Saint-Germain-des-Prés:** Enjoy a relaxing lunch in this historic district, known for its literary cafés and lively ambiance.\n",
       "\n",
       "- **Luxembourg Gardens:** Stroll or unwind in the enchanting gardens, a serene escape from the urban bustle.\n",
       "\n",
       "**Evening:**\n",
       "  \n",
       "- **Le Marais for Dinner:** Spend your last evening dining in Le Marais. Enjoy classic French dishes at one of its many charming restaurants.\n",
       "\n",
       "- **Optional Cabaret Show:** Consider ending your Parisian adventure with a cabaret show at the Moulin Rouge or Le Lido for an unforgettable night. Book in advance to secure seats.\n",
       "\n",
       "---\n",
       "\n",
       "### Additional Tips and Language Insights:\n",
       "\n",
       "- **Accommodation:** Stay in central areas like Le Marais, Latin Quarter, or Saint-Germain-des-Prés for convenient access to attractions.\n",
       "\n",
       "- **Transportation:** Utilize the Paris Métro with a Paris Visite or Navigo Easy pass for hassle-free travel.\n",
       "\n",
       "- **Basic French Phrases:** Use simple phrases like \"Bonjour\" (hello), \"Merci\" (thank you), and \"Parlez-vous anglais?\" (Do you speak English?) to enhance interactions.\n",
       "\n",
       "- **Translation Tools:** Carry a translation app to help with language gaps during your trip.\n",
       "\n",
       "- **Dining Etiquette:** Reserve tables ahead, especially for dinners at popular restaurants.\n",
       "\n",
       "This plan balances must-see sights with cultural experiences and local flavors, ensuring you have an enriching and memorable visit to Paris. Enjoy your trip to the City of Light! \n",
       "\n",
       "TERMINATE"
      ],
      "text/plain": [
       "<IPython.core.display.Markdown object>"
      ]
     },
     "metadata": {},
     "output_type": "display_data"
    },
    {
     "data": {
      "text/markdown": [
       "<hr>"
      ],
      "text/plain": [
       "<IPython.core.display.Markdown object>"
      ]
     },
     "metadata": {},
     "output_type": "display_data"
    },
    {
     "name": "stdout",
     "output_type": "stream",
     "text": [
      "Total Prompt Tokens: 4406\n",
      "Total Completion Tokens: 2681\n",
      "Total Tokens: 7087\n"
     ]
    }
   ],
   "source": [
    "from IPython.display import Markdown, display\n",
    "\n",
    "total_prompt_tokens = 0\n",
    "total_completion_tokens = 0\n",
    "\n",
    "for index, message in enumerate(result.messages, start=1):\n",
    "    display(Markdown('<hr>'))\n",
    "    text = f\"## Step: {index} (output from {message.source})\"\n",
    "    display(Markdown(text))\n",
    "\n",
    "    if message.models_usage:\n",
    "        print(f'Prompt Tokens: {message.models_usage.prompt_tokens}')\n",
    "        print(f'Completion Tokens: {message.models_usage.completion_tokens}')\n",
    "        total_prompt_tokens += message.models_usage.prompt_tokens\n",
    "        total_completion_tokens += message.models_usage.completion_tokens\n",
    "    display(Markdown('<hr>'))\n",
    "\n",
    "    display(Markdown(message.content))\n",
    "\n",
    "display(Markdown('<hr>'))\n",
    "print(f'Total Prompt Tokens: {total_prompt_tokens}')\n",
    "print(f'Total Completion Tokens: {total_completion_tokens}')\n",
    "print(f'Total Tokens: {total_prompt_tokens + total_completion_tokens}')"
   ]
  }
 ],
 "metadata": {
  "kernelspec": {
   "display_name": ".venv",
   "language": "python",
   "name": "python3"
  },
  "language_info": {
   "codemirror_mode": {
    "name": "ipython",
    "version": 3
   },
   "file_extension": ".py",
   "mimetype": "text/x-python",
   "name": "python",
   "nbconvert_exporter": "python",
   "pygments_lexer": "ipython3",
   "version": "3.10.16"
  }
 },
 "nbformat": 4,
 "nbformat_minor": 2
}
