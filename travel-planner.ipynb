{
 "cells": [
  {
   "cell_type": "code",
   "execution_count": 1,
   "metadata": {},
   "outputs": [],
   "source": [
    "from autogen_agentchat.agents import CodingAssistantAgent, AssistantAgent\n",
    "from autogen_agentchat.task import TextMentionTermination\n",
    "from autogen_agentchat.teams import RoundRobinGroupChat\n",
    "from autogen_ext.models import AzureOpenAIChatCompletionClient\n",
    "\n",
    "import os\n",
    "from dotenv import load_dotenv"
   ]
  },
  {
   "cell_type": "code",
   "execution_count": 2,
   "metadata": {},
   "outputs": [],
   "source": [
    "# Load environment variables from a .env file\n",
    "load_dotenv()\n",
    "\n",
    "# Access environment variables\n",
    "AZURE_OPENAI_API_KEY = os.getenv('AZURE_OPENAI_API_KEY')\n",
    "AZURE_OPENAI_ENDPOINT = os.getenv('AZURE_OPENAI_ENDPOINT')\n",
    "AZURE_OPENAI_DEPLOYMENT = os.getenv('AZURE_OPENAI_DEPLOYMENT')"
   ]
  },
  {
   "cell_type": "code",
   "execution_count": 3,
   "metadata": {},
   "outputs": [],
   "source": [
    "client = AzureOpenAIChatCompletionClient(\n",
    "    model=AZURE_OPENAI_DEPLOYMENT,\n",
    "    api_version=\"2024-02-01\",\n",
    "    azure_endpoint=AZURE_OPENAI_ENDPOINT,\n",
    "    azure_key=AZURE_OPENAI_API_KEY,\n",
    "    model_capabilities={\n",
    "        \"vision\":True,\n",
    "        \"function_calling\":True,\n",
    "        \"json_output\":True,\n",
    "    }\n",
    ")"
   ]
  },
  {
   "cell_type": "code",
   "execution_count": 4,
   "metadata": {},
   "outputs": [],
   "source": [
    "planner_agent = AssistantAgent(\n",
    "    \"planner_agent\",\n",
    "    model_client=client,\n",
    "    description=\"A helpful assistant that can plan trips.\",\n",
    "    system_message=\"You are a helpful assistant that can suggest a travel plan for a user based on their request.\",\n",
    ")\n",
    "\n",
    "local_agent = AssistantAgent(\n",
    "    \"local_agent\",\n",
    "    model_client=client,\n",
    "    description=\"A local assistant that can suggest local activities or places to visit.\",\n",
    "    system_message=\"You are a helpful assistant that can suggest authentic and interesting local activities or places to visit for a user and can utilize any context information provided.\",\n",
    ")\n",
    "\n",
    "language_agent = AssistantAgent(\n",
    "    \"language_agent\",\n",
    "    model_client=client,\n",
    "    description=\"A helpful assistant that can provide language tips for a given destination.\",\n",
    "    system_message=\"You are a helpful assistant that can review travel plans, providing feedback on important/critical tips about how best to address language or communication challenges for the given destination. If the plan already includes language tips, you can mention that the plan is satisfactory, with rationale.\",\n",
    ")\n",
    "\n",
    "travel_summary_agent = AssistantAgent(\n",
    "    \"travel_summary_agent\",\n",
    "    model_client=client,\n",
    "    description=\"A helpful assistant that can summarize the travel plan.\",\n",
    "    system_message=\"You are a helpful assistant that can take in all of the suggestions and advice from the other agents and provide a detailed tfinal travel plan. You must ensure th b at the final plan is integrated and complete. YOUR FINAL RESPONSE MUST BE THE COMPLETE PLAN. When the plan is complete and all perspectives are integrated, you can respond with TERMINATE.\",\n",
    ")"
   ]
  },
  {
   "cell_type": "code",
   "execution_count": 5,
   "metadata": {},
   "outputs": [],
   "source": [
    "termination = TextMentionTermination(\"TERMINATE\")\n",
    "\n",
    "group_chat = RoundRobinGroupChat(\n",
    "    [planner_agent, local_agent, language_agent, travel_summary_agent],\n",
    "    termination_condition=termination\n",
    ")"
   ]
  },
  {
   "cell_type": "code",
   "execution_count": 6,
   "metadata": {},
   "outputs": [],
   "source": [
    "result = await group_chat.run(task=\"Plan a 3 day trip to Paris.\")"
   ]
  },
  {
   "cell_type": "code",
   "execution_count": 7,
   "metadata": {},
   "outputs": [
    {
     "data": {
      "text/markdown": [
       "<hr>"
      ],
      "text/plain": [
       "<IPython.core.display.Markdown object>"
      ]
     },
     "metadata": {},
     "output_type": "display_data"
    },
    {
     "data": {
      "text/markdown": [
       "## Step: 1 (output from user)"
      ],
      "text/plain": [
       "<IPython.core.display.Markdown object>"
      ]
     },
     "metadata": {},
     "output_type": "display_data"
    },
    {
     "data": {
      "text/markdown": [
       "<hr>"
      ],
      "text/plain": [
       "<IPython.core.display.Markdown object>"
      ]
     },
     "metadata": {},
     "output_type": "display_data"
    },
    {
     "data": {
      "text/markdown": [
       "Plan a 3 day trip to Paris."
      ],
      "text/plain": [
       "<IPython.core.display.Markdown object>"
      ]
     },
     "metadata": {},
     "output_type": "display_data"
    },
    {
     "data": {
      "text/markdown": [
       "<hr>"
      ],
      "text/plain": [
       "<IPython.core.display.Markdown object>"
      ]
     },
     "metadata": {},
     "output_type": "display_data"
    },
    {
     "data": {
      "text/markdown": [
       "## Step: 2 (output from planner_agent)"
      ],
      "text/plain": [
       "<IPython.core.display.Markdown object>"
      ]
     },
     "metadata": {},
     "output_type": "display_data"
    },
    {
     "name": "stdout",
     "output_type": "stream",
     "text": [
      "Prompt Tokens: 40\n",
      "Completion Tokens: 732\n"
     ]
    },
    {
     "data": {
      "text/markdown": [
       "<hr>"
      ],
      "text/plain": [
       "<IPython.core.display.Markdown object>"
      ]
     },
     "metadata": {},
     "output_type": "display_data"
    },
    {
     "data": {
      "text/markdown": [
       "Certainly! Here's a suggested 3-day itinerary for a trip to Paris, capturing the essence of the city through iconic landmarks, cultural experiences, and exquisite dining.\n",
       "\n",
       "### Day 1: Classic Paris\n",
       "\n",
       "**Morning:**\n",
       "- **Eiffel Tower:** Start your day by visiting the Eiffel Tower. Arrive early to avoid the crowds and take in the breathtaking views of Paris from the observation decks. Consider booking tickets in advance to skip the lines.\n",
       "  \n",
       "**Lunch:**\n",
       "- **Café de l'Homme:** Located close to the Eiffel Tower, enjoy a Parisian lunch with a wonderful view of the tower.\n",
       "\n",
       "**Afternoon:**\n",
       "- **Trocadéro Gardens:** Stroll through these beautiful gardens for different perspectives of the Eiffel Tower. Continue your exploration with a leisurely walk along the Seine River.\n",
       "- **Arc de Triomphe:** Head to the top of this iconic monument via the Champs-Élysées, where you can experience one of the best panoramic views of Paris.\n",
       "\n",
       "**Evening:**\n",
       "- **Champs-Élysées:** Enjoy a leisurely walk along this famous avenue filled with luxury shops, theaters, and cafes.\n",
       "- **Dinner:** Experience classic French cuisine at **Le Fouquet's**, a historic brasserie on Champs-Élysées.\n",
       "\n",
       "### Day 2: Art and Culture\n",
       "\n",
       "**Morning:**\n",
       "- **Louvre Museum:** Spend the morning at the world-renowned Louvre. Make sure to see the Mona Lisa and other masterful works. It’s wise to book tickets online ahead of time.\n",
       "\n",
       "**Lunch:**\n",
       "- **Le Fumoir:** Near the Louvre, this stylish restaurant offers delectable French dishes. \n",
       "\n",
       "**Afternoon:**\n",
       "- **Île de la Cité and Notre-Dame:** Head to Notre-Dame Cathedral for an exterior tour (interior visits depend on restoration activities). Walk around Île de la Cité, exploring Sainte-Chapelle with its stunning stained-glass windows.\n",
       "\n",
       "**Evening:**\n",
       "- **Latin Quarter:** Wander the vibrant Latin Quarter, full of bars, cafes, and bookshops.\n",
       "- **Dinner:** Dine at **Le Procope**, the oldest café in Paris, which Voltaire and other literati once frequented.\n",
       "\n",
       "### Day 3: Parisian Lifestyle and Montmartre\n",
       "\n",
       "**Morning:**\n",
       "- **Montmartre:** Explore this historic art district by starting at the Sacré-Cœur Basilica for beautiful views of the city.\n",
       "- **Place du Tertre:** Watch artists at work in this charming square filled with easels and painters.\n",
       "\n",
       "**Lunch:**\n",
       "- **Le Consulat:** A quaint restaurant in Montmartre known for its cozy atmosphere and classic French menu.\n",
       "\n",
       "**Afternoon:**\n",
       "- **Moulin Rouge (External):** While in the area, take a look at this iconic cabaret venue.\n",
       "- **Galeries Lafayette:** Visit this stunning department store for shopping or simply admire the famous stained-glass dome.\n",
       "\n",
       "**Evening:**\n",
       "- **Seine River Cruise:** Conclude your Parisian adventure with a relaxing evening cruise on the Seine. As you glide past illuminated landmarks, this is a magical way to experience the city’s beauty at night.\n",
       "- **Dinner:** For your farewell dinner, consider the **Les Ombres**, offering a spectacular view of the Eiffel Tower, or indulge in modern French culinary delights.\n",
       "\n",
       "### Tips:\n",
       "- **Transportation:** Consider purchasing a Paris Visite pass for unlimited travel on public transit.\n",
       "- **Language:** A few basic French phrases can enhance interactions.\n",
       "- **Bookings:** Reserve tickets for major attractions and dining options in advance to ensure availability.\n",
       "\n",
       "Enjoy your enchanting adventure in Paris!"
      ],
      "text/plain": [
       "<IPython.core.display.Markdown object>"
      ]
     },
     "metadata": {},
     "output_type": "display_data"
    },
    {
     "data": {
      "text/markdown": [
       "<hr>"
      ],
      "text/plain": [
       "<IPython.core.display.Markdown object>"
      ]
     },
     "metadata": {},
     "output_type": "display_data"
    },
    {
     "data": {
      "text/markdown": [
       "## Step: 3 (output from local_agent)"
      ],
      "text/plain": [
       "<IPython.core.display.Markdown object>"
      ]
     },
     "metadata": {},
     "output_type": "display_data"
    },
    {
     "name": "stdout",
     "output_type": "stream",
     "text": [
      "Prompt Tokens: 788\n",
      "Completion Tokens: 771\n"
     ]
    },
    {
     "data": {
      "text/markdown": [
       "<hr>"
      ],
      "text/plain": [
       "<IPython.core.display.Markdown object>"
      ]
     },
     "metadata": {},
     "output_type": "display_data"
    },
    {
     "data": {
      "text/markdown": [
       "If you're looking to make the most of your 3-day trip to Paris with a blend of iconic attractions and local experiences, here's a customized itinerary that might interest you:\n",
       "\n",
       "### Day 1: Paris Essentials\n",
       "\n",
       "**Morning:**\n",
       "- **Eiffel Tower:** Kickstart your Paris journey at this iconic landmark. Arriving early can give you a quieter, more pleasant experience. If you prefer avoiding the climb, enjoy the view from the garden level or ascend by elevator for a panorama of the city.\n",
       "\n",
       "**Lunch:**\n",
       "- **Les Cocottes:** Located near the tower, this contemporary bistro offers delicious French cuisine with a modern twist.\n",
       "\n",
       "**Afternoon:**\n",
       "- **Musée d'Orsay:** After lunch, head to the Musée d'Orsay, which boasts an impressive collection of Impressionist and Post-Impressionist masterpieces. It's less overwhelming than the Louvre while hosting renowned artworks.\n",
       "\n",
       "**Evening:**\n",
       "- **Saint-Germain-des-Prés:** Explore this chic neighborhood filled with historical cafes like **Café de Flore** and **Les Deux Magots**, known for their artistic and intellectual past.\n",
       "- **Dinner:** Enjoy a classic French dinner at **Le Relais de l'Entrecôte**, celebrated for its steak-frites and secret sauce.\n",
       "\n",
       "### Day 2: Art and Enchantment\n",
       "\n",
       "**Morning:**\n",
       "- **Louvre Museum:** Plan a visit to the world-famous Louvre early in the morning to explore fascinating galleries before they get crowded. Pre-booking your ticket is a wise option.\n",
       "\n",
       "**Lunch:**\n",
       "- **Angelina Paris:** Take a break with indulgent hot chocolate and pastries at this elegant tea room near the Louvre.\n",
       "\n",
       "**Afternoon:**\n",
       "- **Île Saint-Louis:** Cross the river to discover this charming island with its narrow streets filled with artisanal shops. Don’t miss Berthillon for delicious ice cream.\n",
       "- **Notre-Dame Cathedral Area:** Although the interior tours may be restricted due to restoration, you can appreciate the architectural beauty from outside.\n",
       "\n",
       "**Evening:**\n",
       "- **Marais District:** Explore the vibrant Marais, full of boutiques, galleries, and hip cafes.\n",
       "- **Dinner:** Savor a traditional meal at **Chez Janou**, offering Provencal-style cuisine in the heart of the Marais.\n",
       "\n",
       "### Day 3: Bohemian Rhapsody and Scenic Delights\n",
       "\n",
       "**Morning:**\n",
       "- **Montmartre:** Begin with a visit to Sacré-Cœur Basilica and enjoy sweeping views of Paris from its steps. Wander through the narrow, winding streets to Place du Tertre to see artists at work.\n",
       "\n",
       "**Lunch:**\n",
       "- **La Maison Rose:** This picturesque corner café in Montmartre serves delightful meals and captures the essence of the area.\n",
       "\n",
       "**Afternoon:**\n",
       "- **Passey Village:** Walk down to this lesser-known neighborhood, offering a glimpse into peaceful Parisian life. Visit the small Musée de Montmartre to explore the area's artistic past.\n",
       "\n",
       "**Evening:**\n",
       "- **Seine River Dinner Cruise:** Treat yourself to a dinner cruise on the Seine, where you can witness the city’s landmarks illuminated brilliantly at night.\n",
       "- **Alternative Dinner:** For a more extravagant farewell, dine at **L'Atelier de Joël Robuchon**, known for its creative cuisine.\n",
       "\n",
       "### Tips:\n",
       "- **Accommodation:** Consider staying centrally (e.g., in the 1st, 4th, or 7th arrondissement) to maximize your time.\n",
       "- **Local Transportation:** Besides the Paris Visite pass, renting a bicycle provides a charming way to explore the city.\n",
       "- **Local Insight:** Engage with locals for lesser-known recommendations or enjoy people-watching at parks like Jardin du Luxembourg.\n",
       "\n",
       "With this itinerary, you'll be able to enjoy the quintessential experiences of Paris along with charming local gems, making your trip both memorable and fulfilling."
      ],
      "text/plain": [
       "<IPython.core.display.Markdown object>"
      ]
     },
     "metadata": {},
     "output_type": "display_data"
    },
    {
     "data": {
      "text/markdown": [
       "<hr>"
      ],
      "text/plain": [
       "<IPython.core.display.Markdown object>"
      ]
     },
     "metadata": {},
     "output_type": "display_data"
    },
    {
     "data": {
      "text/markdown": [
       "## Step: 4 (output from language_agent)"
      ],
      "text/plain": [
       "<IPython.core.display.Markdown object>"
      ]
     },
     "metadata": {},
     "output_type": "display_data"
    },
    {
     "name": "stdout",
     "output_type": "stream",
     "text": [
      "Prompt Tokens: 1590\n",
      "Completion Tokens: 303\n"
     ]
    },
    {
     "data": {
      "text/markdown": [
       "<hr>"
      ],
      "text/plain": [
       "<IPython.core.display.Markdown object>"
      ]
     },
     "metadata": {},
     "output_type": "display_data"
    },
    {
     "data": {
      "text/markdown": [
       "Your 3-day trip plan to Paris covers a fantastic mix of iconic landmarks, cultural hotspots, and local experiences, providing a well-rounded exploration of the city. Language-wise, since Paris is an international hub, you’ll find that many people speak English, especially in tourist areas. However, knowing some basic French phrases can enhance your interactions and are always appreciated by locals. Here are some key tips:\n",
       "\n",
       "1. **Learn Basic French Phrases:**\n",
       "   - Greetings like \"Bonjour\" (Hello) and \"Merci\" (Thank you).\n",
       "   - Useful phrases such as \"Parlez-vous anglais?\" (Do you speak English?) or \"Je ne parle pas bien français\" (I don't speak French well).\n",
       "\n",
       "2. **Politeness Matters:**\n",
       "   - Always start a conversation with \"Bonjour\" or \"Bonsoir\" (Good evening).\n",
       "   - Using \"S'il vous plaît\" (Please) and \"Merci beaucoup\" (Thank you very much) goes a long way.\n",
       "\n",
       "3. **Smartphone Apps:**\n",
       "   - Consider using translation apps like Google Translate, which can help with real-time translations of signs or menus.\n",
       "\n",
       "4. **Contextual Clues:**\n",
       "   - For public transport, most signs are also in English. However, having a translated version of common transit terms can be handy.\n",
       "\n",
       "Your plan includes thoughtful suggestions like booking tickets in advance and engaging with locals, which are excellent strategies. With these language tips, your Parisian adventure will be even more enjoyable and immersive. Safe travels!"
      ],
      "text/plain": [
       "<IPython.core.display.Markdown object>"
      ]
     },
     "metadata": {},
     "output_type": "display_data"
    },
    {
     "data": {
      "text/markdown": [
       "<hr>"
      ],
      "text/plain": [
       "<IPython.core.display.Markdown object>"
      ]
     },
     "metadata": {},
     "output_type": "display_data"
    },
    {
     "data": {
      "text/markdown": [
       "## Step: 5 (output from travel_summary_agent)"
      ],
      "text/plain": [
       "<IPython.core.display.Markdown object>"
      ]
     },
     "metadata": {},
     "output_type": "display_data"
    },
    {
     "name": "stdout",
     "output_type": "stream",
     "text": [
      "Prompt Tokens: 1917\n",
      "Completion Tokens: 726\n"
     ]
    },
    {
     "data": {
      "text/markdown": [
       "<hr>"
      ],
      "text/plain": [
       "<IPython.core.display.Markdown object>"
      ]
     },
     "metadata": {},
     "output_type": "display_data"
    },
    {
     "data": {
      "text/markdown": [
       "Here's a refined 3-day itinerary for your trip to Paris, integrating all the great suggestions from travel, local, and language perspectives. This plan is designed to help you experience both the iconic and local flavors of Paris.\n",
       "\n",
       "### Day 1: Classic and Cultural Paris\n",
       "\n",
       "**Morning:**\n",
       "- **Eiffel Tower:** Start your journey with the iconic Eiffel Tower. Arrive early to enjoy the view from the top or admire it from the gardens.\n",
       "  \n",
       "**Lunch:**\n",
       "- **Les Cocottes:** Savor a modern twist on traditional French cuisine at this nearby contemporary bistro.\n",
       "\n",
       "**Afternoon:**\n",
       "- **Musée d'Orsay:** Explore this stunning museum with its Impressionist masterpieces. It's less crowded than the Louvre and offers an enriching artistic experience.\n",
       "\n",
       "**Evening:**\n",
       "- **Saint-Germain-des-Prés:** Stroll through this historic area, enjoying an aperitif at famous cafes like **Café de Flore**.\n",
       "- **Dinner:** Relish a classic steak-frites dinner at **Le Relais de l'Entrecôte**.\n",
       "\n",
       "### Day 2: Artistic Exploration\n",
       "\n",
       "**Morning:**\n",
       "- **Louvre Museum:** Visit this world-renowned museum early to catch a glimpse of the Mona Lisa without large crowds. Pre-book your tickets to avoid delays.\n",
       "\n",
       "**Lunch:**\n",
       "- **Angelina Paris:** Treat yourself to decadent hot chocolate and pastries at this elegant tea room.\n",
       "\n",
       "**Afternoon:**\n",
       "- **Île Saint-Louis & Notre-Dame:** Discover the charming Île Saint-Louis and take a walk around the serene Notre-Dame exterior. Don’t forget a scoop of Berthillon ice cream.\n",
       "- **Sainte-Chapelle:** Enter this nearby gothic chapel to marvel at its breathtaking stained-glass windows.\n",
       "\n",
       "**Evening:**\n",
       "- **Marais District:** Meander through trendy streets filled with shops and cafés.\n",
       "- **Dinner:** Enjoy the Provencal flair at **Chez Janou** in the heart of the Marais.\n",
       "\n",
       "### Day 3: Bohemian and Panoramic Paris\n",
       "\n",
       "**Morning:**\n",
       "- **Montmartre:** Begin with Sacré-Cœur Basilica’s panoramic views. Explore artistic lanes and appreciate the work at Place du Tertre.\n",
       "\n",
       "**Lunch:**\n",
       "- **La Maison Rose:** Dine at this quintessentially Parisian spot known for its scenic setting and delightful menu.\n",
       "\n",
       "**Afternoon:**\n",
       "- **Passey Village & Musée de Montmartre:** Discover Montmartre’s peaceful ambiance and reflect on its artistic history at this small museum.\n",
       "\n",
       "**Evening:**\n",
       "- **Seine River Dinner Cruise:** Conclude your adventure with a dinner cruise that offers stunning views of Paris illuminated at night.\n",
       "- **Optional Dinner:** For an upscale experience, try **L'Atelier de Joël Robuchon** for innovative French cuisine.\n",
       "\n",
       "### Tips for a Seamless Experience:\n",
       "\n",
       "- **Accommodation:** Central areas like the 1st, 4th, and 7th arrondissements make for convenient stays.\n",
       "- **Transportation:** Use a Paris Visite pass or rent a bicycle for authentic exploration.\n",
       "- **Language Preparation:** Use basic French phrases such as \"Bonjour,\" \"Merci,\" and \"Parlez-vous anglais?\" for polite interactions. Smartphone apps can aid with translations if needed.\n",
       "- **Local Interaction:** Engage with locals for tips, or simply enjoy the art of people-watching at parks like Jardin du Luxembourg.\n",
       "\n",
       "Enjoy your delightful Parisian getaway, embracing both the unforgettable landmarks and the hidden gems that make the City of Light truly magical. Safe travels and immerse yourself in the beauty of Paris! \n",
       "\n",
       "**TERMINATE**"
      ],
      "text/plain": [
       "<IPython.core.display.Markdown object>"
      ]
     },
     "metadata": {},
     "output_type": "display_data"
    },
    {
     "data": {
      "text/markdown": [
       "<hr>"
      ],
      "text/plain": [
       "<IPython.core.display.Markdown object>"
      ]
     },
     "metadata": {},
     "output_type": "display_data"
    },
    {
     "name": "stdout",
     "output_type": "stream",
     "text": [
      "Total Prompt Tokens: 4335\n",
      "Total Completion Tokens: 2532\n",
      "Total Tokens: 6867\n"
     ]
    }
   ],
   "source": [
    "from IPython.display import Markdown, display\n",
    "\n",
    "total_prompt_tokens = 0\n",
    "total_completion_tokens = 0\n",
    "\n",
    "for index, message in enumerate(result.messages, start=1):\n",
    "    display(Markdown('<hr>'))\n",
    "    text = f\"## Step: {index} (output from {message.source})\"\n",
    "    display(Markdown(text))\n",
    "\n",
    "    if message.models_usage:\n",
    "        print(f'Prompt Tokens: {message.models_usage.prompt_tokens}')\n",
    "        print(f'Completion Tokens: {message.models_usage.completion_tokens}')\n",
    "        total_prompt_tokens += message.models_usage.prompt_tokens\n",
    "        total_completion_tokens += message.models_usage.completion_tokens\n",
    "    display(Markdown('<hr>'))\n",
    "\n",
    "    display(Markdown(message.content))\n",
    "\n",
    "display(Markdown('<hr>'))\n",
    "print(f'Total Prompt Tokens: {total_prompt_tokens}')\n",
    "print(f'Total Completion Tokens: {total_completion_tokens}')\n",
    "print(f'Total Tokens: {total_prompt_tokens + total_completion_tokens}')"
   ]
  }
 ],
 "metadata": {
  "kernelspec": {
   "display_name": ".venv",
   "language": "python",
   "name": "python3"
  },
  "language_info": {
   "codemirror_mode": {
    "name": "ipython",
    "version": 3
   },
   "file_extension": ".py",
   "mimetype": "text/x-python",
   "name": "python",
   "nbconvert_exporter": "python",
   "pygments_lexer": "ipython3",
   "version": "3.12.7"
  }
 },
 "nbformat": 4,
 "nbformat_minor": 2
}
