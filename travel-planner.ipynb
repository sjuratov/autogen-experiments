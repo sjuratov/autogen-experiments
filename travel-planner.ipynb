{
 "cells": [
  {
   "cell_type": "code",
   "execution_count": 1,
   "metadata": {},
   "outputs": [],
   "source": [
    "from autogen_agentchat.agents import CodingAssistantAgent, AssistantAgent\n",
    "from autogen_agentchat.task import TextMentionTermination\n",
    "from autogen_agentchat.teams import RoundRobinGroupChat\n",
    "from autogen_ext.models import AzureOpenAIChatCompletionClient\n",
    "\n",
    "import os\n",
    "from dotenv import load_dotenv"
   ]
  },
  {
   "cell_type": "code",
   "execution_count": 2,
   "metadata": {},
   "outputs": [],
   "source": [
    "# Load environment variables from a .env file\n",
    "load_dotenv()\n",
    "\n",
    "# Access environment variables\n",
    "AZURE_OPENAI_API_KEY = os.getenv('AZURE_OPENAI_API_KEY')\n",
    "AZURE_OPENAI_ENDPOINT = os.getenv('AZURE_OPENAI_ENDPOINT')\n",
    "AZURE_OPENAI_DEPLOYMENT = os.getenv('AZURE_OPENAI_DEPLOYMENT')"
   ]
  },
  {
   "cell_type": "code",
   "execution_count": 3,
   "metadata": {},
   "outputs": [],
   "source": [
    "client = AzureOpenAIChatCompletionClient(\n",
    "    model=AZURE_OPENAI_DEPLOYMENT,\n",
    "    api_version=\"2024-02-01\",\n",
    "    azure_endpoint=AZURE_OPENAI_ENDPOINT,\n",
    "    azure_key=AZURE_OPENAI_API_KEY,\n",
    "    model_capabilities={\n",
    "        \"vision\":True,\n",
    "        \"function_calling\":True,\n",
    "        \"json_output\":True,\n",
    "    }\n",
    ")"
   ]
  },
  {
   "cell_type": "code",
   "execution_count": 4,
   "metadata": {},
   "outputs": [],
   "source": [
    "planner_agent = AssistantAgent(\n",
    "    \"planner_agent\",\n",
    "    model_client=client,\n",
    "    description=\"A helpful assistant that can plan trips.\",\n",
    "    system_message=\"You are a helpful assistant that can suggest a travel plan for a user based on their request.\",\n",
    ")\n",
    "\n",
    "local_agent = AssistantAgent(\n",
    "    \"local_agent\",\n",
    "    model_client=client,\n",
    "    description=\"A local assistant that can suggest local activities or places to visit.\",\n",
    "    system_message=\"You are a helpful assistant that can suggest authentic and interesting local activities or places to visit for a user and can utilize any context information provided.\",\n",
    ")\n",
    "\n",
    "language_agent = AssistantAgent(\n",
    "    \"language_agent\",\n",
    "    model_client=client,\n",
    "    description=\"A helpful assistant that can provide language tips for a given destination.\",\n",
    "    system_message=\"You are a helpful assistant that can review travel plans, providing feedback on important/critical tips about how best to address language or communication challenges for the given destination. If the plan already includes language tips, you can mention that the plan is satisfactory, with rationale.\",\n",
    ")\n",
    "\n",
    "travel_summary_agent = AssistantAgent(\n",
    "    \"travel_summary_agent\",\n",
    "    model_client=client,\n",
    "    description=\"A helpful assistant that can summarize the travel plan.\",\n",
    "    system_message=\"You are a helpful assistant that can take in all of the suggestions and advice from the other agents and provide a detailed tfinal travel plan. You must ensure th b at the final plan is integrated and complete. YOUR FINAL RESPONSE MUST BE THE COMPLETE PLAN. When the plan is complete and all perspectives are integrated, you can respond with TERMINATE.\",\n",
    ")"
   ]
  },
  {
   "cell_type": "code",
   "execution_count": 5,
   "metadata": {},
   "outputs": [],
   "source": [
    "termination = TextMentionTermination(\"TERMINATE\")\n",
    "\n",
    "group_chat = RoundRobinGroupChat(\n",
    "    [planner_agent, local_agent, language_agent, travel_summary_agent],\n",
    "    termination_condition=termination\n",
    ")"
   ]
  },
  {
   "cell_type": "code",
   "execution_count": 6,
   "metadata": {},
   "outputs": [],
   "source": [
    "result = await group_chat.run(task=\"Plan a 3 day trip to Paris.\")"
   ]
  },
  {
   "cell_type": "code",
   "execution_count": 7,
   "metadata": {},
   "outputs": [
    {
     "data": {
      "text/markdown": [
       "<hr>"
      ],
      "text/plain": [
       "<IPython.core.display.Markdown object>"
      ]
     },
     "metadata": {},
     "output_type": "display_data"
    },
    {
     "data": {
      "text/markdown": [
       "## Step: 1 (output from user)"
      ],
      "text/plain": [
       "<IPython.core.display.Markdown object>"
      ]
     },
     "metadata": {},
     "output_type": "display_data"
    },
    {
     "data": {
      "text/markdown": [
       "<hr>"
      ],
      "text/plain": [
       "<IPython.core.display.Markdown object>"
      ]
     },
     "metadata": {},
     "output_type": "display_data"
    },
    {
     "data": {
      "text/markdown": [
       "Plan a 3 day trip to Paris."
      ],
      "text/plain": [
       "<IPython.core.display.Markdown object>"
      ]
     },
     "metadata": {},
     "output_type": "display_data"
    },
    {
     "data": {
      "text/markdown": [
       "<hr>"
      ],
      "text/plain": [
       "<IPython.core.display.Markdown object>"
      ]
     },
     "metadata": {},
     "output_type": "display_data"
    },
    {
     "data": {
      "text/markdown": [
       "## Step: 2 (output from planner_agent)"
      ],
      "text/plain": [
       "<IPython.core.display.Markdown object>"
      ]
     },
     "metadata": {},
     "output_type": "display_data"
    },
    {
     "name": "stdout",
     "output_type": "stream",
     "text": [
      "Prompt Tokens: 40\n",
      "Completion Tokens: 685\n"
     ]
    },
    {
     "data": {
      "text/markdown": [
       "<hr>"
      ],
      "text/plain": [
       "<IPython.core.display.Markdown object>"
      ]
     },
     "metadata": {},
     "output_type": "display_data"
    },
    {
     "data": {
      "text/markdown": [
       "Certainly! Paris is a wonderful city with a plethora of activities, historical sights, and delicious cuisine. Here's a suggested itinerary for a 3-day trip:\n",
       "\n",
       "### Day 1: Classic Paris\n",
       "\n",
       "**Morning:**\n",
       "- **Eiffel Tower:** Start your day by visiting the iconic Eiffel Tower. Pre-book your tickets to save time. You can choose to simply enjoy the view from the ground or take a ride to the top for an incredible panoramic view of Paris.\n",
       "- **Trocadéro Gardens:** Explore the beautiful gardens across the Seine for an excellent photo opportunity of the Eiffel Tower.\n",
       "\n",
       "**Afternoon:**\n",
       "- **Seine River Cruise:** Relax with a Seine River cruise. It's a fantastic way to see many notable sites, such as Notre-Dame Cathedral and the Louvre, from the water.\n",
       "- **Champs-Élysées and Arc de Triomphe:** Stroll along the famous avenue, do some shopping, and visit the Arc de Triomphe. Climb to the top if you're up for it.\n",
       "\n",
       "**Evening:**\n",
       "- **Dinner in Montmartre:** Head to the artistic neighborhood of Montmartre. Explore the quaint streets, and have dinner at a cozy restaurant. Try authentic French cuisine like coq au vin or duck confit.\n",
       "- **Sacré-Cœur Basilica:** After dinner, visit the stunning basilica. Enjoy the view of the city as it lights up in the evening.\n",
       "\n",
       "### Day 2: Art and History\n",
       "\n",
       "**Morning:**\n",
       "- **Louvre Museum:** Dedicate your morning to the world-famous Louvre Museum. Pre-book tickets to skip the line. Focus on key masterpieces like the Mona Lisa, Venus de Milo, and Winged Victory of Samothrace.\n",
       "\n",
       "**Afternoon:**\n",
       "- **Tuileries Garden:** Walk through these beautiful gardens next to the Louvre. Relax or grab a coffee at one of the cafes nearby.\n",
       "- **Musée d'Orsay:** Visit this former railway station turned art museum that houses an extensive collection of Impressionist and Post-Impressionist masterpieces.\n",
       "\n",
       "**Evening:**\n",
       "- **Saint-Germain-des-Prés:** Explore this historic district known for its vibrant café culture. Enjoy a café dinner and consider watching a jazz performance afterward.\n",
       "\n",
       "### Day 3: Exploration and Relaxation\n",
       "\n",
       "**Morning:**\n",
       "- **Palace of Versailles:** Take a short train ride to Versailles. Tour the breathtaking palace and its expansive gardens. Be sure to see the Hall of Mirrors and Marie Antoinette's estates.\n",
       "\n",
       "**Afternoon:**\n",
       "- **Le Marais District:** Return to Paris and explore Le Marais, known for its narrow medieval streets, boutique shops, and trendy art galleries. Don't miss the Picasso Museum or the delicious falafel from L'As du Fallafel.\n",
       "\n",
       "**Evening:**\n",
       "- **Latin Quarter:** Spend your final evening in the lively Latin Quarter. Wander the streets, and perhaps visit the Panthéon. Enjoy a vibrant dinner, and soak up the lively atmosphere.\n",
       "\n",
       "**Optional Evening Activity:**\n",
       "- **Moulin Rouge:** Consider ending your trip with a classic Parisian cabaret show at the Moulin Rouge or another similar venue if you're interested in experiencing Paris nightlife.\n",
       "\n",
       "---\n",
       "\n",
       "Make sure to check opening times and book tickets for popular attractions in advance. Public transportation in Paris is efficient, so consider purchasing a multi-day Metro pass for convenience. Enjoy your trip to the City of Light!"
      ],
      "text/plain": [
       "<IPython.core.display.Markdown object>"
      ]
     },
     "metadata": {},
     "output_type": "display_data"
    },
    {
     "data": {
      "text/markdown": [
       "<hr>"
      ],
      "text/plain": [
       "<IPython.core.display.Markdown object>"
      ]
     },
     "metadata": {},
     "output_type": "display_data"
    },
    {
     "data": {
      "text/markdown": [
       "## Step: 3 (output from local_agent)"
      ],
      "text/plain": [
       "<IPython.core.display.Markdown object>"
      ]
     },
     "metadata": {},
     "output_type": "display_data"
    },
    {
     "name": "stdout",
     "output_type": "stream",
     "text": [
      "Prompt Tokens: 741\n",
      "Completion Tokens: 661\n"
     ]
    },
    {
     "data": {
      "text/markdown": [
       "<hr>"
      ],
      "text/plain": [
       "<IPython.core.display.Markdown object>"
      ]
     },
     "metadata": {},
     "output_type": "display_data"
    },
    {
     "data": {
      "text/markdown": [
       "Here's a detailed itinerary for your 3-day trip to Paris, packed with iconic sites, artistic treasures, and the city's unique, vibrant atmosphere:\n",
       "\n",
       "### Day 1: Iconic Landmarks\n",
       "\n",
       "**Morning:**\n",
       "- **Eiffel Tower:** Begin at the Eiffel Tower. Book your tickets online to avoid long queues. Whether you ascend to the summit or just enjoy the sight from the ground, it's a must-visit.\n",
       "- **Trocadéro Gardens:** After the Eiffel Tower, take a short walk to these gardens for some of the best views and photo opportunities.\n",
       "\n",
       "**Afternoon:**\n",
       "- **Seine River Cruise:** Next, embark on a scenic Seine River cruise. You'll pass by landmarks like Notre-Dame Cathedral, the Louvre, and Musée d'Orsay. It's an excellent way to get acquainted with Paris.\n",
       "\n",
       "**Evening:**\n",
       "- **Champs-Élysées and Arc de Triomphe:** Wander down this famous avenue. Indulge in some shopping or a cup of coffee, then head to the Arc de Triomphe. Climbing to the top offers stunning views over Paris.\n",
       "- **Dinner in Montmartre:** Conclude your day with dinner in Montmartre. This neighborhood is steeped in artistic history. Try local French dishes like escargots or ratatouille.\n",
       "\n",
       "### Day 2: Art and Culture\n",
       "\n",
       "**Morning:**\n",
       "- **Louvre Museum:** Dedicate your morning to exploring the Louvre. Be sure to see essential works like the Mona Lisa and the Venus de Milo. Pre-book your entry to maximize your time.\n",
       "\n",
       "**Afternoon:**\n",
       "- **Tuileries Garden:** Relax in these picturesque gardens for a leisurely stroll or a break.\n",
       "- **Musée d'Orsay:** Walk across the Seine to this museum housed in a former Beaux-Arts railway station. It features a stunning collection of impressionist and post-impressionist art.\n",
       "\n",
       "**Evening:**\n",
       "- **Saint-Germain-des-Prés:** Discover this historic district with its charming cafés and bookstores. Enjoy dinner at a classic bistro, then experience some evening jazz for which the area is renowned.\n",
       "\n",
       "### Day 3: Royalty and Bohemian Vibes\n",
       "\n",
       "**Morning:**\n",
       "- **Palace of Versailles:** Head to Versailles by train. Explore the opulent palace, the Hall of Mirrors, and the expansive gardens. Consider renting a bike or a rowboat to enjoy the grounds.\n",
       "\n",
       "**Afternoon:**\n",
       "- **Le Marais:** Return to Paris and explore Le Marais. Known for its trendy shops and galleries, it's a great place to wander. Don't miss out on a visit to the Picasso Museum and grabbing a famous falafel.\n",
       "\n",
       "**Evening:**\n",
       "- **Latin Quarter:** Spend your final evening in the Latin Quarter, known for its lively ambiance and historic charm. Enjoy dinner at a local restaurant, perhaps venturing into the Panthéon if time allows.\n",
       "\n",
       "**Optional:** \n",
       "- **Moulin Rouge:** If you're interested in experiencing famous Parisian nightlife, consider a cabaret show at the Moulin Rouge or another renowned venue.\n",
       "\n",
       "---\n",
       "\n",
       "Remember to check opening times, book any necessary tickets in advance, and consider using the efficient Paris Métro with a multi-day pass for ease of transport. Enjoy your magical trip to Paris!"
      ],
      "text/plain": [
       "<IPython.core.display.Markdown object>"
      ]
     },
     "metadata": {},
     "output_type": "display_data"
    },
    {
     "data": {
      "text/markdown": [
       "<hr>"
      ],
      "text/plain": [
       "<IPython.core.display.Markdown object>"
      ]
     },
     "metadata": {},
     "output_type": "display_data"
    },
    {
     "data": {
      "text/markdown": [
       "## Step: 4 (output from language_agent)"
      ],
      "text/plain": [
       "<IPython.core.display.Markdown object>"
      ]
     },
     "metadata": {},
     "output_type": "display_data"
    },
    {
     "name": "stdout",
     "output_type": "stream",
     "text": [
      "Prompt Tokens: 1433\n",
      "Completion Tokens: 267\n"
     ]
    },
    {
     "data": {
      "text/markdown": [
       "<hr>"
      ],
      "text/plain": [
       "<IPython.core.display.Markdown object>"
      ]
     },
     "metadata": {},
     "output_type": "display_data"
    },
    {
     "data": {
      "text/markdown": [
       "Your 3-day Paris itinerary covers iconic landmarks, art, culture, and both historic and lively neighborhoods, providing a comprehensive experience of the city. Here are a few language and communication tips to enhance your trip:\n",
       "\n",
       "1. **Basic French Phrases:** While many Parisians speak English, learning a few basic French phrases can be very helpful and appreciated:\n",
       "   - \"Bonjour\" (Hello)\n",
       "   - \"Merci\" (Thank you)\n",
       "   - \"Excusez-moi\" (Excuse me)\n",
       "   - \"Parlez-vous anglais?\" (Do you speak English?)\n",
       "   - \"Je voudrais…\" (I would like…)\n",
       "\n",
       "2. **Mobile Translation Apps:** Consider downloading a translation app like Google Translate, which can be used offline. This can be particularly useful in restaurants or when navigating less tourist-heavy areas.\n",
       "\n",
       "3. **Etiquette Tips:** In Paris, it's customary to greet with a \"Bonjour\" upon entering shops or restaurants and to say \"Merci, au revoir\" when leaving.\n",
       "\n",
       "4. **Dining:** When dining, it's polite to ask politely for the check by saying \"L'addition, s'il vous plaît\" (The bill, please).\n",
       "\n",
       "Your itinerary is well-rounded, and with these language considerations in mind, you should have an enjoyable and smooth experience in Paris. Enjoy your visit to the City of Light!"
      ],
      "text/plain": [
       "<IPython.core.display.Markdown object>"
      ]
     },
     "metadata": {},
     "output_type": "display_data"
    },
    {
     "data": {
      "text/markdown": [
       "<hr>"
      ],
      "text/plain": [
       "<IPython.core.display.Markdown object>"
      ]
     },
     "metadata": {},
     "output_type": "display_data"
    },
    {
     "data": {
      "text/markdown": [
       "## Step: 5 (output from travel_summary_agent)"
      ],
      "text/plain": [
       "<IPython.core.display.Markdown object>"
      ]
     },
     "metadata": {},
     "output_type": "display_data"
    },
    {
     "name": "stdout",
     "output_type": "stream",
     "text": [
      "Prompt Tokens: 1724\n",
      "Completion Tokens: 860\n"
     ]
    },
    {
     "data": {
      "text/markdown": [
       "<hr>"
      ],
      "text/plain": [
       "<IPython.core.display.Markdown object>"
      ]
     },
     "metadata": {},
     "output_type": "display_data"
    },
    {
     "data": {
      "text/markdown": [
       "Here's a comprehensive and integrated 3-day trip plan to Paris, combining itinerary, local advice, and language tips:\n",
       "\n",
       "### Day 1: Iconic Landmarks\n",
       "\n",
       "**Morning:**\n",
       "- **Eiffel Tower:** Kickstart your journey by visiting the world-renowned Eiffel Tower. Book your tickets online ahead of time to avoid lengthy queues. Whether you travel to the summit or admire the tower from the ground, it's a must-visit.\n",
       "- **Trocadéro Gardens:** Take a leisurely stroll to these gardens for some of the best photo opportunities of the Eiffel Tower.\n",
       "\n",
       "**Afternoon:**\n",
       "- **Seine River Cruise:** Take a scenic cruise along the Seine River. It's an ideal way to see major landmarks like Notre-Dame Cathedral and the Louvre while enjoying a unique perspective of the city.\n",
       "\n",
       "**Evening:**\n",
       "- **Champs-Élysées and Arc de Triomphe:** Wander down this illustrious avenue and indulge in some shopping or simply a cup of coffee. Head to the Arc de Triomphe and, if you're up for it, climb to the top for sweeping views of Paris.\n",
       "- **Dinner in Montmartre:** End your day with dinner in the artistic neighborhood of Montmartre, perhaps at a cozy bistro. Try French favorites like escargots or coq au vin. Capture the charm of this vibrant area with a visit to the iconic Sacré-Cœur Basilica, enjoying the city's nocturnal views.\n",
       "\n",
       "### Day 2: Art and Culture\n",
       "\n",
       "**Morning:**\n",
       "- **Louvre Museum:** Spend the morning exploring the Louvre Museum, home to world-famous pieces like the Mona Lisa and the Venus de Milo. Pre-book your tickets to maximize your time.\n",
       "\n",
       "**Afternoon:**\n",
       "- **Tuileries Garden:** Rest and enjoy a stroll through these scenic gardens.\n",
       "- **Musée d'Orsay:** A short walk away, visit the Musée d'Orsay. This museum in a former railway station boasts a fantastic collection of Impressionist and Post-Impressionist masterpieces.\n",
       "\n",
       "**Evening:**\n",
       "- **Saint-Germain-des-Prés:** Immerse yourself in this historic district known for its vibrant café culture. Dine at a classic French bistro followed by an evening of live jazz, which the area is renowned for.\n",
       "\n",
       "### Day 3: Royal Tour and Bohemian Vibes\n",
       "\n",
       "**Morning:**\n",
       "- **Palace of Versailles:** Venture to the Palace of Versailles via a short train ride. Tour the sumptuous palace, the Hall of Mirrors, and explore its regal gardens. Consider renting a bike or rowboat here for a leisurely afternoon.\n",
       "\n",
       "**Afternoon:**\n",
       "- **Le Marais:** Back in Paris, explore Le Marais. Known for its charming streets, boutiques, and art galleries. Visit the Picasso Museum and delight in a famous falafel at L'As du Fallafel.\n",
       "\n",
       "**Evening:**\n",
       "- **Latin Quarter:** Spend your last evening in Paris at the lively Latin Quarter. Explore its historic streets, soak in its spirited ambiance, and enjoy dinner at a local eatery. Visit the Panthéon if time allows.\n",
       "\n",
       "**Optional Nightcap:**\n",
       "- **Moulin Rouge:** For an iconic Parisian nightlife experience, consider a show at the Moulin Rouge or a similar classic venue.\n",
       "\n",
       "### Language and Communication Tips:\n",
       "\n",
       "1. **Basic French Phrases:** Though English is widely spoken, knowing basics like \"Bonjour\" (Hello), \"Merci\" (Thank you), \"Excusez-moi\" (Excuse me), and \"L'addition, s'il vous plaît\" (The bill, please) can go a long way.\n",
       "2. **Mobile Translation Apps:** Equip yourself with apps like Google Translate. It can be especially handy at restaurants or in less tourist-heavy locations.\n",
       "3. **Etiquette:** Always greet with a \"Bonjour\" when entering stores or restaurants and say \"Merci, au revoir\" as you leave.\n",
       "\n",
       "### Travel Tips:\n",
       "- **Transport:** Make good use of Paris's efficient Métro system with a multi-day pass for convenience.\n",
       "- **Advance Bookings:** Ensure tickets for busy attractions are booked in advance to save time.\n",
       "  \n",
       "Enjoy every moment in the enchanting City of Light, immersing yourself in its beauty, history, and culture. Safe travels!\n",
       "\n",
       "TERMINATE"
      ],
      "text/plain": [
       "<IPython.core.display.Markdown object>"
      ]
     },
     "metadata": {},
     "output_type": "display_data"
    },
    {
     "data": {
      "text/markdown": [
       "<hr>"
      ],
      "text/plain": [
       "<IPython.core.display.Markdown object>"
      ]
     },
     "metadata": {},
     "output_type": "display_data"
    },
    {
     "name": "stdout",
     "output_type": "stream",
     "text": [
      "Total Prompt Tokens: 3938\n",
      "Total Completion Tokens: 2473\n",
      "Total Tokens: 6411\n"
     ]
    }
   ],
   "source": [
    "from IPython.display import Markdown, display\n",
    "\n",
    "total_prompt_tokens = 0\n",
    "total_completion_tokens = 0\n",
    "\n",
    "for index, message in enumerate(result.messages, start=1):\n",
    "    display(Markdown('<hr>'))\n",
    "    text = f\"## Step: {index} (output from {message.source})\"\n",
    "    display(Markdown(text))\n",
    "\n",
    "    if message.models_usage:\n",
    "        print(f'Prompt Tokens: {message.models_usage.prompt_tokens}')\n",
    "        print(f'Completion Tokens: {message.models_usage.completion_tokens}')\n",
    "        total_prompt_tokens += message.models_usage.prompt_tokens\n",
    "        total_completion_tokens += message.models_usage.completion_tokens\n",
    "    display(Markdown('<hr>'))\n",
    "\n",
    "    display(Markdown(message.content))\n",
    "\n",
    "display(Markdown('<hr>'))\n",
    "print(f'Total Prompt Tokens: {total_prompt_tokens}')\n",
    "print(f'Total Completion Tokens: {total_completion_tokens}')\n",
    "print(f'Total Tokens: {total_prompt_tokens + total_completion_tokens}')"
   ]
  }
 ],
 "metadata": {
  "kernelspec": {
   "display_name": ".venv",
   "language": "python",
   "name": "python3"
  },
  "language_info": {
   "codemirror_mode": {
    "name": "ipython",
    "version": 3
   },
   "file_extension": ".py",
   "mimetype": "text/x-python",
   "name": "python",
   "nbconvert_exporter": "python",
   "pygments_lexer": "ipython3",
   "version": "3.10.15"
  }
 },
 "nbformat": 4,
 "nbformat_minor": 2
}
