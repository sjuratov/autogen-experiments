{
 "cells": [
  {
   "cell_type": "markdown",
   "metadata": {},
   "source": [
    "Create .env file and then make sure that it has following variables\n",
    "```\n",
    "AZURE_OPENAI_API_KEY=\"xxx\"\n",
    "AZURE_OPENAI_ENDPOINT=\"https://xxx.openai.azure.com/\"\n",
    "AZURE_OPENAI_DEPLOYMENT=\"gpt-4o-2024-08-06\"\n",
    "API_NINJAS_API_KEY=\"xxx\"\n",
    "```\n",
    "\n",
    "Note:\n",
    "- Use https://api-ninjas.com/ to get API_NINJAS_API_KEY. Use monthly free subscription at minimum\n",
    "- Use Azure OpenAI resource to get AZURE_OPENAI_ variables."
   ]
  },
  {
   "cell_type": "markdown",
   "metadata": {},
   "source": [
    "# Create Azure OpenAI Client"
   ]
  },
  {
   "cell_type": "code",
   "execution_count": 1,
   "metadata": {},
   "outputs": [],
   "source": [
    "from autogen_ext.models import AzureOpenAIChatCompletionClient\n",
    "from dotenv import load_dotenv\n",
    "import os\n",
    "import requests"
   ]
  },
  {
   "cell_type": "code",
   "execution_count": 2,
   "metadata": {},
   "outputs": [],
   "source": [
    "# Load environment variables from a .env file\n",
    "load_dotenv()\n",
    "\n",
    "# Access environment variables\n",
    "AZURE_OPENAI_API_KEY = os.getenv('AZURE_OPENAI_API_KEY')\n",
    "AZURE_OPENAI_ENDPOINT = os.getenv('AZURE_OPENAI_ENDPOINT')\n",
    "AZURE_OPENAI_DEPLOYMENT = os.getenv('AZURE_OPENAI_DEPLOYMENT')\n",
    "API_NINJAS_API_KEY=os.getenv('API_NINJAS_API_KEY')"
   ]
  },
  {
   "cell_type": "code",
   "execution_count": 3,
   "metadata": {},
   "outputs": [],
   "source": [
    "client = AzureOpenAIChatCompletionClient(\n",
    "    model=AZURE_OPENAI_DEPLOYMENT,\n",
    "    api_version=\"2024-02-01\",\n",
    "    azure_endpoint=AZURE_OPENAI_ENDPOINT,\n",
    "    azure_key=AZURE_OPENAI_API_KEY,\n",
    "    model_capabilities={\n",
    "        \"vision\":True,\n",
    "        \"function_calling\":True,\n",
    "        \"json_output\":True,\n",
    "    }\n",
    ")"
   ]
  },
  {
   "cell_type": "markdown",
   "metadata": {},
   "source": [
    "# Define function to get temperature for a given city"
   ]
  },
  {
   "cell_type": "code",
   "execution_count": 4,
   "metadata": {},
   "outputs": [],
   "source": [
    "async def get_temp(city: str) -> str:\n",
    "\n",
    "    # First get the latitude and longitude of the city\n",
    "    api_url = 'https://api.api-ninjas.com/v1/city?name={}'.format(city)\n",
    "    response = requests.get(api_url, headers={'X-Api-Key': API_NINJAS_API_KEY})\n",
    "    lat = response.json()[0]['latitude']\n",
    "    lon = response.json()[0]['longitude']\n",
    "\n",
    "    # Now get the weather\n",
    "    api_url = f'https://api.api-ninjas.com/v1/weather?lat={lat}&lon={lon}'\n",
    "    response = requests.get(api_url, headers={'X-Api-Key': API_NINJAS_API_KEY})\n",
    "    temp = response.json()['temp']\n",
    "\n",
    "    return f'Current temperature in {city} is {temp} degrees'"
   ]
  },
  {
   "cell_type": "markdown",
   "metadata": {},
   "source": [
    "# Create and Run AutoGen Agents"
   ]
  },
  {
   "cell_type": "code",
   "execution_count": 5,
   "metadata": {},
   "outputs": [],
   "source": [
    "from autogen_agentchat.agents import AssistantAgent\n",
    "from autogen_agentchat.task import Console, TextMentionTermination\n",
    "from autogen_agentchat.teams import RoundRobinGroupChat"
   ]
  },
  {
   "cell_type": "code",
   "execution_count": 6,
   "metadata": {},
   "outputs": [],
   "source": [
    "async def main(city: str) -> None:\n",
    "    # Define an agent\n",
    "    weather_agent = AssistantAgent(\n",
    "        name=\"weather_agent\",\n",
    "        model_client=client,\n",
    "        tools=[get_temp],\n",
    "    )\n",
    "\n",
    "    # Define termination condition\n",
    "    termination = TextMentionTermination(\"TERMINATE\")\n",
    "\n",
    "    # Define a team\n",
    "    agent_team = RoundRobinGroupChat([weather_agent], termination_condition=termination)\n",
    "\n",
    "    # Run the team and stream messages to the console\n",
    "    stream = agent_team.run_stream(task=f\"What is current temperature in {city}?\")\n",
    "    await Console(stream)\n"
   ]
  },
  {
   "cell_type": "code",
   "execution_count": 7,
   "metadata": {},
   "outputs": [
    {
     "name": "stdout",
     "output_type": "stream",
     "text": [
      "---------- user ----------\n",
      "What is current temperature in Paris?\n",
      "---------- weather_agent ----------\n",
      "[FunctionCall(id='call_5dhocGc4YgWXkkVQugA10ncp', arguments='{\"city\":\"Paris\"}', name='get_temp')]\n",
      "[Prompt tokens: 78, Completion tokens: 14]\n",
      "---------- weather_agent ----------\n",
      "[FunctionExecutionResult(content='Current temperature in Paris is 5 degrees', call_id='call_5dhocGc4YgWXkkVQugA10ncp')]\n",
      "---------- weather_agent ----------\n",
      "The current temperature in Paris is 5 degrees.\n",
      "[Prompt tokens: 84, Completion tokens: 11]\n",
      "---------- weather_agent ----------\n",
      "TERMINATE\n",
      "[Prompt tokens: 128, Completion tokens: 4]\n",
      "---------- Summary ----------\n",
      "Number of messages: 5\n",
      "Finish reason: Text 'TERMINATE' mentioned\n",
      "Total prompt tokens: 290\n",
      "Total completion tokens: 29\n",
      "Duration: 40.91 seconds\n"
     ]
    }
   ],
   "source": [
    "await main(city='Paris')"
   ]
  }
 ],
 "metadata": {
  "kernelspec": {
   "display_name": ".venv",
   "language": "python",
   "name": "python3"
  },
  "language_info": {
   "codemirror_mode": {
    "name": "ipython",
    "version": 3
   },
   "file_extension": ".py",
   "mimetype": "text/x-python",
   "name": "python",
   "nbconvert_exporter": "python",
   "pygments_lexer": "ipython3",
   "version": "3.10.16"
  }
 },
 "nbformat": 4,
 "nbformat_minor": 2
}
